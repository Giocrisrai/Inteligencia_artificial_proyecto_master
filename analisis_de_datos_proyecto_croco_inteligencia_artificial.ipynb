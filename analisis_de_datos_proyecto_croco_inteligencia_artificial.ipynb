{
  "nbformat": 4,
  "nbformat_minor": 0,
  "metadata": {
    "colab": {
      "name": "analisis de datos proyecto croco inteligencia artificial.ipynb",
      "provenance": [],
      "collapsed_sections": [
        "gLPNn4qXU2kE",
        "A8z0DaxMVdKj",
        "Ks29f8qIWHiB",
        "AkpZsNTBudoy",
        "JQNXQ4N0Z-gr",
        "etHHSs72MjPa"
      ],
      "toc_visible": true,
      "include_colab_link": true
    },
    "kernelspec": {
      "name": "python3",
      "display_name": "Python 3"
    }
  },
  "cells": [
    {
      "cell_type": "markdown",
      "metadata": {
        "id": "view-in-github",
        "colab_type": "text"
      },
      "source": [
        "<a href=\"https://colab.research.google.com/github/Giocrisrai/Inteligencia_artificial_proyecto_master/blob/main/analisis_de_datos_proyecto_croco_inteligencia_artificial.ipynb\" target=\"_parent\"><img src=\"https://colab.research.google.com/assets/colab-badge.svg\" alt=\"Open In Colab\"/></a>"
      ]
    },
    {
      "cell_type": "markdown",
      "metadata": {
        "id": "BgExvzEsT2z9"
      },
      "source": [
        "# Exploración de los datos provenientes del modelo CROCO-OCEAN proveniente de las Islas Clarence al sur de Chile"
      ]
    },
    {
      "cell_type": "markdown",
      "metadata": {
        "id": "x_GHtLkUUXrC"
      },
      "source": [
        "## Se procede a instalar el paquete que permite leer los archivos netCDF4 "
      ]
    },
    {
      "cell_type": "code",
      "metadata": {
        "id": "Uz25AjrUUhiZ",
        "colab": {
          "base_uri": "https://localhost:8080/"
        },
        "outputId": "5a68b028-a7c4-48b9-dbab-ad7e71f2e3ac"
      },
      "source": [
        "!pip install netCDF4"
      ],
      "execution_count": null,
      "outputs": [
        {
          "output_type": "stream",
          "text": [
            "Requirement already satisfied: netCDF4 in /usr/local/lib/python3.6/dist-packages (1.5.5.1)\n",
            "Requirement already satisfied: cftime in /usr/local/lib/python3.6/dist-packages (from netCDF4) (1.3.1)\n",
            "Requirement already satisfied: numpy>=1.9 in /usr/local/lib/python3.6/dist-packages (from netCDF4) (1.19.5)\n"
          ],
          "name": "stdout"
        }
      ]
    },
    {
      "cell_type": "markdown",
      "metadata": {
        "id": "ku8W7gG6Yy5h"
      },
      "source": [
        "instalación de paquete que permite leer datos geograficos"
      ]
    },
    {
      "cell_type": "code",
      "metadata": {
        "id": "bP1DBu7dYxDx",
        "colab": {
          "base_uri": "https://localhost:8080/"
        },
        "outputId": "7ad42cd9-2a66-4ee0-f38b-c3e4529dee62"
      },
      "source": [
        "!apt-get install libgeos-3.5.0\n",
        "!apt-get install libgeos-dev\n",
        "!pip install https://github.com/matplotlib/basemap/archive/master.zip"
      ],
      "execution_count": null,
      "outputs": [
        {
          "output_type": "stream",
          "text": [
            "Reading package lists... Done\n",
            "Building dependency tree       \n",
            "Reading state information... Done\n",
            "E: Unable to locate package libgeos-3.5.0\n",
            "E: Couldn't find any package by glob 'libgeos-3.5.0'\n",
            "E: Couldn't find any package by regex 'libgeos-3.5.0'\n",
            "Reading package lists... Done\n",
            "Building dependency tree       \n",
            "Reading state information... Done\n",
            "libgeos-dev is already the newest version (3.6.2-1build2).\n",
            "0 upgraded, 0 newly installed, 0 to remove and 13 not upgraded.\n",
            "Collecting https://github.com/matplotlib/basemap/archive/master.zip\n",
            "  Using cached https://github.com/matplotlib/basemap/archive/master.zip\n",
            "Requirement already satisfied (use --upgrade to upgrade): basemap==1.2.2+dev from https://github.com/matplotlib/basemap/archive/master.zip in /usr/local/lib/python3.6/dist-packages\n",
            "Requirement already satisfied: matplotlib!=3.0.1,>=1.0.0 in /usr/local/lib/python3.6/dist-packages (from basemap==1.2.2+dev) (3.2.2)\n",
            "Requirement already satisfied: numpy>=1.2.1 in /usr/local/lib/python3.6/dist-packages (from basemap==1.2.2+dev) (1.19.5)\n",
            "Requirement already satisfied: pyproj>=1.9.3 in /usr/local/lib/python3.6/dist-packages (from basemap==1.2.2+dev) (1.9.6)\n",
            "Requirement already satisfied: pyshp>=1.2.0 in /usr/local/lib/python3.6/dist-packages (from basemap==1.2.2+dev) (2.1.3)\n",
            "Requirement already satisfied: six in /usr/local/lib/python3.6/dist-packages (from basemap==1.2.2+dev) (1.15.0)\n",
            "Requirement already satisfied: python-dateutil>=2.1 in /usr/local/lib/python3.6/dist-packages (from matplotlib!=3.0.1,>=1.0.0->basemap==1.2.2+dev) (2.8.1)\n",
            "Requirement already satisfied: pyparsing!=2.0.4,!=2.1.2,!=2.1.6,>=2.0.1 in /usr/local/lib/python3.6/dist-packages (from matplotlib!=3.0.1,>=1.0.0->basemap==1.2.2+dev) (2.4.7)\n",
            "Requirement already satisfied: kiwisolver>=1.0.1 in /usr/local/lib/python3.6/dist-packages (from matplotlib!=3.0.1,>=1.0.0->basemap==1.2.2+dev) (1.3.1)\n",
            "Requirement already satisfied: cycler>=0.10 in /usr/local/lib/python3.6/dist-packages (from matplotlib!=3.0.1,>=1.0.0->basemap==1.2.2+dev) (0.10.0)\n",
            "Building wheels for collected packages: basemap\n",
            "  Building wheel for basemap (setup.py) ... \u001b[?25l\u001b[?25hdone\n",
            "  Created wheel for basemap: filename=basemap-1.2.2+dev-cp36-cp36m-linux_x86_64.whl size=121757483 sha256=d6a7d7e5aaca2673fcbbc2c89e726ea2f84407df3d0db54f0e564b9eee340ec2\n",
            "  Stored in directory: /tmp/pip-ephem-wheel-cache-m7ume4jy/wheels/98/4a/fc/ce719b75d97e646645c225f3332b1b217536100314922e9572\n",
            "Successfully built basemap\n"
          ],
          "name": "stdout"
        }
      ]
    },
    {
      "cell_type": "code",
      "metadata": {
        "id": "52jvfd9XbMaR",
        "colab": {
          "base_uri": "https://localhost:8080/"
        },
        "outputId": "8d365abf-8fe9-40ec-b61c-94b1efab96c8"
      },
      "source": [
        "!pip install pyproj==1.9.6"
      ],
      "execution_count": null,
      "outputs": [
        {
          "output_type": "stream",
          "text": [
            "Requirement already satisfied: pyproj==1.9.6 in /usr/local/lib/python3.6/dist-packages (1.9.6)\n"
          ],
          "name": "stdout"
        }
      ]
    },
    {
      "cell_type": "markdown",
      "metadata": {
        "id": "iFLFZ7d7UraF"
      },
      "source": [
        "## Se procede a importar las principales librerias para el manejo de los datos"
      ]
    },
    {
      "cell_type": "code",
      "metadata": {
        "id": "fYXlBpZ1Uks4"
      },
      "source": [
        "import os\n",
        "import datetime\n",
        "\n",
        "import numpy as np\n",
        "import pandas as pd\n",
        "\n",
        "from mpl_toolkits.basemap import Basemap, shiftgrid, cm\n",
        "\n",
        "import warnings\n",
        "warnings.filterwarnings('ignore')\n",
        "import datetime\n",
        "import h5py\n",
        "import netCDF4 as nc\n",
        "from netCDF4 import num2date, date2num, date2index\n",
        "\n",
        "\n",
        "import matplotlib.pyplot as plt\n",
        "%matplotlib inline"
      ],
      "execution_count": null,
      "outputs": []
    },
    {
      "cell_type": "markdown",
      "metadata": {
        "id": "m9UJmyYVTwkY"
      },
      "source": [
        "### Para trabajar en google colab y montar en el drive es necesario habilitar el uso de las librerias de Drive para el uso de google colab"
      ]
    },
    {
      "cell_type": "code",
      "metadata": {
        "id": "7Xn6rpQr_nlO",
        "colab": {
          "base_uri": "https://localhost:8080/"
        },
        "outputId": "1366ae1b-3c63-49dd-f6e4-ad0728ebedfb"
      },
      "source": [
        "from google.colab import drive\n",
        "drive.mount ('/content/gdrive', force_remount = True)"
      ],
      "execution_count": null,
      "outputs": [
        {
          "output_type": "stream",
          "text": [
            "Mounted at /content/gdrive\n"
          ],
          "name": "stdout"
        }
      ]
    },
    {
      "cell_type": "markdown",
      "metadata": {
        "id": "FD_GCOROa46E"
      },
      "source": [
        "### Funciones "
      ]
    },
    {
      "cell_type": "markdown",
      "metadata": {
        "id": "xasq88bQb42O"
      },
      "source": [
        "Permite ver las dimensiones del dataset en formato nc"
      ]
    },
    {
      "cell_type": "code",
      "metadata": {
        "id": "vJD1aJ8xY-BT"
      },
      "source": [
        "def dimensiones(data):\n",
        "  for dim in data.dimensions.values():\n",
        "    print(dim)"
      ],
      "execution_count": null,
      "outputs": []
    },
    {
      "cell_type": "markdown",
      "metadata": {
        "id": "DI4E8oM1b_0q"
      },
      "source": [
        "Permite visualizar los valores de las variables del dataset en formato nc"
      ]
    },
    {
      "cell_type": "code",
      "metadata": {
        "id": "HFkZW35XbMuK"
      },
      "source": [
        "def variab (data):\n",
        "  for var in data.variables.values():\n",
        "    print(var)"
      ],
      "execution_count": null,
      "outputs": []
    },
    {
      "cell_type": "markdown",
      "metadata": {
        "id": "gLPNn4qXU2kE"
      },
      "source": [
        "## Manejo de los dataset con los cuales se va a trabajar"
      ]
    },
    {
      "cell_type": "markdown",
      "metadata": {
        "id": "qfOAUXcMVoFa"
      },
      "source": [
        "Campaña de verano"
      ]
    },
    {
      "cell_type": "code",
      "metadata": {
        "id": "itcM5pnU9FyP"
      },
      "source": [
        "modeType   = 'r'\n",
        "fileFormat = 'NETCDF4'"
      ],
      "execution_count": null,
      "outputs": []
    },
    {
      "cell_type": "code",
      "metadata": {
        "id": "FiBKtyIgUwuu",
        "colab": {
          "base_uri": "https://localhost:8080/"
        },
        "outputId": "701c1e97-bdc8-4e75-a770-ffa00cc77436"
      },
      "source": [
        "url = '/content/gdrive/MyDrive/Colab Notebooks/croco_his3feb_mar.nc4'\n",
        "ds = nc.Dataset(url, mode=modeType, format=fileFormat)\n",
        "ds"
      ],
      "execution_count": null,
      "outputs": [
        {
          "output_type": "execute_result",
          "data": {
            "text/plain": [
              "<class 'netCDF4._netCDF4.Dataset'>\n",
              "root group (NETCDF3_64BIT_OFFSET data model, file format NETCDF3):\n",
              "    type: ROMS history file\n",
              "    title: BENGUELA TEST MODEL ZOOM LEVEL #4\n",
              "    date: \n",
              "    rst_file: /media/usuario/DATA/croco/rclarence/salidasi/croco_rst3.nc.4\n",
              "    his_file: /media/usuario/DATA/croco/rclarence/salidasi/croco_his3.nc.4\n",
              "    avg_file: /media/usuario/DATA/croco/rclarence/salidasi/croco_avg3.nc.4\n",
              "    grd_file: /media/usuario/DATA/croco/rclarence/entradasi/croco_grd.nc.4\n",
              "    ini_file: /media/usuario/DATA/croco/rclarence/entradasi/croco_ini.nc.4\n",
              "    frc_file: /media/usuario/DATA/croco/rclarence/entradasi/croco_frc.nc.4\n",
              "    VertCoordType: NEW\n",
              "    skpp: 2005\n",
              "    theta_s: 6.0\n",
              "    theta_s_expl: S-coordinate surface control parameter\n",
              "    theta_b: 0.0\n",
              "    theta_b_expl: S-coordinate bottom control parameter\n",
              "    Tcline: 70.0\n",
              "    Tcline_expl: S-coordinate surface/bottom layer width\n",
              "    Tcline_units: meter\n",
              "    hc: 70.0\n",
              "    hc_expl: S-coordinate parameter, critical depth\n",
              "    hc_units: meter\n",
              "    sc_w: [-1.         -0.96666664 -0.93333334 -0.9        -0.8666667  -0.8333333\n",
              " -0.8        -0.76666665 -0.73333335 -0.7        -0.6666667  -0.6333333\n",
              " -0.6        -0.56666666 -0.53333336 -0.5        -0.46666667 -0.43333334\n",
              " -0.4        -0.36666667 -0.33333334 -0.3        -0.26666668 -0.23333333\n",
              " -0.2        -0.16666667 -0.13333334 -0.1        -0.06666667 -0.03333334\n",
              "  0.        ]\n",
              "    sc_w_expl: S-coordinate at W-points\n",
              "    Cs_w: [-1.0000000e+00 -8.1783015e-01 -6.6868258e-01 -5.4657161e-01\n",
              " -4.4659638e-01 -3.6474463e-01 -2.9773128e-01 -2.4286690e-01\n",
              " -1.9794956e-01 -1.6117659e-01 -1.3107216e-01 -1.0642807e-01\n",
              " -8.6255260e-02 -6.9744125e-02 -5.6232024e-02 -4.5176659e-02\n",
              " -3.6134347e-02 -2.8742185e-02 -2.2703499e-02 -1.7775936e-02\n",
              " -1.3761736e-02 -1.0499796e-02 -7.8592012e-03 -5.7339752e-03\n",
              " -4.0388261e-03 -2.7057217e-03 -1.6811593e-03 -9.2401978e-04\n",
              " -4.0391658e-04 -9.9976045e-05  0.0000000e+00]\n",
              "    Cs_w_expl: S-coordinate stretching curves at W-points\n",
              "    sc_r: [-0.98333335 -0.95       -0.9166667  -0.8833333  -0.85       -0.81666666\n",
              " -0.78333336 -0.75       -0.71666664 -0.68333334 -0.65       -0.6166667\n",
              " -0.5833333  -0.55       -0.51666665 -0.48333332 -0.45       -0.41666666\n",
              " -0.38333333 -0.35       -0.31666666 -0.28333333 -0.25       -0.21666667\n",
              " -0.18333334 -0.15       -0.11666667 -0.08333334 -0.05       -0.01666667]\n",
              "    sc_r_expl: S-coordinate at W-points\n",
              "    Cs_r: [-9.0436453e-01 -7.3953068e-01 -6.0457677e-01 -4.9408656e-01\n",
              " -4.0362576e-01 -3.2956383e-01 -2.6892841e-01 -2.1928595e-01\n",
              " -1.7864418e-01 -1.4537199e-01 -1.1813402e-01 -9.5837146e-02\n",
              " -7.7586502e-02 -6.2649630e-02 -5.0427064e-02 -4.0428262e-02\n",
              " -3.2251939e-02 -2.5569953e-02 -2.0114131e-02 -1.5665513e-02\n",
              " -1.2045557e-02 -9.1089839e-03 -6.7379386e-03 -4.8372624e-03\n",
              " -3.3306750e-03 -2.1577112e-03 -1.2712961e-03 -6.3585461e-04\n",
              " -2.2588432e-04 -2.4931631e-05]\n",
              "    Cs_r_expl: S-coordinate stretching curves at RHO-points\n",
              "    ntimes: 1\n",
              "    ndtfast: 40\n",
              "    dt: 10.0\n",
              "    dtfast: 0.25\n",
              "    nwrt: 360\n",
              "    ntsavg: 1\n",
              "    ntsavg_expl: starting time-step for accumulation of time-averaged fields\n",
              "    navg: 58320\n",
              "    navg_expl: number of time-steps between time-averaged records\n",
              "    visc2: 0.0\n",
              "    visc2_expl: Laplacian mixing coefficient for momentum\n",
              "    visc2_units: meter2 second-1\n",
              "    rdrg: 0.0003\n",
              "    rdrg_expl: linear drag coefficient\n",
              "    rdrg_units: meter second-1\n",
              "    rho0: 1025.0\n",
              "    rho0_expl: Mean density used in Boussinesq approximation\n",
              "    rho0_units: kilogram meter-3\n",
              "    gamma2: 1.0\n",
              "    gamma2_expl: Slipperiness parameter\n",
              "    x_sponge: 0.0\n",
              "    v_sponge: 0.0\n",
              "    sponge_expl: Sponge parameters : extent (m) & viscosity (m2.s-1)\n",
              "    SRCS: main.F step.F read_inp.F timers_roms.F init_scalars.F init_arrays.F set_weights.F set_scoord.F ana_grid.F setup_grid1.F setup_grid2.F set_nudgcof.F ana_initial.F analytical.F zonavg.F step2d.F u2dbc.F v2dbc.F zetabc.F obc_volcons.F pre_step3d.F step3d_t.F step3d_uv1.F step3d_uv2.F prsgrd.F rhs3d.F set_depth.F omega.F uv3dmix.F uv3dmix_spg.F t3dmix.F t3dmix_spg.F hmix_coef.F wetdry.F u3dbc.F v3dbc.F t3dbc.F step3d_fast.F step3d_w.F rhs3d_w_nh.F initial_nbq.F grid_nbq.F unbq_bc.F vnbq_bc.F wnbq_bc.F rnbq_bc.F w3dbc.F nbq_bry_store.F rho_eos.F ab_ratio.F alfabeta.F ana_vmix.F bvf_mix.F lmd_vmix.F gls_mixing.F lmd_skpp.F lmd_bkpp.F lmd_swfrac.F lmd_wscale.F diag.F wvlcty.F checkdims.F grid_stiffness.F bio_diag.F setup_kwds.F check_kwds.F check_srcs.F check_switches1.F check_switches2.F debug.F param.F ncscrum.F scalars.F output.F put_global_atts.F nf_fread.F nf_fread_x.F nf_fread_y.F nf_read_bry.F get_date.F lenstr.F closecdf.F insert_node.F fillvalue.F nf_add_attribute.F set_cycle.F def_grid_2d.F def_grid_3d.F def_his.F def_rst.F def_diags.F def_diagsM.F def_bio_diags.F wrt_grid.F wrt_his.F wrt_avg.F wrt_rst.F wrt_diags.F wrt_diags_avg.F wrt_diagsM.F wrt_diagsM_avg.F wrt_bio_diags.F wrt_bio_diags_avg.F set_avg.F set_diags_avg.F set_diagsM_avg.F set_bio_diags_avg.F def_diags_vrt.F wrt_diags_vrt.F set_diags_vrt.F set_diags_vrt_avg.F wrt_diags_vrt_avg.F def_diags_ek.F wrt_diags_ek.F set_diags_ek.F set_diags_ek_avg.F wrt_diags_ek_avg.F def_diags_pv.F wrt_diags_pv.F set_diags_pv.F set_diags_pv_avg.F wrt_diags_pv_avg.F def_diags_eddy.F set_diags_eddy_avg.F wrt_diags_eddy_avg.F def_surf.F wrt_surf.F set_surf_avg.F wrt_surf_avg.F get_grid.F get_initial.F get_vbc.F get_wwave.F get_tclima.F get_uclima.F get_ssh.F get_sss.F get_smflux.F get_stflux.F get_srflux.F get_sst.F mod_tides_mas.F tidedata.F mas.F get_tides.F clm_tides.F get_bulk.F bulk_flux.F get_bry.F get_bry_bio.F sstskin.F get_psource.F get_psource_ts.F cfb_stress.F mrl_wci.F wkb_wwave.F wkbbc.F get_bry_wkb.F online_bulk_var.F online_get_bulk.F online_interp.F online_interpolate_bulk.F online_set_bulk.F init_floats.F wrt_floats.F step_floats.F rhs_floats.F interp_rho.F def_floats.F init_arrays_floats.F random_walk.F get_initial_floats.F init_sta.F wrt_sta.F step_sta.F interp_sta.F def_sta.F init_arrays_sta.F biology.F o2sato.F sediment.F bbl.F MPI_Setup.F MessPass2D.F MessPass3D.F exchange.F autotiling.F zoom.F update2D.F set_nudgcof_fine.F zoombc_2D.F zoombc_3D.F uv3dpremix.F t3dpremix.F update3D.F zoombc_3Dfast.F Agrif2Model.F send_xios_diags.F cpl_prism_define.F cpl_prism_put.F cpl_prism_init.F cpl_prism_get.F cpl_prism_getvar.F cpl_prism_grid.F par_pisces.F90 ocean2pisces.F90 trc.F90 sms_pisces.F90 p4zche.F90 p4zint.F90 p4zlys.F90 p4zflx.F90 p4zlim.F90 p4zsink.F90 p4zmicro.F90 p4zmeso.F90 p4zmort.F90 p4zopt.F90 p4zprod.F90 p4zrem.F90 p4zsed.F90 p4zbio.F90 trcwri_pisces.F90 trcsms_pisces.F90 trcini_pisces.F90 pisces_ini.F90 module_parameter_oa.F90 module_oa_time.F90 module_oa_space.F90 module_oa_periode.F90 module_oa_variables.F90 module_oa_type.F90 module_oa_stock.F90 module_oa_level.F90 module_oa_interface.F90 module_oa_upd.F90 croco_oa.F90 var_oa.F90 tooldatosec.F90 toolsectodat.F90 tooldecompdat.F90\n",
              "    CPP-options: REGIONAL CLARENCE MPI AGRIF AGRIF_2WAY TIDES OBC_EAST OBC_WEST OBC_NORTH OBC_SOUTH BIOLOGY CURVGRID SPHERICAL MASKING NEW_S_COORD SOLVE3D UV_COR UV_ADV SALINITY NONLIN_EOS SPLIT_EOS UV_HADV_WENO5 UV_VIS2 UV_VIS_SMAGO UV_MIX_S UV_VADV_WENO5 TS_HADV_WENO5 TS_MIX_S TS_VADV_WENO5 SPONGE LMD_MIXING LMD_SKPP LMD_BKPP LMD_RIMIX LMD_CONVEC LMD_NONLOCAL ANA_DIURNAL_SW QCORRECTION SFLX_CORR CLIMATOLOGY ZCLIMATOLOGY M2CLIMATOLOGY M3CLIMATOLOGY TCLIMATOLOGY ZNUDGING M2NUDGING M3NUDGING TNUDGING ANA_BSFLUX ANA_BTFLUX SSH_TIDES UV_TIDES POT_TIDES TIDERAMP OBC_M2CHARACT OBC_M3ORLANSKI OBC_TORLANSKI AVERAGES AVERAGES_K BIO_HADV_WENO5 PISCES JAULAS key_pisces M2FILTER_POWER HZR VAR_RHO_2D VIS_COEF_3D NTRA_T3DMIX SPONGE_GRID SPONGE_DIF2 SPONGE_VIS2 LMD_SKPP2005 key_trc_pisces key_passivetrc key_agrif AGRIF_UPDATE_MIX AGRIF_CONSERV_VOL AGRIF_OBC_EAST AGRIF_OBC_WEST AGRIF_OBC_NORTH AGRIF_OBC_SOUTH AGRIF_FLUX_BC AGRIF_OBC_M2SPECIFIED AGRIF_OBC_M3SPECIFIED AGRIF_OBC_TSPECIFIED NF_CLOBBER\n",
              "    dimensions(sizes): xi_rho(182), xi_u(181), eta_rho(311), eta_v(310), s_rho(30), s_w(31), time(1023), auxil(4)\n",
              "    variables(dimensions): |S1 spherical(), float32 xl(), float32 el(), float32 xi_rho(xi_rho), float32 xi_u(xi_u), float32 eta_rho(eta_rho), float32 eta_v(eta_v), float32 Vtransform(), float32 s_rho(s_rho), float32 s_w(s_w), float32 sc_r(s_rho), float32 sc_w(s_w), float32 Cs_r(s_rho), float32 Cs_w(s_w), float32 hc(), float32 h(eta_rho, xi_rho), float32 f(eta_rho, xi_rho), float32 pm(eta_rho, xi_rho), float32 pn(eta_rho, xi_rho), float32 lon_rho(eta_rho, xi_rho), float32 lat_rho(eta_rho, xi_rho), float32 lon_u(eta_rho, xi_u), float32 lat_u(eta_rho, xi_u), float32 lon_v(eta_v, xi_rho), float32 lat_v(eta_v, xi_rho), float32 angle(eta_rho, xi_rho), float32 mask_rho(eta_rho, xi_rho), int32 time_step(time, auxil), float64 scrum_time(time), float64 time(time), float32 zeta(time, eta_rho, xi_rho), float32 ubar(time, eta_rho, xi_u), float32 vbar(time, eta_v, xi_rho), float32 u(time, s_rho, eta_rho, xi_u), float32 v(time, s_rho, eta_v, xi_rho), float32 temp(time, s_rho, eta_rho, xi_rho), float32 salt(time, s_rho, eta_rho, xi_rho), float32 DIC(time, s_rho, eta_rho, xi_rho), float32 TALK(time, s_rho, eta_rho, xi_rho), float32 O2(time, s_rho, eta_rho, xi_rho), float32 CACO3(time, s_rho, eta_rho, xi_rho), float32 PO4(time, s_rho, eta_rho, xi_rho), float32 POC(time, s_rho, eta_rho, xi_rho), float32 Si(time, s_rho, eta_rho, xi_rho), float32 NANO(time, s_rho, eta_rho, xi_rho), float32 ZOO(time, s_rho, eta_rho, xi_rho), float32 DOC(time, s_rho, eta_rho, xi_rho), float32 DIA(time, s_rho, eta_rho, xi_rho), float32 MESO(time, s_rho, eta_rho, xi_rho), float32 BSI(time, s_rho, eta_rho, xi_rho), float32 FER(time, s_rho, eta_rho, xi_rho), float32 BFE(time, s_rho, eta_rho, xi_rho), float32 GOC(time, s_rho, eta_rho, xi_rho), float32 SFE(time, s_rho, eta_rho, xi_rho), float32 DFE(time, s_rho, eta_rho, xi_rho), float32 DSI(time, s_rho, eta_rho, xi_rho), float32 NFE(time, s_rho, eta_rho, xi_rho), float32 NCHL(time, s_rho, eta_rho, xi_rho), float32 DCHL(time, s_rho, eta_rho, xi_rho), float32 NO3(time, s_rho, eta_rho, xi_rho), float32 NH4(time, s_rho, eta_rho, xi_rho), float32 w(time, s_rho, eta_rho, xi_rho), float32 bostr(time, eta_rho, xi_rho), float32 wstr(time, eta_rho, xi_rho), float32 sustr(time, eta_rho, xi_u), float32 svstr(time, eta_v, xi_rho), float32 AKt(time, s_w, eta_rho, xi_rho), float32 hbl(time, eta_rho, xi_rho), float32 hbbl(time, eta_rho, xi_rho), float32 shflux(time, eta_rho, xi_rho), float32 swflux(time, eta_rho, xi_rho), float32 swrad(time, eta_rho, xi_rho)\n",
              "    groups: "
            ]
          },
          "metadata": {
            "tags": []
          },
          "execution_count": 9
        }
      ]
    },
    {
      "cell_type": "code",
      "metadata": {
        "id": "m2hGjluFYoJe",
        "colab": {
          "base_uri": "https://localhost:8080/"
        },
        "outputId": "32016102-535e-4bea-933c-90e17927204f"
      },
      "source": [
        "dimensiones(ds)"
      ],
      "execution_count": null,
      "outputs": [
        {
          "output_type": "stream",
          "text": [
            "<class 'netCDF4._netCDF4.Dimension'>: name = 'xi_rho', size = 182\n",
            "<class 'netCDF4._netCDF4.Dimension'>: name = 'xi_u', size = 181\n",
            "<class 'netCDF4._netCDF4.Dimension'>: name = 'eta_rho', size = 311\n",
            "<class 'netCDF4._netCDF4.Dimension'>: name = 'eta_v', size = 310\n",
            "<class 'netCDF4._netCDF4.Dimension'>: name = 's_rho', size = 30\n",
            "<class 'netCDF4._netCDF4.Dimension'>: name = 's_w', size = 31\n",
            "<class 'netCDF4._netCDF4.Dimension'> (unlimited): name = 'time', size = 1023\n",
            "<class 'netCDF4._netCDF4.Dimension'>: name = 'auxil', size = 4\n"
          ],
          "name": "stdout"
        }
      ]
    },
    {
      "cell_type": "code",
      "metadata": {
        "id": "kG_c05Pscih-",
        "colab": {
          "base_uri": "https://localhost:8080/"
        },
        "outputId": "8ea5eda1-7196-4a95-9d6a-13a63b4093a0"
      },
      "source": [
        "variab(ds)"
      ],
      "execution_count": null,
      "outputs": [
        {
          "output_type": "stream",
          "text": [
            "<class 'netCDF4._netCDF4.Variable'>\n",
            "|S1 spherical()\n",
            "    long_name: grid type logical switch\n",
            "    option_T: spherical\n",
            "    option_F: cartesian\n",
            "unlimited dimensions: \n",
            "current shape = ()\n",
            "filling on, default _FillValue of \u0000 used\n",
            "<class 'netCDF4._netCDF4.Variable'>\n",
            "float32 xl()\n",
            "    long_name: domain length in the XI-direction\n",
            "    units: meter\n",
            "unlimited dimensions: \n",
            "current shape = ()\n",
            "filling on, default _FillValue of 9.969209968386869e+36 used\n",
            "<class 'netCDF4._netCDF4.Variable'>\n",
            "float32 el()\n",
            "    long_name: domain length in the ETA-direction\n",
            "    units: meter\n",
            "unlimited dimensions: \n",
            "current shape = ()\n",
            "filling on, default _FillValue of 9.969209968386869e+36 used\n",
            "<class 'netCDF4._netCDF4.Variable'>\n",
            "float32 xi_rho(xi_rho)\n",
            "    long_name: x-dimension of the grid\n",
            "    standard_name: x_grid_index\n",
            "    axis: X\n",
            "    c_grid_dynamic_range: 2:181\n",
            "unlimited dimensions: \n",
            "current shape = (182,)\n",
            "filling on, default _FillValue of 9.969209968386869e+36 used\n",
            "<class 'netCDF4._netCDF4.Variable'>\n",
            "float32 xi_u(xi_u)\n",
            "    long_name: x-dimension of the grid at u location\n",
            "    standard_name: x_grid_index_at_u_location\n",
            "    axis: X\n",
            "    c_grid_axis_shift: 0.5\n",
            "    c_grid_dynamic_range: 2:180\n",
            "unlimited dimensions: \n",
            "current shape = (181,)\n",
            "filling on, default _FillValue of 9.969209968386869e+36 used\n",
            "<class 'netCDF4._netCDF4.Variable'>\n",
            "float32 eta_rho(eta_rho)\n",
            "    long_name: y-dimension of the grid\n",
            "    standard_name: y_grid_index\n",
            "    axis: Y\n",
            "    c_grid_dynamic_range: 2:310\n",
            "unlimited dimensions: \n",
            "current shape = (311,)\n",
            "filling on, default _FillValue of 9.969209968386869e+36 used\n",
            "<class 'netCDF4._netCDF4.Variable'>\n",
            "float32 eta_v(eta_v)\n",
            "    long_name: y-dimension of the grid at v location\n",
            "    standard_name: x_grid_index_at_v_location\n",
            "    axis: Y\n",
            "    c_grid_axis_shift: 0.5\n",
            "    c_grid_dynamic_range: 2:309\n",
            "unlimited dimensions: \n",
            "current shape = (310,)\n",
            "filling on, default _FillValue of 9.969209968386869e+36 used\n",
            "<class 'netCDF4._netCDF4.Variable'>\n",
            "float32 Vtransform()\n",
            "    long_name: vertical terrain-following transformation equatio\n",
            "unlimited dimensions: \n",
            "current shape = ()\n",
            "filling on, default _FillValue of 9.969209968386869e+36 used\n",
            "<class 'netCDF4._netCDF4.Variable'>\n",
            "float32 s_rho(s_rho)\n",
            "    long_name: S-coordinate at RHO-points\n",
            "    axis: Z\n",
            "    positive: up\n",
            "    standard_name: ocean_s_coordinate_g2\n",
            "    formula_terms: s: sc_r C: Cs_r eta: zeta depth: h depth_c: hc\n",
            "unlimited dimensions: \n",
            "current shape = (30,)\n",
            "filling on, default _FillValue of 9.969209968386869e+36 used\n",
            "<class 'netCDF4._netCDF4.Variable'>\n",
            "float32 s_w(s_w)\n",
            "    long_name: S-coordinate at W-points\n",
            "    axis: Z\n",
            "    positive: up\n",
            "    c_grid_axis_shift: -0.5\n",
            "    standard_name: ocean_s_coordinate_g2_at_w_location\n",
            "    formula_terms: s: sc_w C: Cs_w eta: zeta depth: h depth_c: hc\n",
            "unlimited dimensions: \n",
            "current shape = (31,)\n",
            "filling on, default _FillValue of 9.969209968386869e+36 used\n",
            "<class 'netCDF4._netCDF4.Variable'>\n",
            "float32 sc_r(s_rho)\n",
            "    long_name: ocean s roms coordinate at rho point\n",
            "    Vtransform: 2\n",
            "unlimited dimensions: \n",
            "current shape = (30,)\n",
            "filling on, default _FillValue of 9.969209968386869e+36 used\n",
            "<class 'netCDF4._netCDF4.Variable'>\n",
            "float32 sc_w(s_w)\n",
            "    long_name: ocean s roms coordinate at w point\n",
            "    Vtransform: 2\n",
            "unlimited dimensions: \n",
            "current shape = (31,)\n",
            "filling on, default _FillValue of 9.969209968386869e+36 used\n",
            "<class 'netCDF4._netCDF4.Variable'>\n",
            "float32 Cs_r(s_rho)\n",
            "    long_name: S-coordinate stretching curves at RHO-points\n",
            "unlimited dimensions: \n",
            "current shape = (30,)\n",
            "filling on, default _FillValue of 9.969209968386869e+36 used\n",
            "<class 'netCDF4._netCDF4.Variable'>\n",
            "float32 Cs_w(s_w)\n",
            "    long_name: S-coordinate stretching curves at W-points\n",
            "unlimited dimensions: \n",
            "current shape = (31,)\n",
            "filling on, default _FillValue of 9.969209968386869e+36 used\n",
            "<class 'netCDF4._netCDF4.Variable'>\n",
            "float32 hc()\n",
            "    long_name: S-coordinate parameter, critical depth\n",
            "    units: meter\n",
            "unlimited dimensions: \n",
            "current shape = ()\n",
            "filling on, default _FillValue of 9.969209968386869e+36 used\n",
            "<class 'netCDF4._netCDF4.Variable'>\n",
            "float32 h(eta_rho, xi_rho)\n",
            "    long_name: bathymetry at RHO-points\n",
            "    units: meter\n",
            "    field: bath, scalar\n",
            "    standard_name: model_sea_floor_depth_below_geoid\n",
            "    coordinates: lat_rho lon_rho\n",
            "unlimited dimensions: \n",
            "current shape = (311, 182)\n",
            "filling on, default _FillValue of 9.969209968386869e+36 used\n",
            "<class 'netCDF4._netCDF4.Variable'>\n",
            "float32 f(eta_rho, xi_rho)\n",
            "    long_name: Coriolis parameter at RHO-points\n",
            "    units: second-1\n",
            "    field: coriolis, scalar\n",
            "    standard_name: coriolis_parameter\n",
            "    coordinates: lat_rho lon_rho\n",
            "unlimited dimensions: \n",
            "current shape = (311, 182)\n",
            "filling on, default _FillValue of 9.969209968386869e+36 used\n",
            "<class 'netCDF4._netCDF4.Variable'>\n",
            "float32 pm(eta_rho, xi_rho)\n",
            "    long_name: curvilinear coordinates metric in X\n",
            "    units: meter-1\n",
            "    field: pm, scalar\n",
            "    coordinates: lat_rho lon_rho\n",
            "    standard_name: inverse_of_cell_x_size\n",
            "unlimited dimensions: \n",
            "current shape = (311, 182)\n",
            "filling on, default _FillValue of 9.969209968386869e+36 used\n",
            "<class 'netCDF4._netCDF4.Variable'>\n",
            "float32 pn(eta_rho, xi_rho)\n",
            "    long_name: curvilinear coordinates metric in ET\n",
            "    units: meter-1\n",
            "    field: pn, scalar\n",
            "    coordinates: lat_rho lon_rho\n",
            "    standard_name: inverse_of_cell_y_size\n",
            "unlimited dimensions: \n",
            "current shape = (311, 182)\n",
            "filling on, default _FillValue of 9.969209968386869e+36 used\n",
            "<class 'netCDF4._netCDF4.Variable'>\n",
            "float32 lon_rho(eta_rho, xi_rho)\n",
            "    long_name: longitude of RHO-points\n",
            "    units: degree_east\n",
            "    field: lon_rho, scalar\n",
            "    standard_name: longitude\n",
            "unlimited dimensions: \n",
            "current shape = (311, 182)\n",
            "filling on, default _FillValue of 9.969209968386869e+36 used\n",
            "<class 'netCDF4._netCDF4.Variable'>\n",
            "float32 lat_rho(eta_rho, xi_rho)\n",
            "    long_name: latitude of RHO-points\n",
            "    units: degree_north\n",
            "    field: lat_rho, scalar\n",
            "    standard_name: latitude\n",
            "unlimited dimensions: \n",
            "current shape = (311, 182)\n",
            "filling on, default _FillValue of 9.969209968386869e+36 used\n",
            "<class 'netCDF4._netCDF4.Variable'>\n",
            "float32 lon_u(eta_rho, xi_u)\n",
            "    long_name: longitude of U-points\n",
            "    units: degree_east\n",
            "    field: lon_u, scalar\n",
            "    standard_name: longitude_at_u_location\n",
            "unlimited dimensions: \n",
            "current shape = (311, 181)\n",
            "filling on, default _FillValue of 9.969209968386869e+36 used\n",
            "<class 'netCDF4._netCDF4.Variable'>\n",
            "float32 lat_u(eta_rho, xi_u)\n",
            "    long_name: latitude of U-points\n",
            "    units: degree_north\n",
            "    field: lat_u, scalar\n",
            "    standard_name: latitude_at_u_location\n",
            "unlimited dimensions: \n",
            "current shape = (311, 181)\n",
            "filling on, default _FillValue of 9.969209968386869e+36 used\n",
            "<class 'netCDF4._netCDF4.Variable'>\n",
            "float32 lon_v(eta_v, xi_rho)\n",
            "    long_name: longitude of V-points\n",
            "    units: degree_east\n",
            "    field: lon_v, scalar\n",
            "    standard_name: longitude_at_v_location\n",
            "unlimited dimensions: \n",
            "current shape = (310, 182)\n",
            "filling on, default _FillValue of 9.969209968386869e+36 used\n",
            "<class 'netCDF4._netCDF4.Variable'>\n",
            "float32 lat_v(eta_v, xi_rho)\n",
            "    long_name: latitude of V-points\n",
            "    units: degree_north\n",
            "    field: lat_v, scalar\n",
            "    standard_name: latitude_at_v_location\n",
            "unlimited dimensions: \n",
            "current shape = (310, 182)\n",
            "filling on, default _FillValue of 9.969209968386869e+36 used\n",
            "<class 'netCDF4._netCDF4.Variable'>\n",
            "float32 angle(eta_rho, xi_rho)\n",
            "    long_name: angle between XI-axis and EAST\n",
            "    units: radians\n",
            "    field: angle, scalar\n",
            "    coordinates: lat_rho lon_rho\n",
            "unlimited dimensions: \n",
            "current shape = (311, 182)\n",
            "filling on, default _FillValue of 9.969209968386869e+36 used\n",
            "<class 'netCDF4._netCDF4.Variable'>\n",
            "float32 mask_rho(eta_rho, xi_rho)\n",
            "    long_name: mask on RHO-points\n",
            "    option_0: land\n",
            "    option_1: water\n",
            "    standard_name: land_binary_mask\n",
            "    coordinates: lat_rho lon_rho\n",
            "unlimited dimensions: \n",
            "current shape = (311, 182)\n",
            "filling on, default _FillValue of 9.969209968386869e+36 used\n",
            "<class 'netCDF4._netCDF4.Variable'>\n",
            "int32 time_step(time, auxil)\n",
            "    long_name: time step and record numbers from initialization\n",
            "unlimited dimensions: time\n",
            "current shape = (1023, 4)\n",
            "filling on, default _FillValue of -2147483647 used\n",
            "<class 'netCDF4._netCDF4.Variable'>\n",
            "float64 scrum_time(time)\n",
            "    long_name: time since initialization\n",
            "    units: second\n",
            "    field: time, scalar, series\n",
            "    standard_name: time\n",
            "    axis: T\n",
            "unlimited dimensions: time\n",
            "current shape = (1023,)\n",
            "filling on, default _FillValue of 9.969209968386869e+36 used\n",
            "<class 'netCDF4._netCDF4.Variable'>\n",
            "float64 time(time)\n",
            "    long_name: time since initialization\n",
            "    units: second\n",
            "    field: time, scalar, series\n",
            "    standard_name: time\n",
            "    axis: T\n",
            "unlimited dimensions: time\n",
            "current shape = (1023,)\n",
            "filling on, default _FillValue of 9.969209968386869e+36 used\n",
            "<class 'netCDF4._netCDF4.Variable'>\n",
            "float32 zeta(time, eta_rho, xi_rho)\n",
            "    long_name: free-surface\n",
            "    units: meter\n",
            "    field: free-surface, scalar, series\n",
            "    standard_name: sea_surface_height\n",
            "    coordinates: lat_rho lon_rho\n",
            "unlimited dimensions: time\n",
            "current shape = (1023, 311, 182)\n",
            "filling on, default _FillValue of 9.969209968386869e+36 used\n",
            "<class 'netCDF4._netCDF4.Variable'>\n",
            "float32 ubar(time, eta_rho, xi_u)\n",
            "    long_name: vertically integrated u-momentum component\n",
            "    units: meter second-1\n",
            "    field: ubar-velocity, scalar, series\n",
            "    standard_name: barotropic_sea_water_x_velocity_at_u_location\n",
            "    coordinates: lat_u lon_u\n",
            "unlimited dimensions: time\n",
            "current shape = (1023, 311, 181)\n",
            "filling on, default _FillValue of 9.969209968386869e+36 used\n",
            "<class 'netCDF4._netCDF4.Variable'>\n",
            "float32 vbar(time, eta_v, xi_rho)\n",
            "    long_name: vertically integrated v-momentum component\n",
            "    units: meter second-1\n",
            "    field: vbar-velocity, scalar, series\n",
            "    standard_name: barotropic_sea_water_y_velocity_at_v_location\n",
            "    coordinates: lat_v lon_v\n",
            "unlimited dimensions: time\n",
            "current shape = (1023, 310, 182)\n",
            "filling on, default _FillValue of 9.969209968386869e+36 used\n",
            "<class 'netCDF4._netCDF4.Variable'>\n",
            "float32 u(time, s_rho, eta_rho, xi_u)\n",
            "    long_name: u-momentum component\n",
            "    units: meter second-1\n",
            "    field: u-velocity, scalar, series\n",
            "    standard_name: sea_water_x_velocity_at_u_location\n",
            "    coordinates: lat_u lon_u\n",
            "unlimited dimensions: time\n",
            "current shape = (1023, 30, 311, 181)\n",
            "filling on, default _FillValue of 9.969209968386869e+36 used\n",
            "<class 'netCDF4._netCDF4.Variable'>\n",
            "float32 v(time, s_rho, eta_v, xi_rho)\n",
            "    long_name: v-momentum component\n",
            "    units: meter second-1\n",
            "    field: v-velocity, scalar, series\n",
            "    standard_name: sea_water_y_velocity_at_v_location\n",
            "    coordinates: lat_v lon_v\n",
            "unlimited dimensions: time\n",
            "current shape = (1023, 30, 310, 182)\n",
            "filling on, default _FillValue of 9.969209968386869e+36 used\n",
            "<class 'netCDF4._netCDF4.Variable'>\n",
            "float32 temp(time, s_rho, eta_rho, xi_rho)\n",
            "    long_name: potential temperature\n",
            "    units: Celsius\n",
            "    field: temperature, scalar, series\n",
            "    standard_name: sea_water_potential_temperature\n",
            "    coordinates: lat_rho lon_rho\n",
            "unlimited dimensions: time\n",
            "current shape = (1023, 30, 311, 182)\n",
            "filling on, default _FillValue of 9.969209968386869e+36 used\n",
            "<class 'netCDF4._netCDF4.Variable'>\n",
            "float32 salt(time, s_rho, eta_rho, xi_rho)\n",
            "    long_name: salinity\n",
            "    units: PSU\n",
            "    field: salinity, scalar, series\n",
            "    standard_name: sea_water_salinity\n",
            "    coordinates: lat_rho lon_rho\n",
            "unlimited dimensions: time\n",
            "current shape = (1023, 30, 311, 182)\n",
            "filling on, default _FillValue of 9.969209968386869e+36 used\n",
            "<class 'netCDF4._netCDF4.Variable'>\n",
            "float32 DIC(time, s_rho, eta_rho, xi_rho)\n",
            "    long_name: Dissolved inorganic carbon\n",
            "    units: umol C L-1\n",
            "    field: DIC, scalar, series\n",
            "    standard_name: mole_concentration_of_dissolved_inorganic_carbon_in_sea_water\n",
            "    coordinates: lat_rho lon_rho\n",
            "unlimited dimensions: time\n",
            "current shape = (1023, 30, 311, 182)\n",
            "filling on, default _FillValue of 9.969209968386869e+36 used\n",
            "<class 'netCDF4._netCDF4.Variable'>\n",
            "float32 TALK(time, s_rho, eta_rho, xi_rho)\n",
            "    long_name: Total Alkalinity\n",
            "    units: umol C L-1\n",
            "    field: Alkalinity, scalar, series\n",
            "    coordinates: lat_rho lon_rho\n",
            "unlimited dimensions: time\n",
            "current shape = (1023, 30, 311, 182)\n",
            "filling on, default _FillValue of 9.969209968386869e+36 used\n",
            "<class 'netCDF4._netCDF4.Variable'>\n",
            "float32 O2(time, s_rho, eta_rho, xi_rho)\n",
            "    long_name: Oxygen\n",
            "    units: umol L-1\n",
            "    field: Oxygen, scalar, series\n",
            "    coordinates: lat_rho lon_rho\n",
            "unlimited dimensions: time\n",
            "current shape = (1023, 30, 311, 182)\n",
            "filling on, default _FillValue of 9.969209968386869e+36 used\n",
            "<class 'netCDF4._netCDF4.Variable'>\n",
            "float32 CACO3(time, s_rho, eta_rho, xi_rho)\n",
            "    long_name: Calcite\n",
            "    units: umol C L-1\n",
            "    field: Calcite, scalar, series\n",
            "unlimited dimensions: time\n",
            "current shape = (1023, 30, 311, 182)\n",
            "filling on, default _FillValue of 9.969209968386869e+36 used\n",
            "<class 'netCDF4._netCDF4.Variable'>\n",
            "float32 PO4(time, s_rho, eta_rho, xi_rho)\n",
            "    long_name: Phosphate\n",
            "    units: umol P L-1\n",
            "    field: Phosphate, scalar, series\n",
            "    coordinates: lat_rho lon_rho\n",
            "unlimited dimensions: time\n",
            "current shape = (1023, 30, 311, 182)\n",
            "filling on, default _FillValue of 9.969209968386869e+36 used\n",
            "<class 'netCDF4._netCDF4.Variable'>\n",
            "float32 POC(time, s_rho, eta_rho, xi_rho)\n",
            "    long_name: Small particulate organic carbon\n",
            "    units: umol C L-1\n",
            "    field: Small particles, scalar, series\n",
            "    coordinates: lat_rho lon_rho\n",
            "unlimited dimensions: time\n",
            "current shape = (1023, 30, 311, 182)\n",
            "filling on, default _FillValue of 9.969209968386869e+36 used\n",
            "<class 'netCDF4._netCDF4.Variable'>\n",
            "float32 Si(time, s_rho, eta_rho, xi_rho)\n",
            "    long_name: Silicate\n",
            "    units: umol Si L-1\n",
            "    field: Silicate, scalar, series\n",
            "    coordinates: lat_rho lon_rho\n",
            "unlimited dimensions: time\n",
            "current shape = (1023, 30, 311, 182)\n",
            "filling on, default _FillValue of 9.969209968386869e+36 used\n",
            "<class 'netCDF4._netCDF4.Variable'>\n",
            "float32 NANO(time, s_rho, eta_rho, xi_rho)\n",
            "    long_name: Nanophytoplankton\n",
            "    units: umol C L-1\n",
            "    field: Nanophytoplankton, scalar, series\n",
            "    coordinates: lat_rho lon_rho\n",
            "unlimited dimensions: time\n",
            "current shape = (1023, 30, 311, 182)\n",
            "filling on, default _FillValue of 9.969209968386869e+36 used\n",
            "<class 'netCDF4._netCDF4.Variable'>\n",
            "float32 ZOO(time, s_rho, eta_rho, xi_rho)\n",
            "    long_name: Microzooplankton\n",
            "    units: umol C L-1\n",
            "    field: Microzooplankton, scalar, series\n",
            "    coordinates: lat_rho lon_rho\n",
            "unlimited dimensions: time\n",
            "current shape = (1023, 30, 311, 182)\n",
            "filling on, default _FillValue of 9.969209968386869e+36 used\n",
            "<class 'netCDF4._netCDF4.Variable'>\n",
            "float32 DOC(time, s_rho, eta_rho, xi_rho)\n",
            "    long_name: Dissolved organic carbon\n",
            "    units: umol C L-1\n",
            "    field: DOC, scalar, series\n",
            "    coordinates: lat_rho lon_rho\n",
            "unlimited dimensions: time\n",
            "current shape = (1023, 30, 311, 182)\n",
            "filling on, default _FillValue of 9.969209968386869e+36 used\n",
            "<class 'netCDF4._netCDF4.Variable'>\n",
            "float32 DIA(time, s_rho, eta_rho, xi_rho)\n",
            "    long_name: Diatoms\n",
            "    units: umol C L-1\n",
            "    field: Diatoms, scalar, series\n",
            "    coordinates: lat_rho lon_rho\n",
            "unlimited dimensions: time\n",
            "current shape = (1023, 30, 311, 182)\n",
            "filling on, default _FillValue of 9.969209968386869e+36 used\n",
            "<class 'netCDF4._netCDF4.Variable'>\n",
            "float32 MESO(time, s_rho, eta_rho, xi_rho)\n",
            "    long_name: Mesozooplankton\n",
            "    units: umol C L-1\n",
            "    field: Mesozooplankton, scalar, series\n",
            "    coordinates: lat_rho lon_rho\n",
            "unlimited dimensions: time\n",
            "current shape = (1023, 30, 311, 182)\n",
            "filling on, default _FillValue of 9.969209968386869e+36 used\n",
            "<class 'netCDF4._netCDF4.Variable'>\n",
            "float32 BSI(time, s_rho, eta_rho, xi_rho)\n",
            "    long_name: Diatoms silicon\n",
            "    units: umol Si L-1\n",
            "    field: BSi, scalar, series\n",
            "    coordinates: lat_rho lon_rho\n",
            "unlimited dimensions: time\n",
            "current shape = (1023, 30, 311, 182)\n",
            "filling on, default _FillValue of 9.969209968386869e+36 used\n",
            "<class 'netCDF4._netCDF4.Variable'>\n",
            "float32 FER(time, s_rho, eta_rho, xi_rho)\n",
            "    long_name: Dissolved iron\n",
            "    units: umol Fe L-1\n",
            "    field: Iron, scalar, series\n",
            "    coordinates: lat_rho lon_rho\n",
            "unlimited dimensions: time\n",
            "current shape = (1023, 30, 311, 182)\n",
            "filling on, default _FillValue of 9.969209968386869e+36 used\n",
            "<class 'netCDF4._netCDF4.Variable'>\n",
            "float32 BFE(time, s_rho, eta_rho, xi_rho)\n",
            "    long_name: Iron in big particles\n",
            "    units: umol Fe L-1\n",
            "    field: BFE, scalar, series\n",
            "    coordinates: lat_rho lon_rho\n",
            "unlimited dimensions: time\n",
            "current shape = (1023, 30, 311, 182)\n",
            "filling on, default _FillValue of 9.969209968386869e+36 used\n",
            "<class 'netCDF4._netCDF4.Variable'>\n",
            "float32 GOC(time, s_rho, eta_rho, xi_rho)\n",
            "    long_name: Big particulate organic carbon\n",
            "    units: umol C L-1\n",
            "    field: GOC, scalar, series\n",
            "    coordinates: lat_rho lon_rho\n",
            "unlimited dimensions: time\n",
            "current shape = (1023, 30, 311, 182)\n",
            "filling on, default _FillValue of 9.969209968386869e+36 used\n",
            "<class 'netCDF4._netCDF4.Variable'>\n",
            "float32 SFE(time, s_rho, eta_rho, xi_rho)\n",
            "    long_name: Iron in nanophytoplankton\n",
            "    units: umol Fe L-1\n",
            "    field: SFE, scalar, series\n",
            "    coordinates: lat_rho lon_rho\n",
            "unlimited dimensions: time\n",
            "current shape = (1023, 30, 311, 182)\n",
            "filling on, default _FillValue of 9.969209968386869e+36 used\n",
            "<class 'netCDF4._netCDF4.Variable'>\n",
            "float32 DFE(time, s_rho, eta_rho, xi_rho)\n",
            "    long_name: Iron in diatoms\n",
            "    units: umol Fe L-1\n",
            "    field: DFE, scalar, series\n",
            "    coordinates: lat_rho lon_rho\n",
            "unlimited dimensions: time\n",
            "current shape = (1023, 30, 311, 182)\n",
            "filling on, default _FillValue of 9.969209968386869e+36 used\n",
            "<class 'netCDF4._netCDF4.Variable'>\n",
            "float32 DSI(time, s_rho, eta_rho, xi_rho)\n",
            "    long_name: Biogenic silica\n",
            "    units: umol Si L-1\n",
            "    field: DSI, scalar, series\n",
            "    coordinates: lat_rho lon_rho\n",
            "unlimited dimensions: time\n",
            "current shape = (1023, 30, 311, 182)\n",
            "filling on, default _FillValue of 9.969209968386869e+36 used\n",
            "<class 'netCDF4._netCDF4.Variable'>\n",
            "float32 NFE(time, s_rho, eta_rho, xi_rho)\n",
            "    long_name: Iron in small particles\n",
            "    units: umol Fe L-1\n",
            "    field: NFE, scalar, series\n",
            "    coordinates: lat_rho lon_rho\n",
            "unlimited dimensions: time\n",
            "current shape = (1023, 30, 311, 182)\n",
            "filling on, default _FillValue of 9.969209968386869e+36 used\n",
            "<class 'netCDF4._netCDF4.Variable'>\n",
            "float32 NCHL(time, s_rho, eta_rho, xi_rho)\n",
            "    long_name: Chlorophyll in nano\n",
            "    units: mg Chl m-3\n",
            "    field: NCHL, scalar, series\n",
            "    coordinates: lat_rho lon_rho\n",
            "unlimited dimensions: time\n",
            "current shape = (1023, 30, 311, 182)\n",
            "filling on, default _FillValue of 9.969209968386869e+36 used\n",
            "<class 'netCDF4._netCDF4.Variable'>\n",
            "float32 DCHL(time, s_rho, eta_rho, xi_rho)\n",
            "    long_name: Chlorophyll in diatoms\n",
            "    units: mg Chl m-3\n",
            "    field: DCHL, scalar, series\n",
            "    coordinates: lat_rho lon_rho\n",
            "unlimited dimensions: time\n",
            "current shape = (1023, 30, 311, 182)\n",
            "filling on, default _FillValue of 9.969209968386869e+36 used\n",
            "<class 'netCDF4._netCDF4.Variable'>\n",
            "float32 NO3(time, s_rho, eta_rho, xi_rho)\n",
            "    long_name: Nitrate\n",
            "    units: umol N L-1\n",
            "    field: Nitrate, scalar, series\n",
            "    coordinates: lat_rho lon_rho\n",
            "unlimited dimensions: time\n",
            "current shape = (1023, 30, 311, 182)\n",
            "filling on, default _FillValue of 9.969209968386869e+36 used\n",
            "<class 'netCDF4._netCDF4.Variable'>\n",
            "float32 NH4(time, s_rho, eta_rho, xi_rho)\n",
            "    long_name: Ammonium\n",
            "    units: umol N L-1\n",
            "    field: Ammonium, scalar, series\n",
            "    coordinates: lat_rho lon_rho\n",
            "unlimited dimensions: time\n",
            "current shape = (1023, 30, 311, 182)\n",
            "filling on, default _FillValue of 9.969209968386869e+36 used\n",
            "<class 'netCDF4._netCDF4.Variable'>\n",
            "float32 w(time, s_rho, eta_rho, xi_rho)\n",
            "    long_name: vertical momentum component\n",
            "    units: meter second-1\n",
            "    field: w-velocity, scalar, series\n",
            "    standard_name: upward_sea_water_velocity\n",
            "    coordinates: lat_rho lon_rho\n",
            "unlimited dimensions: time\n",
            "current shape = (1023, 30, 311, 182)\n",
            "filling on, default _FillValue of 9.969209968386869e+36 used\n",
            "<class 'netCDF4._netCDF4.Variable'>\n",
            "float32 bostr(time, eta_rho, xi_rho)\n",
            "    long_name: Kinematic bottom stress\n",
            "    units: N/m2\n",
            "    coordinates: lat_rho lon_rho\n",
            "unlimited dimensions: time\n",
            "current shape = (1023, 311, 182)\n",
            "filling on, default _FillValue of 9.969209968386869e+36 used\n",
            "<class 'netCDF4._netCDF4.Variable'>\n",
            "float32 wstr(time, eta_rho, xi_rho)\n",
            "    long_name: Kinematic wind stress\n",
            "    units: N/m2\n",
            "    standard_name: magnitude_of_surface_downward_stress\n",
            "    coordinates: lat_rho lon_rho\n",
            "unlimited dimensions: time\n",
            "current shape = (1023, 311, 182)\n",
            "filling on, default _FillValue of 9.969209968386869e+36 used\n",
            "<class 'netCDF4._netCDF4.Variable'>\n",
            "float32 sustr(time, eta_rho, xi_u)\n",
            "    long_name: Kinematic u wind stress component\n",
            "    units: N/m2\n",
            "    standard_name: surface_downward_eastward_stress\n",
            "    coordinates: lat_u lon_u\n",
            "unlimited dimensions: time\n",
            "current shape = (1023, 311, 181)\n",
            "filling on, default _FillValue of 9.969209968386869e+36 used\n",
            "<class 'netCDF4._netCDF4.Variable'>\n",
            "float32 svstr(time, eta_v, xi_rho)\n",
            "    long_name: Kinematic v wind stress component\n",
            "    units: N/m2\n",
            "    standard_name: surface_downward_northward_stress\n",
            "    coordinates: lat_v lon_v\n",
            "unlimited dimensions: time\n",
            "current shape = (1023, 310, 182)\n",
            "filling on, default _FillValue of 9.969209968386869e+36 used\n",
            "<class 'netCDF4._netCDF4.Variable'>\n",
            "float32 AKt(time, s_w, eta_rho, xi_rho)\n",
            "    long_name: temperature vertical diffusion coefficient\n",
            "    units: meter2 second-1\n",
            "    field: AKt, scalar, series\n",
            "    standard_name: ocean_vertical_heat_diffusivity_at_w_location\n",
            "    coordinates: lat_rho lon_rho\n",
            "unlimited dimensions: time\n",
            "current shape = (1023, 31, 311, 182)\n",
            "filling on, default _FillValue of 9.969209968386869e+36 used\n",
            "<class 'netCDF4._netCDF4.Variable'>\n",
            "float32 hbl(time, eta_rho, xi_rho)\n",
            "    long_name: depth of planetary boundary layer\n",
            "    units: meter\n",
            "    field: hbl, scalar, series\n",
            "    standard_name: ocean_mixed_layer_thickness_defined_by_mixing_scheme\n",
            "    coordinates: lat_rho lon_rho\n",
            "unlimited dimensions: time\n",
            "current shape = (1023, 311, 182)\n",
            "filling on, default _FillValue of 9.969209968386869e+36 used\n",
            "<class 'netCDF4._netCDF4.Variable'>\n",
            "float32 hbbl(time, eta_rho, xi_rho)\n",
            "    long_name: depth of bottom boundary layer\n",
            "    units: meter\n",
            "    field: hbbl, scalar, series\n",
            "    coordinates: lat_rho lon_rho\n",
            "unlimited dimensions: time\n",
            "current shape = (1023, 311, 182)\n",
            "filling on, default _FillValue of 9.969209968386869e+36 used\n",
            "<class 'netCDF4._netCDF4.Variable'>\n",
            "float32 shflux(time, eta_rho, xi_rho)\n",
            "    long_name: surface net heat flux\n",
            "    units: Watts meter-2\n",
            "    coordinates: lat_rho lon_rho\n",
            "unlimited dimensions: time\n",
            "current shape = (1023, 311, 182)\n",
            "filling on, default _FillValue of 9.969209968386869e+36 used\n",
            "<class 'netCDF4._netCDF4.Variable'>\n",
            "float32 swflux(time, eta_rho, xi_rho)\n",
            "    long_name: surface freshwater flux (E-P)\n",
            "    units: centimeter day-1\n",
            "    coordinates: lat_rho lon_rho\n",
            "unlimited dimensions: time\n",
            "current shape = (1023, 311, 182)\n",
            "filling on, default _FillValue of 9.969209968386869e+36 used\n",
            "<class 'netCDF4._netCDF4.Variable'>\n",
            "float32 swrad(time, eta_rho, xi_rho)\n",
            "    long_name: Short-wave surface radiation\n",
            "    units: Watts meter-2\n",
            "    coordinates: lat_rho lon_rho\n",
            "unlimited dimensions: time\n",
            "current shape = (1023, 311, 182)\n",
            "filling on, default _FillValue of 9.969209968386869e+36 used\n"
          ],
          "name": "stdout"
        }
      ]
    },
    {
      "cell_type": "markdown",
      "metadata": {
        "id": "I9c46Q9IVrlW"
      },
      "source": [
        "Campaña de invierno"
      ]
    },
    {
      "cell_type": "code",
      "metadata": {
        "id": "O3i-BxRxVCij"
      },
      "source": [
        "url1 = '/content/gdrive/My Drive/Colab Notebooks/croco_his3jun_jul.nc.4'\n",
        "ds1 = nc.Dataset(url1, mode=modeType, format=fileFormat)"
      ],
      "execution_count": null,
      "outputs": []
    },
    {
      "cell_type": "code",
      "metadata": {
        "id": "J-b74fm2Z6ul",
        "colab": {
          "base_uri": "https://localhost:8080/"
        },
        "outputId": "22131a24-2a5d-4c03-9977-6313390bab9b"
      },
      "source": [
        "dimensiones(ds1)"
      ],
      "execution_count": null,
      "outputs": [
        {
          "output_type": "stream",
          "text": [
            "<class 'netCDF4._netCDF4.Dimension'>: name = 'xi_rho', size = 182\n",
            "<class 'netCDF4._netCDF4.Dimension'>: name = 'xi_u', size = 181\n",
            "<class 'netCDF4._netCDF4.Dimension'>: name = 'eta_rho', size = 311\n",
            "<class 'netCDF4._netCDF4.Dimension'>: name = 'eta_v', size = 310\n",
            "<class 'netCDF4._netCDF4.Dimension'>: name = 's_rho', size = 30\n",
            "<class 'netCDF4._netCDF4.Dimension'>: name = 's_w', size = 31\n",
            "<class 'netCDF4._netCDF4.Dimension'> (unlimited): name = 'time', size = 1022\n",
            "<class 'netCDF4._netCDF4.Dimension'>: name = 'auxil', size = 4\n"
          ],
          "name": "stdout"
        }
      ]
    },
    {
      "cell_type": "code",
      "metadata": {
        "id": "1mOtUYKMbk5k",
        "colab": {
          "base_uri": "https://localhost:8080/"
        },
        "outputId": "d85f0380-02f6-4546-820c-beef3661f1cf"
      },
      "source": [
        "variab(ds1)"
      ],
      "execution_count": null,
      "outputs": [
        {
          "output_type": "stream",
          "text": [
            "<class 'netCDF4._netCDF4.Variable'>\n",
            "|S1 spherical()\n",
            "    long_name: grid type logical switch\n",
            "    option_T: spherical\n",
            "    option_F: cartesian\n",
            "unlimited dimensions: \n",
            "current shape = ()\n",
            "filling on, default _FillValue of \u0000 used\n",
            "<class 'netCDF4._netCDF4.Variable'>\n",
            "float32 xl()\n",
            "    long_name: domain length in the XI-direction\n",
            "    units: meter\n",
            "unlimited dimensions: \n",
            "current shape = ()\n",
            "filling on, default _FillValue of 9.969209968386869e+36 used\n",
            "<class 'netCDF4._netCDF4.Variable'>\n",
            "float32 el()\n",
            "    long_name: domain length in the ETA-direction\n",
            "    units: meter\n",
            "unlimited dimensions: \n",
            "current shape = ()\n",
            "filling on, default _FillValue of 9.969209968386869e+36 used\n",
            "<class 'netCDF4._netCDF4.Variable'>\n",
            "float32 xi_rho(xi_rho)\n",
            "    long_name: x-dimension of the grid\n",
            "    standard_name: x_grid_index\n",
            "    axis: X\n",
            "    c_grid_dynamic_range: 2:181\n",
            "unlimited dimensions: \n",
            "current shape = (182,)\n",
            "filling on, default _FillValue of 9.969209968386869e+36 used\n",
            "<class 'netCDF4._netCDF4.Variable'>\n",
            "float32 xi_u(xi_u)\n",
            "    long_name: x-dimension of the grid at u location\n",
            "    standard_name: x_grid_index_at_u_location\n",
            "    axis: X\n",
            "    c_grid_axis_shift: 0.5\n",
            "    c_grid_dynamic_range: 2:180\n",
            "unlimited dimensions: \n",
            "current shape = (181,)\n",
            "filling on, default _FillValue of 9.969209968386869e+36 used\n",
            "<class 'netCDF4._netCDF4.Variable'>\n",
            "float32 eta_rho(eta_rho)\n",
            "    long_name: y-dimension of the grid\n",
            "    standard_name: y_grid_index\n",
            "    axis: Y\n",
            "    c_grid_dynamic_range: 2:310\n",
            "unlimited dimensions: \n",
            "current shape = (311,)\n",
            "filling on, default _FillValue of 9.969209968386869e+36 used\n",
            "<class 'netCDF4._netCDF4.Variable'>\n",
            "float32 eta_v(eta_v)\n",
            "    long_name: y-dimension of the grid at v location\n",
            "    standard_name: x_grid_index_at_v_location\n",
            "    axis: Y\n",
            "    c_grid_axis_shift: 0.5\n",
            "    c_grid_dynamic_range: 2:309\n",
            "unlimited dimensions: \n",
            "current shape = (310,)\n",
            "filling on, default _FillValue of 9.969209968386869e+36 used\n",
            "<class 'netCDF4._netCDF4.Variable'>\n",
            "float32 Vtransform()\n",
            "    long_name: vertical terrain-following transformation equatio\n",
            "unlimited dimensions: \n",
            "current shape = ()\n",
            "filling on, default _FillValue of 9.969209968386869e+36 used\n",
            "<class 'netCDF4._netCDF4.Variable'>\n",
            "float32 s_rho(s_rho)\n",
            "    long_name: S-coordinate at RHO-points\n",
            "    axis: Z\n",
            "    positive: up\n",
            "    standard_name: ocean_s_coordinate_g2\n",
            "    formula_terms: s: sc_r C: Cs_r eta: zeta depth: h depth_c: hc\n",
            "unlimited dimensions: \n",
            "current shape = (30,)\n",
            "filling on, default _FillValue of 9.969209968386869e+36 used\n",
            "<class 'netCDF4._netCDF4.Variable'>\n",
            "float32 s_w(s_w)\n",
            "    long_name: S-coordinate at W-points\n",
            "    axis: Z\n",
            "    positive: up\n",
            "    c_grid_axis_shift: -0.5\n",
            "    standard_name: ocean_s_coordinate_g2_at_w_location\n",
            "    formula_terms: s: sc_w C: Cs_w eta: zeta depth: h depth_c: hc\n",
            "unlimited dimensions: \n",
            "current shape = (31,)\n",
            "filling on, default _FillValue of 9.969209968386869e+36 used\n",
            "<class 'netCDF4._netCDF4.Variable'>\n",
            "float32 sc_r(s_rho)\n",
            "    long_name: ocean s roms coordinate at rho point\n",
            "    Vtransform: 2\n",
            "unlimited dimensions: \n",
            "current shape = (30,)\n",
            "filling on, default _FillValue of 9.969209968386869e+36 used\n",
            "<class 'netCDF4._netCDF4.Variable'>\n",
            "float32 sc_w(s_w)\n",
            "    long_name: ocean s roms coordinate at w point\n",
            "    Vtransform: 2\n",
            "unlimited dimensions: \n",
            "current shape = (31,)\n",
            "filling on, default _FillValue of 9.969209968386869e+36 used\n",
            "<class 'netCDF4._netCDF4.Variable'>\n",
            "float32 Cs_r(s_rho)\n",
            "    long_name: S-coordinate stretching curves at RHO-points\n",
            "unlimited dimensions: \n",
            "current shape = (30,)\n",
            "filling on, default _FillValue of 9.969209968386869e+36 used\n",
            "<class 'netCDF4._netCDF4.Variable'>\n",
            "float32 Cs_w(s_w)\n",
            "    long_name: S-coordinate stretching curves at W-points\n",
            "unlimited dimensions: \n",
            "current shape = (31,)\n",
            "filling on, default _FillValue of 9.969209968386869e+36 used\n",
            "<class 'netCDF4._netCDF4.Variable'>\n",
            "float32 hc()\n",
            "    long_name: S-coordinate parameter, critical depth\n",
            "    units: meter\n",
            "unlimited dimensions: \n",
            "current shape = ()\n",
            "filling on, default _FillValue of 9.969209968386869e+36 used\n",
            "<class 'netCDF4._netCDF4.Variable'>\n",
            "float32 h(eta_rho, xi_rho)\n",
            "    long_name: bathymetry at RHO-points\n",
            "    units: meter\n",
            "    field: bath, scalar\n",
            "    standard_name: model_sea_floor_depth_below_geoid\n",
            "    coordinates: lat_rho lon_rho\n",
            "unlimited dimensions: \n",
            "current shape = (311, 182)\n",
            "filling on, default _FillValue of 9.969209968386869e+36 used\n",
            "<class 'netCDF4._netCDF4.Variable'>\n",
            "float32 f(eta_rho, xi_rho)\n",
            "    long_name: Coriolis parameter at RHO-points\n",
            "    units: second-1\n",
            "    field: coriolis, scalar\n",
            "    standard_name: coriolis_parameter\n",
            "    coordinates: lat_rho lon_rho\n",
            "unlimited dimensions: \n",
            "current shape = (311, 182)\n",
            "filling on, default _FillValue of 9.969209968386869e+36 used\n",
            "<class 'netCDF4._netCDF4.Variable'>\n",
            "float32 pm(eta_rho, xi_rho)\n",
            "    long_name: curvilinear coordinates metric in X\n",
            "    units: meter-1\n",
            "    field: pm, scalar\n",
            "    coordinates: lat_rho lon_rho\n",
            "    standard_name: inverse_of_cell_x_size\n",
            "unlimited dimensions: \n",
            "current shape = (311, 182)\n",
            "filling on, default _FillValue of 9.969209968386869e+36 used\n",
            "<class 'netCDF4._netCDF4.Variable'>\n",
            "float32 pn(eta_rho, xi_rho)\n",
            "    long_name: curvilinear coordinates metric in ET\n",
            "    units: meter-1\n",
            "    field: pn, scalar\n",
            "    coordinates: lat_rho lon_rho\n",
            "    standard_name: inverse_of_cell_y_size\n",
            "unlimited dimensions: \n",
            "current shape = (311, 182)\n",
            "filling on, default _FillValue of 9.969209968386869e+36 used\n",
            "<class 'netCDF4._netCDF4.Variable'>\n",
            "float32 lon_rho(eta_rho, xi_rho)\n",
            "    long_name: longitude of RHO-points\n",
            "    units: degree_east\n",
            "    field: lon_rho, scalar\n",
            "    standard_name: longitude\n",
            "unlimited dimensions: \n",
            "current shape = (311, 182)\n",
            "filling on, default _FillValue of 9.969209968386869e+36 used\n",
            "<class 'netCDF4._netCDF4.Variable'>\n",
            "float32 lat_rho(eta_rho, xi_rho)\n",
            "    long_name: latitude of RHO-points\n",
            "    units: degree_north\n",
            "    field: lat_rho, scalar\n",
            "    standard_name: latitude\n",
            "unlimited dimensions: \n",
            "current shape = (311, 182)\n",
            "filling on, default _FillValue of 9.969209968386869e+36 used\n",
            "<class 'netCDF4._netCDF4.Variable'>\n",
            "float32 lon_u(eta_rho, xi_u)\n",
            "    long_name: longitude of U-points\n",
            "    units: degree_east\n",
            "    field: lon_u, scalar\n",
            "    standard_name: longitude_at_u_location\n",
            "unlimited dimensions: \n",
            "current shape = (311, 181)\n",
            "filling on, default _FillValue of 9.969209968386869e+36 used\n",
            "<class 'netCDF4._netCDF4.Variable'>\n",
            "float32 lat_u(eta_rho, xi_u)\n",
            "    long_name: latitude of U-points\n",
            "    units: degree_north\n",
            "    field: lat_u, scalar\n",
            "    standard_name: latitude_at_u_location\n",
            "unlimited dimensions: \n",
            "current shape = (311, 181)\n",
            "filling on, default _FillValue of 9.969209968386869e+36 used\n",
            "<class 'netCDF4._netCDF4.Variable'>\n",
            "float32 lon_v(eta_v, xi_rho)\n",
            "    long_name: longitude of V-points\n",
            "    units: degree_east\n",
            "    field: lon_v, scalar\n",
            "    standard_name: longitude_at_v_location\n",
            "unlimited dimensions: \n",
            "current shape = (310, 182)\n",
            "filling on, default _FillValue of 9.969209968386869e+36 used\n",
            "<class 'netCDF4._netCDF4.Variable'>\n",
            "float32 lat_v(eta_v, xi_rho)\n",
            "    long_name: latitude of V-points\n",
            "    units: degree_north\n",
            "    field: lat_v, scalar\n",
            "    standard_name: latitude_at_v_location\n",
            "unlimited dimensions: \n",
            "current shape = (310, 182)\n",
            "filling on, default _FillValue of 9.969209968386869e+36 used\n",
            "<class 'netCDF4._netCDF4.Variable'>\n",
            "float32 angle(eta_rho, xi_rho)\n",
            "    long_name: angle between XI-axis and EAST\n",
            "    units: radians\n",
            "    field: angle, scalar\n",
            "    coordinates: lat_rho lon_rho\n",
            "unlimited dimensions: \n",
            "current shape = (311, 182)\n",
            "filling on, default _FillValue of 9.969209968386869e+36 used\n",
            "<class 'netCDF4._netCDF4.Variable'>\n",
            "float32 mask_rho(eta_rho, xi_rho)\n",
            "    long_name: mask on RHO-points\n",
            "    option_0: land\n",
            "    option_1: water\n",
            "    standard_name: land_binary_mask\n",
            "    coordinates: lat_rho lon_rho\n",
            "unlimited dimensions: \n",
            "current shape = (311, 182)\n",
            "filling on, default _FillValue of 9.969209968386869e+36 used\n",
            "<class 'netCDF4._netCDF4.Variable'>\n",
            "int32 time_step(time, auxil)\n",
            "    long_name: time step and record numbers from initialization\n",
            "unlimited dimensions: time\n",
            "current shape = (1022, 4)\n",
            "filling on, default _FillValue of -2147483647 used\n",
            "<class 'netCDF4._netCDF4.Variable'>\n",
            "float64 scrum_time(time)\n",
            "    long_name: time since initialization\n",
            "    units: second\n",
            "    field: time, scalar, series\n",
            "    standard_name: time\n",
            "    axis: T\n",
            "unlimited dimensions: time\n",
            "current shape = (1022,)\n",
            "filling on, default _FillValue of 9.969209968386869e+36 used\n",
            "<class 'netCDF4._netCDF4.Variable'>\n",
            "float64 time(time)\n",
            "    long_name: time since initialization\n",
            "    units: second\n",
            "    field: time, scalar, series\n",
            "    standard_name: time\n",
            "    axis: T\n",
            "unlimited dimensions: time\n",
            "current shape = (1022,)\n",
            "filling on, default _FillValue of 9.969209968386869e+36 used\n",
            "<class 'netCDF4._netCDF4.Variable'>\n",
            "float32 zeta(time, eta_rho, xi_rho)\n",
            "    long_name: free-surface\n",
            "    units: meter\n",
            "    field: free-surface, scalar, series\n",
            "    standard_name: sea_surface_height\n",
            "    coordinates: lat_rho lon_rho\n",
            "unlimited dimensions: time\n",
            "current shape = (1022, 311, 182)\n",
            "filling on, default _FillValue of 9.969209968386869e+36 used\n",
            "<class 'netCDF4._netCDF4.Variable'>\n",
            "float32 ubar(time, eta_rho, xi_u)\n",
            "    long_name: vertically integrated u-momentum component\n",
            "    units: meter second-1\n",
            "    field: ubar-velocity, scalar, series\n",
            "    standard_name: barotropic_sea_water_x_velocity_at_u_location\n",
            "    coordinates: lat_u lon_u\n",
            "unlimited dimensions: time\n",
            "current shape = (1022, 311, 181)\n",
            "filling on, default _FillValue of 9.969209968386869e+36 used\n",
            "<class 'netCDF4._netCDF4.Variable'>\n",
            "float32 vbar(time, eta_v, xi_rho)\n",
            "    long_name: vertically integrated v-momentum component\n",
            "    units: meter second-1\n",
            "    field: vbar-velocity, scalar, series\n",
            "    standard_name: barotropic_sea_water_y_velocity_at_v_location\n",
            "    coordinates: lat_v lon_v\n",
            "unlimited dimensions: time\n",
            "current shape = (1022, 310, 182)\n",
            "filling on, default _FillValue of 9.969209968386869e+36 used\n",
            "<class 'netCDF4._netCDF4.Variable'>\n",
            "float32 u(time, s_rho, eta_rho, xi_u)\n",
            "    long_name: u-momentum component\n",
            "    units: meter second-1\n",
            "    field: u-velocity, scalar, series\n",
            "    standard_name: sea_water_x_velocity_at_u_location\n",
            "    coordinates: lat_u lon_u\n",
            "unlimited dimensions: time\n",
            "current shape = (1022, 30, 311, 181)\n",
            "filling on, default _FillValue of 9.969209968386869e+36 used\n",
            "<class 'netCDF4._netCDF4.Variable'>\n",
            "float32 v(time, s_rho, eta_v, xi_rho)\n",
            "    long_name: v-momentum component\n",
            "    units: meter second-1\n",
            "    field: v-velocity, scalar, series\n",
            "    standard_name: sea_water_y_velocity_at_v_location\n",
            "    coordinates: lat_v lon_v\n",
            "unlimited dimensions: time\n",
            "current shape = (1022, 30, 310, 182)\n",
            "filling on, default _FillValue of 9.969209968386869e+36 used\n",
            "<class 'netCDF4._netCDF4.Variable'>\n",
            "float32 temp(time, s_rho, eta_rho, xi_rho)\n",
            "    long_name: potential temperature\n",
            "    units: Celsius\n",
            "    field: temperature, scalar, series\n",
            "    standard_name: sea_water_potential_temperature\n",
            "    coordinates: lat_rho lon_rho\n",
            "unlimited dimensions: time\n",
            "current shape = (1022, 30, 311, 182)\n",
            "filling on, default _FillValue of 9.969209968386869e+36 used\n",
            "<class 'netCDF4._netCDF4.Variable'>\n",
            "float32 salt(time, s_rho, eta_rho, xi_rho)\n",
            "    long_name: salinity\n",
            "    units: PSU\n",
            "    field: salinity, scalar, series\n",
            "    standard_name: sea_water_salinity\n",
            "    coordinates: lat_rho lon_rho\n",
            "unlimited dimensions: time\n",
            "current shape = (1022, 30, 311, 182)\n",
            "filling on, default _FillValue of 9.969209968386869e+36 used\n",
            "<class 'netCDF4._netCDF4.Variable'>\n",
            "float32 DIC(time, s_rho, eta_rho, xi_rho)\n",
            "    long_name: Dissolved inorganic carbon\n",
            "    units: umol C L-1\n",
            "    field: DIC, scalar, series\n",
            "    standard_name: mole_concentration_of_dissolved_inorganic_carbon_in_sea_water\n",
            "    coordinates: lat_rho lon_rho\n",
            "unlimited dimensions: time\n",
            "current shape = (1022, 30, 311, 182)\n",
            "filling on, default _FillValue of 9.969209968386869e+36 used\n",
            "<class 'netCDF4._netCDF4.Variable'>\n",
            "float32 TALK(time, s_rho, eta_rho, xi_rho)\n",
            "    long_name: Total Alkalinity\n",
            "    units: umol C L-1\n",
            "    field: Alkalinity, scalar, series\n",
            "    coordinates: lat_rho lon_rho\n",
            "unlimited dimensions: time\n",
            "current shape = (1022, 30, 311, 182)\n",
            "filling on, default _FillValue of 9.969209968386869e+36 used\n",
            "<class 'netCDF4._netCDF4.Variable'>\n",
            "float32 O2(time, s_rho, eta_rho, xi_rho)\n",
            "    long_name: Oxygen\n",
            "    units: umol L-1\n",
            "    field: Oxygen, scalar, series\n",
            "    coordinates: lat_rho lon_rho\n",
            "unlimited dimensions: time\n",
            "current shape = (1022, 30, 311, 182)\n",
            "filling on, default _FillValue of 9.969209968386869e+36 used\n",
            "<class 'netCDF4._netCDF4.Variable'>\n",
            "float32 CACO3(time, s_rho, eta_rho, xi_rho)\n",
            "    long_name: Calcite\n",
            "    units: umol C L-1\n",
            "    field: Calcite, scalar, series\n",
            "unlimited dimensions: time\n",
            "current shape = (1022, 30, 311, 182)\n",
            "filling on, default _FillValue of 9.969209968386869e+36 used\n",
            "<class 'netCDF4._netCDF4.Variable'>\n",
            "float32 PO4(time, s_rho, eta_rho, xi_rho)\n",
            "    long_name: Phosphate\n",
            "    units: umol P L-1\n",
            "    field: Phosphate, scalar, series\n",
            "    coordinates: lat_rho lon_rho\n",
            "unlimited dimensions: time\n",
            "current shape = (1022, 30, 311, 182)\n",
            "filling on, default _FillValue of 9.969209968386869e+36 used\n",
            "<class 'netCDF4._netCDF4.Variable'>\n",
            "float32 POC(time, s_rho, eta_rho, xi_rho)\n",
            "    long_name: Small particulate organic carbon\n",
            "    units: umol C L-1\n",
            "    field: Small particles, scalar, series\n",
            "    coordinates: lat_rho lon_rho\n",
            "unlimited dimensions: time\n",
            "current shape = (1022, 30, 311, 182)\n",
            "filling on, default _FillValue of 9.969209968386869e+36 used\n",
            "<class 'netCDF4._netCDF4.Variable'>\n",
            "float32 Si(time, s_rho, eta_rho, xi_rho)\n",
            "    long_name: Silicate\n",
            "    units: umol Si L-1\n",
            "    field: Silicate, scalar, series\n",
            "    coordinates: lat_rho lon_rho\n",
            "unlimited dimensions: time\n",
            "current shape = (1022, 30, 311, 182)\n",
            "filling on, default _FillValue of 9.969209968386869e+36 used\n",
            "<class 'netCDF4._netCDF4.Variable'>\n",
            "float32 NANO(time, s_rho, eta_rho, xi_rho)\n",
            "    long_name: Nanophytoplankton\n",
            "    units: umol C L-1\n",
            "    field: Nanophytoplankton, scalar, series\n",
            "    coordinates: lat_rho lon_rho\n",
            "unlimited dimensions: time\n",
            "current shape = (1022, 30, 311, 182)\n",
            "filling on, default _FillValue of 9.969209968386869e+36 used\n",
            "<class 'netCDF4._netCDF4.Variable'>\n",
            "float32 ZOO(time, s_rho, eta_rho, xi_rho)\n",
            "    long_name: Microzooplankton\n",
            "    units: umol C L-1\n",
            "    field: Microzooplankton, scalar, series\n",
            "    coordinates: lat_rho lon_rho\n",
            "unlimited dimensions: time\n",
            "current shape = (1022, 30, 311, 182)\n",
            "filling on, default _FillValue of 9.969209968386869e+36 used\n",
            "<class 'netCDF4._netCDF4.Variable'>\n",
            "float32 DOC(time, s_rho, eta_rho, xi_rho)\n",
            "    long_name: Dissolved organic carbon\n",
            "    units: umol C L-1\n",
            "    field: DOC, scalar, series\n",
            "    coordinates: lat_rho lon_rho\n",
            "unlimited dimensions: time\n",
            "current shape = (1022, 30, 311, 182)\n",
            "filling on, default _FillValue of 9.969209968386869e+36 used\n",
            "<class 'netCDF4._netCDF4.Variable'>\n",
            "float32 DIA(time, s_rho, eta_rho, xi_rho)\n",
            "    long_name: Diatoms\n",
            "    units: umol C L-1\n",
            "    field: Diatoms, scalar, series\n",
            "    coordinates: lat_rho lon_rho\n",
            "unlimited dimensions: time\n",
            "current shape = (1022, 30, 311, 182)\n",
            "filling on, default _FillValue of 9.969209968386869e+36 used\n",
            "<class 'netCDF4._netCDF4.Variable'>\n",
            "float32 MESO(time, s_rho, eta_rho, xi_rho)\n",
            "    long_name: Mesozooplankton\n",
            "    units: umol C L-1\n",
            "    field: Mesozooplankton, scalar, series\n",
            "    coordinates: lat_rho lon_rho\n",
            "unlimited dimensions: time\n",
            "current shape = (1022, 30, 311, 182)\n",
            "filling on, default _FillValue of 9.969209968386869e+36 used\n",
            "<class 'netCDF4._netCDF4.Variable'>\n",
            "float32 BSI(time, s_rho, eta_rho, xi_rho)\n",
            "    long_name: Diatoms silicon\n",
            "    units: umol Si L-1\n",
            "    field: BSi, scalar, series\n",
            "    coordinates: lat_rho lon_rho\n",
            "unlimited dimensions: time\n",
            "current shape = (1022, 30, 311, 182)\n",
            "filling on, default _FillValue of 9.969209968386869e+36 used\n",
            "<class 'netCDF4._netCDF4.Variable'>\n",
            "float32 FER(time, s_rho, eta_rho, xi_rho)\n",
            "    long_name: Dissolved iron\n",
            "    units: umol Fe L-1\n",
            "    field: Iron, scalar, series\n",
            "    coordinates: lat_rho lon_rho\n",
            "unlimited dimensions: time\n",
            "current shape = (1022, 30, 311, 182)\n",
            "filling on, default _FillValue of 9.969209968386869e+36 used\n",
            "<class 'netCDF4._netCDF4.Variable'>\n",
            "float32 BFE(time, s_rho, eta_rho, xi_rho)\n",
            "    long_name: Iron in big particles\n",
            "    units: umol Fe L-1\n",
            "    field: BFE, scalar, series\n",
            "    coordinates: lat_rho lon_rho\n",
            "unlimited dimensions: time\n",
            "current shape = (1022, 30, 311, 182)\n",
            "filling on, default _FillValue of 9.969209968386869e+36 used\n",
            "<class 'netCDF4._netCDF4.Variable'>\n",
            "float32 GOC(time, s_rho, eta_rho, xi_rho)\n",
            "    long_name: Big particulate organic carbon\n",
            "    units: umol C L-1\n",
            "    field: GOC, scalar, series\n",
            "    coordinates: lat_rho lon_rho\n",
            "unlimited dimensions: time\n",
            "current shape = (1022, 30, 311, 182)\n",
            "filling on, default _FillValue of 9.969209968386869e+36 used\n",
            "<class 'netCDF4._netCDF4.Variable'>\n",
            "float32 SFE(time, s_rho, eta_rho, xi_rho)\n",
            "    long_name: Iron in nanophytoplankton\n",
            "    units: umol Fe L-1\n",
            "    field: SFE, scalar, series\n",
            "    coordinates: lat_rho lon_rho\n",
            "unlimited dimensions: time\n",
            "current shape = (1022, 30, 311, 182)\n",
            "filling on, default _FillValue of 9.969209968386869e+36 used\n",
            "<class 'netCDF4._netCDF4.Variable'>\n",
            "float32 DFE(time, s_rho, eta_rho, xi_rho)\n",
            "    long_name: Iron in diatoms\n",
            "    units: umol Fe L-1\n",
            "    field: DFE, scalar, series\n",
            "    coordinates: lat_rho lon_rho\n",
            "unlimited dimensions: time\n",
            "current shape = (1022, 30, 311, 182)\n",
            "filling on, default _FillValue of 9.969209968386869e+36 used\n",
            "<class 'netCDF4._netCDF4.Variable'>\n",
            "float32 DSI(time, s_rho, eta_rho, xi_rho)\n",
            "    long_name: Biogenic silica\n",
            "    units: umol Si L-1\n",
            "    field: DSI, scalar, series\n",
            "    coordinates: lat_rho lon_rho\n",
            "unlimited dimensions: time\n",
            "current shape = (1022, 30, 311, 182)\n",
            "filling on, default _FillValue of 9.969209968386869e+36 used\n",
            "<class 'netCDF4._netCDF4.Variable'>\n",
            "float32 NFE(time, s_rho, eta_rho, xi_rho)\n",
            "    long_name: Iron in small particles\n",
            "    units: umol Fe L-1\n",
            "    field: NFE, scalar, series\n",
            "    coordinates: lat_rho lon_rho\n",
            "unlimited dimensions: time\n",
            "current shape = (1022, 30, 311, 182)\n",
            "filling on, default _FillValue of 9.969209968386869e+36 used\n",
            "<class 'netCDF4._netCDF4.Variable'>\n",
            "float32 NCHL(time, s_rho, eta_rho, xi_rho)\n",
            "    long_name: Chlorophyll in nano\n",
            "    units: mg Chl m-3\n",
            "    field: NCHL, scalar, series\n",
            "    coordinates: lat_rho lon_rho\n",
            "unlimited dimensions: time\n",
            "current shape = (1022, 30, 311, 182)\n",
            "filling on, default _FillValue of 9.969209968386869e+36 used\n",
            "<class 'netCDF4._netCDF4.Variable'>\n",
            "float32 DCHL(time, s_rho, eta_rho, xi_rho)\n",
            "    long_name: Chlorophyll in diatoms\n",
            "    units: mg Chl m-3\n",
            "    field: DCHL, scalar, series\n",
            "    coordinates: lat_rho lon_rho\n",
            "unlimited dimensions: time\n",
            "current shape = (1022, 30, 311, 182)\n",
            "filling on, default _FillValue of 9.969209968386869e+36 used\n",
            "<class 'netCDF4._netCDF4.Variable'>\n",
            "float32 NO3(time, s_rho, eta_rho, xi_rho)\n",
            "    long_name: Nitrate\n",
            "    units: umol N L-1\n",
            "    field: Nitrate, scalar, series\n",
            "    coordinates: lat_rho lon_rho\n",
            "unlimited dimensions: time\n",
            "current shape = (1022, 30, 311, 182)\n",
            "filling on, default _FillValue of 9.969209968386869e+36 used\n",
            "<class 'netCDF4._netCDF4.Variable'>\n",
            "float32 NH4(time, s_rho, eta_rho, xi_rho)\n",
            "    long_name: Ammonium\n",
            "    units: umol N L-1\n",
            "    field: Ammonium, scalar, series\n",
            "    coordinates: lat_rho lon_rho\n",
            "unlimited dimensions: time\n",
            "current shape = (1022, 30, 311, 182)\n",
            "filling on, default _FillValue of 9.969209968386869e+36 used\n",
            "<class 'netCDF4._netCDF4.Variable'>\n",
            "float32 w(time, s_rho, eta_rho, xi_rho)\n",
            "    long_name: vertical momentum component\n",
            "    units: meter second-1\n",
            "    field: w-velocity, scalar, series\n",
            "    standard_name: upward_sea_water_velocity\n",
            "    coordinates: lat_rho lon_rho\n",
            "unlimited dimensions: time\n",
            "current shape = (1022, 30, 311, 182)\n",
            "filling on, default _FillValue of 9.969209968386869e+36 used\n",
            "<class 'netCDF4._netCDF4.Variable'>\n",
            "float32 bostr(time, eta_rho, xi_rho)\n",
            "    long_name: Kinematic bottom stress\n",
            "    units: N/m2\n",
            "    coordinates: lat_rho lon_rho\n",
            "unlimited dimensions: time\n",
            "current shape = (1022, 311, 182)\n",
            "filling on, default _FillValue of 9.969209968386869e+36 used\n",
            "<class 'netCDF4._netCDF4.Variable'>\n",
            "float32 wstr(time, eta_rho, xi_rho)\n",
            "    long_name: Kinematic wind stress\n",
            "    units: N/m2\n",
            "    standard_name: magnitude_of_surface_downward_stress\n",
            "    coordinates: lat_rho lon_rho\n",
            "unlimited dimensions: time\n",
            "current shape = (1022, 311, 182)\n",
            "filling on, default _FillValue of 9.969209968386869e+36 used\n",
            "<class 'netCDF4._netCDF4.Variable'>\n",
            "float32 sustr(time, eta_rho, xi_u)\n",
            "    long_name: Kinematic u wind stress component\n",
            "    units: N/m2\n",
            "    standard_name: surface_downward_eastward_stress\n",
            "    coordinates: lat_u lon_u\n",
            "unlimited dimensions: time\n",
            "current shape = (1022, 311, 181)\n",
            "filling on, default _FillValue of 9.969209968386869e+36 used\n",
            "<class 'netCDF4._netCDF4.Variable'>\n",
            "float32 svstr(time, eta_v, xi_rho)\n",
            "    long_name: Kinematic v wind stress component\n",
            "    units: N/m2\n",
            "    standard_name: surface_downward_northward_stress\n",
            "    coordinates: lat_v lon_v\n",
            "unlimited dimensions: time\n",
            "current shape = (1022, 310, 182)\n",
            "filling on, default _FillValue of 9.969209968386869e+36 used\n",
            "<class 'netCDF4._netCDF4.Variable'>\n",
            "float32 AKt(time, s_w, eta_rho, xi_rho)\n",
            "    long_name: temperature vertical diffusion coefficient\n",
            "    units: meter2 second-1\n",
            "    field: AKt, scalar, series\n",
            "    standard_name: ocean_vertical_heat_diffusivity_at_w_location\n",
            "    coordinates: lat_rho lon_rho\n",
            "unlimited dimensions: time\n",
            "current shape = (1022, 31, 311, 182)\n",
            "filling on, default _FillValue of 9.969209968386869e+36 used\n",
            "<class 'netCDF4._netCDF4.Variable'>\n",
            "float32 hbl(time, eta_rho, xi_rho)\n",
            "    long_name: depth of planetary boundary layer\n",
            "    units: meter\n",
            "    field: hbl, scalar, series\n",
            "    standard_name: ocean_mixed_layer_thickness_defined_by_mixing_scheme\n",
            "    coordinates: lat_rho lon_rho\n",
            "unlimited dimensions: time\n",
            "current shape = (1022, 311, 182)\n",
            "filling on, default _FillValue of 9.969209968386869e+36 used\n",
            "<class 'netCDF4._netCDF4.Variable'>\n",
            "float32 hbbl(time, eta_rho, xi_rho)\n",
            "    long_name: depth of bottom boundary layer\n",
            "    units: meter\n",
            "    field: hbbl, scalar, series\n",
            "    coordinates: lat_rho lon_rho\n",
            "unlimited dimensions: time\n",
            "current shape = (1022, 311, 182)\n",
            "filling on, default _FillValue of 9.969209968386869e+36 used\n",
            "<class 'netCDF4._netCDF4.Variable'>\n",
            "float32 shflux(time, eta_rho, xi_rho)\n",
            "    long_name: surface net heat flux\n",
            "    units: Watts meter-2\n",
            "    coordinates: lat_rho lon_rho\n",
            "unlimited dimensions: time\n",
            "current shape = (1022, 311, 182)\n",
            "filling on, default _FillValue of 9.969209968386869e+36 used\n",
            "<class 'netCDF4._netCDF4.Variable'>\n",
            "float32 swflux(time, eta_rho, xi_rho)\n",
            "    long_name: surface freshwater flux (E-P)\n",
            "    units: centimeter day-1\n",
            "    coordinates: lat_rho lon_rho\n",
            "unlimited dimensions: time\n",
            "current shape = (1022, 311, 182)\n",
            "filling on, default _FillValue of 9.969209968386869e+36 used\n",
            "<class 'netCDF4._netCDF4.Variable'>\n",
            "float32 swrad(time, eta_rho, xi_rho)\n",
            "    long_name: Short-wave surface radiation\n",
            "    units: Watts meter-2\n",
            "    coordinates: lat_rho lon_rho\n",
            "unlimited dimensions: time\n",
            "current shape = (1022, 311, 182)\n",
            "filling on, default _FillValue of 9.969209968386869e+36 used\n"
          ],
          "name": "stdout"
        }
      ]
    },
    {
      "cell_type": "markdown",
      "metadata": {
        "id": "gyetN5lRzGiH"
      },
      "source": [
        "Batimetria del sector"
      ]
    },
    {
      "cell_type": "code",
      "metadata": {
        "id": "xW33BESuzFkS"
      },
      "source": [
        "url2 = ('/content/gdrive/My Drive/Colab Notebooks/croco_grd.nc.4')\n",
        "ds2 = nc.Dataset(url2, mode=modeType, format=fileFormat)"
      ],
      "execution_count": null,
      "outputs": []
    },
    {
      "cell_type": "code",
      "metadata": {
        "id": "m6odApMnaDSR",
        "colab": {
          "base_uri": "https://localhost:8080/"
        },
        "outputId": "1602bb8f-e249-4858-85fb-1ba035b984a3"
      },
      "source": [
        "dimensiones(ds2)"
      ],
      "execution_count": null,
      "outputs": [
        {
          "output_type": "stream",
          "text": [
            "<class 'netCDF4._netCDF4.Dimension'>: name = 'xi_u', size = 181\n",
            "<class 'netCDF4._netCDF4.Dimension'>: name = 'eta_u', size = 311\n",
            "<class 'netCDF4._netCDF4.Dimension'>: name = 'xi_v', size = 182\n",
            "<class 'netCDF4._netCDF4.Dimension'>: name = 'eta_v', size = 310\n",
            "<class 'netCDF4._netCDF4.Dimension'>: name = 'xi_rho', size = 182\n",
            "<class 'netCDF4._netCDF4.Dimension'>: name = 'eta_rho', size = 311\n",
            "<class 'netCDF4._netCDF4.Dimension'>: name = 'xi_psi', size = 181\n",
            "<class 'netCDF4._netCDF4.Dimension'>: name = 'eta_psi', size = 310\n",
            "<class 'netCDF4._netCDF4.Dimension'>: name = 'one', size = 1\n",
            "<class 'netCDF4._netCDF4.Dimension'>: name = 'two', size = 2\n",
            "<class 'netCDF4._netCDF4.Dimension'>: name = 'four', size = 4\n",
            "<class 'netCDF4._netCDF4.Dimension'> (unlimited): name = 'bath', size = 1\n"
          ],
          "name": "stdout"
        }
      ]
    },
    {
      "cell_type": "code",
      "metadata": {
        "id": "4cLKPiRtc1nR",
        "colab": {
          "base_uri": "https://localhost:8080/"
        },
        "outputId": "5bffd4aa-02d1-4765-cf56-6dfd1c8d0acc"
      },
      "source": [
        "variab(ds2)"
      ],
      "execution_count": null,
      "outputs": [
        {
          "output_type": "stream",
          "text": [
            "<class 'netCDF4._netCDF4.Variable'>\n",
            "float64 xl(one)\n",
            "    long_name: domain length in the XI-direction\n",
            "    units: meter\n",
            "unlimited dimensions: \n",
            "current shape = (1,)\n",
            "filling on, default _FillValue of 9.969209968386869e+36 used\n",
            "<class 'netCDF4._netCDF4.Variable'>\n",
            "float64 el(one)\n",
            "    long_name: domain length in the ETA-direction\n",
            "    units: meter\n",
            "unlimited dimensions: \n",
            "current shape = (1,)\n",
            "filling on, default _FillValue of 9.969209968386869e+36 used\n",
            "<class 'netCDF4._netCDF4.Variable'>\n",
            "float64 depthmin(one)\n",
            "    long_name: Shallow bathymetry clipping depth\n",
            "    units: meter\n",
            "unlimited dimensions: \n",
            "current shape = (1,)\n",
            "filling on, default _FillValue of 9.969209968386869e+36 used\n",
            "<class 'netCDF4._netCDF4.Variable'>\n",
            "float64 depthmax(one)\n",
            "    long_name: Deep bathymetry clipping depth\n",
            "    units: meter\n",
            "unlimited dimensions: \n",
            "current shape = (1,)\n",
            "filling on, default _FillValue of 9.969209968386869e+36 used\n",
            "<class 'netCDF4._netCDF4.Variable'>\n",
            "|S1 spherical(one)\n",
            "    long_name: Grid type logical switch\n",
            "    option_T: spherical\n",
            "unlimited dimensions: \n",
            "current shape = (1,)\n",
            "filling on, default _FillValue of \u0000 used\n",
            "<class 'netCDF4._netCDF4.Variable'>\n",
            "int32 refine_coef(one)\n",
            "    long_name: Grid refinment coefficient\n",
            "unlimited dimensions: \n",
            "current shape = (1,)\n",
            "filling on, default _FillValue of -2147483647 used\n",
            "<class 'netCDF4._netCDF4.Variable'>\n",
            "int32 grd_pos(four)\n",
            "    long_name: Subgrid location in the parent grid: psi corner points (imin imax jmin jmax)\n",
            "unlimited dimensions: \n",
            "current shape = (4,)\n",
            "filling on, default _FillValue of -2147483647 used\n",
            "<class 'netCDF4._netCDF4.Variable'>\n",
            "float64 angle(eta_rho, xi_rho)\n",
            "    long_name: angle between xi axis and east\n",
            "    units: degree\n",
            "unlimited dimensions: \n",
            "current shape = (311, 182)\n",
            "filling on, default _FillValue of 9.969209968386869e+36 used\n",
            "<class 'netCDF4._netCDF4.Variable'>\n",
            "float64 h(eta_rho, xi_rho)\n",
            "    long_name: Final bathymetry at RHO-points\n",
            "    units: meter\n",
            "unlimited dimensions: \n",
            "current shape = (311, 182)\n",
            "filling on, default _FillValue of 9.969209968386869e+36 used\n",
            "<class 'netCDF4._netCDF4.Variable'>\n",
            "float64 hraw(bath, eta_rho, xi_rho)\n",
            "    long_name: Working bathymetry at RHO-points\n",
            "    units: meter\n",
            "unlimited dimensions: bath\n",
            "current shape = (1, 311, 182)\n",
            "filling on, default _FillValue of 9.969209968386869e+36 used\n",
            "<class 'netCDF4._netCDF4.Variable'>\n",
            "float64 alpha(eta_rho, xi_rho)\n",
            "    long_name: Weights between coarse and fine grids at RHO-points\n",
            "unlimited dimensions: \n",
            "current shape = (311, 182)\n",
            "filling on, default _FillValue of 9.969209968386869e+36 used\n",
            "<class 'netCDF4._netCDF4.Variable'>\n",
            "float64 f(eta_rho, xi_rho)\n",
            "    long_name: Coriolis parameter at RHO-points\n",
            "    units: second-1\n",
            "unlimited dimensions: \n",
            "current shape = (311, 182)\n",
            "filling on, default _FillValue of 9.969209968386869e+36 used\n",
            "<class 'netCDF4._netCDF4.Variable'>\n",
            "float64 pm(eta_rho, xi_rho)\n",
            "    long_name: curvilinear coordinate metric in XI\n",
            "    units: meter-1\n",
            "unlimited dimensions: \n",
            "current shape = (311, 182)\n",
            "filling on, default _FillValue of 9.969209968386869e+36 used\n",
            "<class 'netCDF4._netCDF4.Variable'>\n",
            "float64 pn(eta_rho, xi_rho)\n",
            "    long_name: curvilinear coordinate metric in ETA\n",
            "    units: meter-1\n",
            "unlimited dimensions: \n",
            "current shape = (311, 182)\n",
            "filling on, default _FillValue of 9.969209968386869e+36 used\n",
            "<class 'netCDF4._netCDF4.Variable'>\n",
            "float64 dndx(eta_rho, xi_rho)\n",
            "    long_name: xi derivative of inverse metric factor pn\n",
            "    units: meter\n",
            "unlimited dimensions: \n",
            "current shape = (311, 182)\n",
            "filling on, default _FillValue of 9.969209968386869e+36 used\n",
            "<class 'netCDF4._netCDF4.Variable'>\n",
            "float64 dmde(eta_rho, xi_rho)\n",
            "    long_name: eta derivative of inverse metric factor pm\n",
            "    units: meter\n",
            "unlimited dimensions: \n",
            "current shape = (311, 182)\n",
            "filling on, default _FillValue of 9.969209968386869e+36 used\n",
            "<class 'netCDF4._netCDF4.Variable'>\n",
            "float64 x_rho(eta_rho, xi_rho)\n",
            "    long_name: x location of RHO-points\n",
            "    units: meter\n",
            "unlimited dimensions: \n",
            "current shape = (311, 182)\n",
            "filling on, default _FillValue of 9.969209968386869e+36 used\n",
            "<class 'netCDF4._netCDF4.Variable'>\n",
            "float64 x_u(eta_u, xi_u)\n",
            "    long_name: x location of U-points\n",
            "    units: meter\n",
            "unlimited dimensions: \n",
            "current shape = (311, 181)\n",
            "filling on, default _FillValue of 9.969209968386869e+36 used\n",
            "<class 'netCDF4._netCDF4.Variable'>\n",
            "float64 x_v(eta_v, xi_v)\n",
            "    long_name: x location of V-points\n",
            "    units: meter\n",
            "unlimited dimensions: \n",
            "current shape = (310, 182)\n",
            "filling on, default _FillValue of 9.969209968386869e+36 used\n",
            "<class 'netCDF4._netCDF4.Variable'>\n",
            "float64 x_psi(eta_psi, xi_psi)\n",
            "    long_name: x location of PSI-points\n",
            "    units: meter\n",
            "unlimited dimensions: \n",
            "current shape = (310, 181)\n",
            "filling on, default _FillValue of 9.969209968386869e+36 used\n",
            "<class 'netCDF4._netCDF4.Variable'>\n",
            "float64 y_rho(eta_rho, xi_rho)\n",
            "    long_name: y location of RHO-points\n",
            "    units: meter\n",
            "unlimited dimensions: \n",
            "current shape = (311, 182)\n",
            "filling on, default _FillValue of 9.969209968386869e+36 used\n",
            "<class 'netCDF4._netCDF4.Variable'>\n",
            "float64 y_u(eta_u, xi_u)\n",
            "    long_name: y location of U-points\n",
            "    units: meter\n",
            "unlimited dimensions: \n",
            "current shape = (311, 181)\n",
            "filling on, default _FillValue of 9.969209968386869e+36 used\n",
            "<class 'netCDF4._netCDF4.Variable'>\n",
            "float64 y_v(eta_v, xi_v)\n",
            "    long_name: y location of V-points\n",
            "    units: meter\n",
            "unlimited dimensions: \n",
            "current shape = (310, 182)\n",
            "filling on, default _FillValue of 9.969209968386869e+36 used\n",
            "<class 'netCDF4._netCDF4.Variable'>\n",
            "float64 y_psi(eta_psi, xi_psi)\n",
            "    long_name: y location of PSI-points\n",
            "    units: meter\n",
            "unlimited dimensions: \n",
            "current shape = (310, 181)\n",
            "filling on, default _FillValue of 9.969209968386869e+36 used\n",
            "<class 'netCDF4._netCDF4.Variable'>\n",
            "float64 lon_rho(eta_rho, xi_rho)\n",
            "    long_name: longitude of RHO-points\n",
            "    units: degree_east\n",
            "unlimited dimensions: \n",
            "current shape = (311, 182)\n",
            "filling on, default _FillValue of 9.969209968386869e+36 used\n",
            "<class 'netCDF4._netCDF4.Variable'>\n",
            "float64 lon_u(eta_u, xi_u)\n",
            "    long_name: longitude of U-points\n",
            "    units: degree_east\n",
            "unlimited dimensions: \n",
            "current shape = (311, 181)\n",
            "filling on, default _FillValue of 9.969209968386869e+36 used\n",
            "<class 'netCDF4._netCDF4.Variable'>\n",
            "float64 lon_v(eta_v, xi_v)\n",
            "    long_name: longitude of V-points\n",
            "    units: degree_east\n",
            "unlimited dimensions: \n",
            "current shape = (310, 182)\n",
            "filling on, default _FillValue of 9.969209968386869e+36 used\n",
            "<class 'netCDF4._netCDF4.Variable'>\n",
            "float64 lon_psi(eta_psi, xi_psi)\n",
            "    long_name: longitude of PSI-points\n",
            "    units: degree_east\n",
            "unlimited dimensions: \n",
            "current shape = (310, 181)\n",
            "filling on, default _FillValue of 9.969209968386869e+36 used\n",
            "<class 'netCDF4._netCDF4.Variable'>\n",
            "float64 lat_rho(eta_rho, xi_rho)\n",
            "    long_name: latitude of RHO-points\n",
            "    units: degree_north\n",
            "unlimited dimensions: \n",
            "current shape = (311, 182)\n",
            "filling on, default _FillValue of 9.969209968386869e+36 used\n",
            "<class 'netCDF4._netCDF4.Variable'>\n",
            "float64 lat_u(eta_u, xi_u)\n",
            "    long_name: latitude of U-points\n",
            "    units: degree_north\n",
            "unlimited dimensions: \n",
            "current shape = (311, 181)\n",
            "filling on, default _FillValue of 9.969209968386869e+36 used\n",
            "<class 'netCDF4._netCDF4.Variable'>\n",
            "float64 lat_v(eta_v, xi_v)\n",
            "    long_name: latitude of V-points\n",
            "    units: degree_north\n",
            "unlimited dimensions: \n",
            "current shape = (310, 182)\n",
            "filling on, default _FillValue of 9.969209968386869e+36 used\n",
            "<class 'netCDF4._netCDF4.Variable'>\n",
            "float64 lat_psi(eta_psi, xi_psi)\n",
            "    long_name: latitude of PSI-points\n",
            "    units: degree_north\n",
            "unlimited dimensions: \n",
            "current shape = (310, 181)\n",
            "filling on, default _FillValue of 9.969209968386869e+36 used\n",
            "<class 'netCDF4._netCDF4.Variable'>\n",
            "float64 mask_rho(eta_rho, xi_rho)\n",
            "    long_name: mask on RHO-points\n",
            "    option_0: land\n",
            "    option_1: water\n",
            "unlimited dimensions: \n",
            "current shape = (311, 182)\n",
            "filling on, default _FillValue of 9.969209968386869e+36 used\n",
            "<class 'netCDF4._netCDF4.Variable'>\n",
            "float64 mask_u(eta_u, xi_u)\n",
            "    long_name: mask on U-points\n",
            "    option_0: land\n",
            "    option_1: water\n",
            "unlimited dimensions: \n",
            "current shape = (311, 181)\n",
            "filling on, default _FillValue of 9.969209968386869e+36 used\n",
            "<class 'netCDF4._netCDF4.Variable'>\n",
            "float64 mask_v(eta_v, xi_v)\n",
            "    long_name: mask on V-points\n",
            "    option_0: land\n",
            "    option_1: water\n",
            "unlimited dimensions: \n",
            "current shape = (310, 182)\n",
            "filling on, default _FillValue of 9.969209968386869e+36 used\n",
            "<class 'netCDF4._netCDF4.Variable'>\n",
            "float64 mask_psi(eta_psi, xi_psi)\n",
            "    long_name: mask on PSI-points\n",
            "    option_0: land\n",
            "    option_1: water\n",
            "unlimited dimensions: \n",
            "current shape = (310, 181)\n",
            "filling on, default _FillValue of 9.969209968386869e+36 used\n"
          ],
          "name": "stdout"
        }
      ]
    },
    {
      "cell_type": "markdown",
      "metadata": {
        "id": "WDiNwLQ-ZKAQ"
      },
      "source": [
        "Datos de la posición de la jaula del centro de cultivo"
      ]
    },
    {
      "cell_type": "code",
      "metadata": {
        "id": "Fx8NofaGZP9e"
      },
      "source": [
        "xj = 70\n",
        "yj = 36"
      ],
      "execution_count": null,
      "outputs": []
    },
    {
      "cell_type": "markdown",
      "metadata": {
        "id": "A8z0DaxMVdKj"
      },
      "source": [
        "### Exploración de las variables que se tiene los dataset"
      ]
    },
    {
      "cell_type": "code",
      "metadata": {
        "id": "ESYlRJ1xVgnW",
        "colab": {
          "base_uri": "https://localhost:8080/"
        },
        "outputId": "1efacb92-c2a3-4135-90a3-e2bb83e1f497"
      },
      "source": [
        "ds.variables.keys()"
      ],
      "execution_count": null,
      "outputs": [
        {
          "output_type": "execute_result",
          "data": {
            "text/plain": [
              "odict_keys(['spherical', 'xl', 'el', 'xi_rho', 'xi_u', 'eta_rho', 'eta_v', 'Vtransform', 's_rho', 's_w', 'sc_r', 'sc_w', 'Cs_r', 'Cs_w', 'hc', 'h', 'f', 'pm', 'pn', 'lon_rho', 'lat_rho', 'lon_u', 'lat_u', 'lon_v', 'lat_v', 'angle', 'mask_rho', 'time_step', 'scrum_time', 'time', 'zeta', 'ubar', 'vbar', 'u', 'v', 'temp', 'salt', 'DIC', 'TALK', 'O2', 'CACO3', 'PO4', 'POC', 'Si', 'NANO', 'ZOO', 'DOC', 'DIA', 'MESO', 'BSI', 'FER', 'BFE', 'GOC', 'SFE', 'DFE', 'DSI', 'NFE', 'NCHL', 'DCHL', 'NO3', 'NH4', 'w', 'bostr', 'wstr', 'sustr', 'svstr', 'AKt', 'hbl', 'hbbl', 'shflux', 'swflux', 'swrad'])"
            ]
          },
          "metadata": {
            "tags": []
          },
          "execution_count": 19
        }
      ]
    },
    {
      "cell_type": "code",
      "metadata": {
        "id": "OvBtlkeAVhW5",
        "colab": {
          "base_uri": "https://localhost:8080/"
        },
        "outputId": "de51d95e-1ecc-473e-b5f8-038db3a00c8e"
      },
      "source": [
        "ds1.variables.keys()"
      ],
      "execution_count": null,
      "outputs": [
        {
          "output_type": "execute_result",
          "data": {
            "text/plain": [
              "odict_keys(['spherical', 'xl', 'el', 'xi_rho', 'xi_u', 'eta_rho', 'eta_v', 'Vtransform', 's_rho', 's_w', 'sc_r', 'sc_w', 'Cs_r', 'Cs_w', 'hc', 'h', 'f', 'pm', 'pn', 'lon_rho', 'lat_rho', 'lon_u', 'lat_u', 'lon_v', 'lat_v', 'angle', 'mask_rho', 'time_step', 'scrum_time', 'time', 'zeta', 'ubar', 'vbar', 'u', 'v', 'temp', 'salt', 'DIC', 'TALK', 'O2', 'CACO3', 'PO4', 'POC', 'Si', 'NANO', 'ZOO', 'DOC', 'DIA', 'MESO', 'BSI', 'FER', 'BFE', 'GOC', 'SFE', 'DFE', 'DSI', 'NFE', 'NCHL', 'DCHL', 'NO3', 'NH4', 'w', 'bostr', 'wstr', 'sustr', 'svstr', 'AKt', 'hbl', 'hbbl', 'shflux', 'swflux', 'swrad'])"
            ]
          },
          "metadata": {
            "tags": []
          },
          "execution_count": 20
        }
      ]
    },
    {
      "cell_type": "markdown",
      "metadata": {
        "id": "Ks29f8qIWHiB"
      },
      "source": [
        "## Acceso a las variables para identificar que tiene internamente el data set a explorar"
      ]
    },
    {
      "cell_type": "code",
      "metadata": {
        "id": "wgkiKwrFWL1-",
        "colab": {
          "base_uri": "https://localhost:8080/"
        },
        "outputId": "b3426f54-f77a-4eda-fb66-5f706c90b672"
      },
      "source": [
        "spherical = ds.variables['spherical']\n",
        "spherical"
      ],
      "execution_count": null,
      "outputs": [
        {
          "output_type": "execute_result",
          "data": {
            "text/plain": [
              "<class 'netCDF4._netCDF4.Variable'>\n",
              "|S1 spherical()\n",
              "    long_name: grid type logical switch\n",
              "    option_T: spherical\n",
              "    option_F: cartesian\n",
              "unlimited dimensions: \n",
              "current shape = ()\n",
              "filling on, default _FillValue of \u0000 used"
            ]
          },
          "metadata": {
            "tags": []
          },
          "execution_count": 21
        }
      ]
    },
    {
      "cell_type": "code",
      "metadata": {
        "id": "wvdrnku-WW_E",
        "colab": {
          "base_uri": "https://localhost:8080/"
        },
        "outputId": "4534c8f0-1bf3-461f-c067-c91a1ceee838"
      },
      "source": [
        "xl = ds.variables['xl']\n",
        "xl"
      ],
      "execution_count": null,
      "outputs": [
        {
          "output_type": "execute_result",
          "data": {
            "text/plain": [
              "<class 'netCDF4._netCDF4.Variable'>\n",
              "float32 xl()\n",
              "    long_name: domain length in the XI-direction\n",
              "    units: meter\n",
              "unlimited dimensions: \n",
              "current shape = ()\n",
              "filling on, default _FillValue of 9.969209968386869e+36 used"
            ]
          },
          "metadata": {
            "tags": []
          },
          "execution_count": 22
        }
      ]
    },
    {
      "cell_type": "code",
      "metadata": {
        "id": "8tnUDmo_WcAz",
        "colab": {
          "base_uri": "https://localhost:8080/"
        },
        "outputId": "f703b7a4-bf27-4d0e-b28f-af5ce20a5ab8"
      },
      "source": [
        "el = ds.variables['el']\n",
        "el"
      ],
      "execution_count": null,
      "outputs": [
        {
          "output_type": "execute_result",
          "data": {
            "text/plain": [
              "<class 'netCDF4._netCDF4.Variable'>\n",
              "float32 el()\n",
              "    long_name: domain length in the ETA-direction\n",
              "    units: meter\n",
              "unlimited dimensions: \n",
              "current shape = ()\n",
              "filling on, default _FillValue of 9.969209968386869e+36 used"
            ]
          },
          "metadata": {
            "tags": []
          },
          "execution_count": 23
        }
      ]
    },
    {
      "cell_type": "code",
      "metadata": {
        "id": "BYSJXwDiWfvC",
        "colab": {
          "base_uri": "https://localhost:8080/"
        },
        "outputId": "7d9a23a6-1931-4f1e-c240-544904eb9bd0"
      },
      "source": [
        "xi_rho = ds.variables['xi_rho']\n",
        "xi_rho"
      ],
      "execution_count": null,
      "outputs": [
        {
          "output_type": "execute_result",
          "data": {
            "text/plain": [
              "<class 'netCDF4._netCDF4.Variable'>\n",
              "float32 xi_rho(xi_rho)\n",
              "    long_name: x-dimension of the grid\n",
              "    standard_name: x_grid_index\n",
              "    axis: X\n",
              "    c_grid_dynamic_range: 2:181\n",
              "unlimited dimensions: \n",
              "current shape = (182,)\n",
              "filling on, default _FillValue of 9.969209968386869e+36 used"
            ]
          },
          "metadata": {
            "tags": []
          },
          "execution_count": 24
        }
      ]
    },
    {
      "cell_type": "code",
      "metadata": {
        "id": "01oJ3o5TWj8r",
        "colab": {
          "base_uri": "https://localhost:8080/"
        },
        "outputId": "adf31b4f-e99f-481b-c4fd-fb13f277de09"
      },
      "source": [
        "xi_u = ds.variables['xi_u']\n",
        "xi_u"
      ],
      "execution_count": null,
      "outputs": [
        {
          "output_type": "execute_result",
          "data": {
            "text/plain": [
              "<class 'netCDF4._netCDF4.Variable'>\n",
              "float32 xi_u(xi_u)\n",
              "    long_name: x-dimension of the grid at u location\n",
              "    standard_name: x_grid_index_at_u_location\n",
              "    axis: X\n",
              "    c_grid_axis_shift: 0.5\n",
              "    c_grid_dynamic_range: 2:180\n",
              "unlimited dimensions: \n",
              "current shape = (181,)\n",
              "filling on, default _FillValue of 9.969209968386869e+36 used"
            ]
          },
          "metadata": {
            "tags": []
          },
          "execution_count": 25
        }
      ]
    },
    {
      "cell_type": "code",
      "metadata": {
        "id": "E5SmKjXrWqpR",
        "colab": {
          "base_uri": "https://localhost:8080/"
        },
        "outputId": "c26619d6-55e2-4cc6-aa85-fd10c666af98"
      },
      "source": [
        "eta_rho = ds.variables['eta_rho']\n",
        "eta_rho"
      ],
      "execution_count": null,
      "outputs": [
        {
          "output_type": "execute_result",
          "data": {
            "text/plain": [
              "<class 'netCDF4._netCDF4.Variable'>\n",
              "float32 eta_rho(eta_rho)\n",
              "    long_name: y-dimension of the grid\n",
              "    standard_name: y_grid_index\n",
              "    axis: Y\n",
              "    c_grid_dynamic_range: 2:310\n",
              "unlimited dimensions: \n",
              "current shape = (311,)\n",
              "filling on, default _FillValue of 9.969209968386869e+36 used"
            ]
          },
          "metadata": {
            "tags": []
          },
          "execution_count": 26
        }
      ]
    },
    {
      "cell_type": "code",
      "metadata": {
        "id": "Xd7F2lPLWvgZ",
        "colab": {
          "base_uri": "https://localhost:8080/"
        },
        "outputId": "1dea1f4a-ead8-4041-ee52-18d7b406eac6"
      },
      "source": [
        "eta_v = ds.variables['eta_v']\n",
        "eta_v"
      ],
      "execution_count": null,
      "outputs": [
        {
          "output_type": "execute_result",
          "data": {
            "text/plain": [
              "<class 'netCDF4._netCDF4.Variable'>\n",
              "float32 eta_v(eta_v)\n",
              "    long_name: y-dimension of the grid at v location\n",
              "    standard_name: x_grid_index_at_v_location\n",
              "    axis: Y\n",
              "    c_grid_axis_shift: 0.5\n",
              "    c_grid_dynamic_range: 2:309\n",
              "unlimited dimensions: \n",
              "current shape = (310,)\n",
              "filling on, default _FillValue of 9.969209968386869e+36 used"
            ]
          },
          "metadata": {
            "tags": []
          },
          "execution_count": 27
        }
      ]
    },
    {
      "cell_type": "code",
      "metadata": {
        "id": "5o6gSYLZW1Gw",
        "colab": {
          "base_uri": "https://localhost:8080/"
        },
        "outputId": "56c79bfb-3fa5-4f2f-b52c-1d87faf0e948"
      },
      "source": [
        "Vtransform = ds.variables['Vtransform']\n",
        "Vtransform"
      ],
      "execution_count": null,
      "outputs": [
        {
          "output_type": "execute_result",
          "data": {
            "text/plain": [
              "<class 'netCDF4._netCDF4.Variable'>\n",
              "float32 Vtransform()\n",
              "    long_name: vertical terrain-following transformation equatio\n",
              "unlimited dimensions: \n",
              "current shape = ()\n",
              "filling on, default _FillValue of 9.969209968386869e+36 used"
            ]
          },
          "metadata": {
            "tags": []
          },
          "execution_count": 28
        }
      ]
    },
    {
      "cell_type": "code",
      "metadata": {
        "id": "1hDT1TmMW5yn",
        "colab": {
          "base_uri": "https://localhost:8080/"
        },
        "outputId": "9ebfda0c-f8c8-4bd6-cb98-948ce600fbea"
      },
      "source": [
        "s_rho = ds.variables['s_rho']\n",
        "s_rho"
      ],
      "execution_count": null,
      "outputs": [
        {
          "output_type": "execute_result",
          "data": {
            "text/plain": [
              "<class 'netCDF4._netCDF4.Variable'>\n",
              "float32 s_rho(s_rho)\n",
              "    long_name: S-coordinate at RHO-points\n",
              "    axis: Z\n",
              "    positive: up\n",
              "    standard_name: ocean_s_coordinate_g2\n",
              "    formula_terms: s: sc_r C: Cs_r eta: zeta depth: h depth_c: hc\n",
              "unlimited dimensions: \n",
              "current shape = (30,)\n",
              "filling on, default _FillValue of 9.969209968386869e+36 used"
            ]
          },
          "metadata": {
            "tags": []
          },
          "execution_count": 29
        }
      ]
    },
    {
      "cell_type": "code",
      "metadata": {
        "id": "pazlD4VAXAuv",
        "colab": {
          "base_uri": "https://localhost:8080/"
        },
        "outputId": "4c53ee8a-d2e6-43d4-b4e6-0d7867b442a3"
      },
      "source": [
        "s_w = ds.variables['s_w']\n",
        "s_w"
      ],
      "execution_count": null,
      "outputs": [
        {
          "output_type": "execute_result",
          "data": {
            "text/plain": [
              "<class 'netCDF4._netCDF4.Variable'>\n",
              "float32 s_w(s_w)\n",
              "    long_name: S-coordinate at W-points\n",
              "    axis: Z\n",
              "    positive: up\n",
              "    c_grid_axis_shift: -0.5\n",
              "    standard_name: ocean_s_coordinate_g2_at_w_location\n",
              "    formula_terms: s: sc_w C: Cs_w eta: zeta depth: h depth_c: hc\n",
              "unlimited dimensions: \n",
              "current shape = (31,)\n",
              "filling on, default _FillValue of 9.969209968386869e+36 used"
            ]
          },
          "metadata": {
            "tags": []
          },
          "execution_count": 30
        }
      ]
    },
    {
      "cell_type": "code",
      "metadata": {
        "id": "3fFYE-nSXEtG",
        "colab": {
          "base_uri": "https://localhost:8080/"
        },
        "outputId": "b7b098c0-f464-44e6-b182-8f206a56abda"
      },
      "source": [
        "sc_r = ds.variables['sc_r']\n",
        "sc_r"
      ],
      "execution_count": null,
      "outputs": [
        {
          "output_type": "execute_result",
          "data": {
            "text/plain": [
              "<class 'netCDF4._netCDF4.Variable'>\n",
              "float32 sc_r(s_rho)\n",
              "    long_name: ocean s roms coordinate at rho point\n",
              "    Vtransform: 2\n",
              "unlimited dimensions: \n",
              "current shape = (30,)\n",
              "filling on, default _FillValue of 9.969209968386869e+36 used"
            ]
          },
          "metadata": {
            "tags": []
          },
          "execution_count": 31
        }
      ]
    },
    {
      "cell_type": "code",
      "metadata": {
        "id": "YFGq-yk9XJ2e",
        "colab": {
          "base_uri": "https://localhost:8080/"
        },
        "outputId": "f7ee7081-0c08-490e-a140-bccb0abc5eaf"
      },
      "source": [
        "sc_w = ds.variables['sc_w']\n",
        "sc_w"
      ],
      "execution_count": null,
      "outputs": [
        {
          "output_type": "execute_result",
          "data": {
            "text/plain": [
              "<class 'netCDF4._netCDF4.Variable'>\n",
              "float32 sc_w(s_w)\n",
              "    long_name: ocean s roms coordinate at w point\n",
              "    Vtransform: 2\n",
              "unlimited dimensions: \n",
              "current shape = (31,)\n",
              "filling on, default _FillValue of 9.969209968386869e+36 used"
            ]
          },
          "metadata": {
            "tags": []
          },
          "execution_count": 32
        }
      ]
    },
    {
      "cell_type": "code",
      "metadata": {
        "id": "p64KGzXMXNsu",
        "colab": {
          "base_uri": "https://localhost:8080/"
        },
        "outputId": "9e86b182-af50-4ef5-98fd-9eeed052d7f2"
      },
      "source": [
        "Cs_r = ds.variables['Cs_r']\n",
        "Cs_r"
      ],
      "execution_count": null,
      "outputs": [
        {
          "output_type": "execute_result",
          "data": {
            "text/plain": [
              "<class 'netCDF4._netCDF4.Variable'>\n",
              "float32 Cs_r(s_rho)\n",
              "    long_name: S-coordinate stretching curves at RHO-points\n",
              "unlimited dimensions: \n",
              "current shape = (30,)\n",
              "filling on, default _FillValue of 9.969209968386869e+36 used"
            ]
          },
          "metadata": {
            "tags": []
          },
          "execution_count": 33
        }
      ]
    },
    {
      "cell_type": "code",
      "metadata": {
        "id": "teNod4_4XTmF",
        "colab": {
          "base_uri": "https://localhost:8080/"
        },
        "outputId": "d38b2c10-4046-4734-cf2c-81b326e7d347"
      },
      "source": [
        "Cs_w = ds.variables['Cs_w']\n",
        "Cs_w"
      ],
      "execution_count": null,
      "outputs": [
        {
          "output_type": "execute_result",
          "data": {
            "text/plain": [
              "<class 'netCDF4._netCDF4.Variable'>\n",
              "float32 Cs_w(s_w)\n",
              "    long_name: S-coordinate stretching curves at W-points\n",
              "unlimited dimensions: \n",
              "current shape = (31,)\n",
              "filling on, default _FillValue of 9.969209968386869e+36 used"
            ]
          },
          "metadata": {
            "tags": []
          },
          "execution_count": 34
        }
      ]
    },
    {
      "cell_type": "code",
      "metadata": {
        "id": "YXy5q2OTXXdc",
        "colab": {
          "base_uri": "https://localhost:8080/"
        },
        "outputId": "ded29cb2-317b-4844-aac6-c7fed3509a80"
      },
      "source": [
        "hc = ds.variables['hc']\n",
        "hc"
      ],
      "execution_count": null,
      "outputs": [
        {
          "output_type": "execute_result",
          "data": {
            "text/plain": [
              "<class 'netCDF4._netCDF4.Variable'>\n",
              "float32 hc()\n",
              "    long_name: S-coordinate parameter, critical depth\n",
              "    units: meter\n",
              "unlimited dimensions: \n",
              "current shape = ()\n",
              "filling on, default _FillValue of 9.969209968386869e+36 used"
            ]
          },
          "metadata": {
            "tags": []
          },
          "execution_count": 35
        }
      ]
    },
    {
      "cell_type": "code",
      "metadata": {
        "id": "DXVI_syLXdW8",
        "colab": {
          "base_uri": "https://localhost:8080/"
        },
        "outputId": "226871ab-585f-4d6f-bf51-cfa797359ea2"
      },
      "source": [
        "h = ds.variables['h']\n",
        "h"
      ],
      "execution_count": null,
      "outputs": [
        {
          "output_type": "execute_result",
          "data": {
            "text/plain": [
              "<class 'netCDF4._netCDF4.Variable'>\n",
              "float32 h(eta_rho, xi_rho)\n",
              "    long_name: bathymetry at RHO-points\n",
              "    units: meter\n",
              "    field: bath, scalar\n",
              "    standard_name: model_sea_floor_depth_below_geoid\n",
              "    coordinates: lat_rho lon_rho\n",
              "unlimited dimensions: \n",
              "current shape = (311, 182)\n",
              "filling on, default _FillValue of 9.969209968386869e+36 used"
            ]
          },
          "metadata": {
            "tags": []
          },
          "execution_count": 36
        }
      ]
    },
    {
      "cell_type": "code",
      "metadata": {
        "id": "QOUIvXLgXiu9",
        "colab": {
          "base_uri": "https://localhost:8080/"
        },
        "outputId": "cf5fbb4a-2ade-46e9-ef14-f4425370867e"
      },
      "source": [
        "f = ds.variables['f']\n",
        "f"
      ],
      "execution_count": null,
      "outputs": [
        {
          "output_type": "execute_result",
          "data": {
            "text/plain": [
              "<class 'netCDF4._netCDF4.Variable'>\n",
              "float32 f(eta_rho, xi_rho)\n",
              "    long_name: Coriolis parameter at RHO-points\n",
              "    units: second-1\n",
              "    field: coriolis, scalar\n",
              "    standard_name: coriolis_parameter\n",
              "    coordinates: lat_rho lon_rho\n",
              "unlimited dimensions: \n",
              "current shape = (311, 182)\n",
              "filling on, default _FillValue of 9.969209968386869e+36 used"
            ]
          },
          "metadata": {
            "tags": []
          },
          "execution_count": 37
        }
      ]
    },
    {
      "cell_type": "code",
      "metadata": {
        "id": "4_27RTh7XrOD",
        "colab": {
          "base_uri": "https://localhost:8080/"
        },
        "outputId": "7109b057-fc3d-4d0b-d99b-a3bc1ea9842e"
      },
      "source": [
        "pm = ds.variables['pm']\n",
        "pm"
      ],
      "execution_count": null,
      "outputs": [
        {
          "output_type": "execute_result",
          "data": {
            "text/plain": [
              "<class 'netCDF4._netCDF4.Variable'>\n",
              "float32 pm(eta_rho, xi_rho)\n",
              "    long_name: curvilinear coordinates metric in X\n",
              "    units: meter-1\n",
              "    field: pm, scalar\n",
              "    coordinates: lat_rho lon_rho\n",
              "    standard_name: inverse_of_cell_x_size\n",
              "unlimited dimensions: \n",
              "current shape = (311, 182)\n",
              "filling on, default _FillValue of 9.969209968386869e+36 used"
            ]
          },
          "metadata": {
            "tags": []
          },
          "execution_count": 38
        }
      ]
    },
    {
      "cell_type": "code",
      "metadata": {
        "id": "VY1Nh4egXxBR",
        "colab": {
          "base_uri": "https://localhost:8080/"
        },
        "outputId": "27565031-2e0a-4ef8-abad-16ecd6321fd9"
      },
      "source": [
        "pn = ds.variables['pn']\n",
        "pn"
      ],
      "execution_count": null,
      "outputs": [
        {
          "output_type": "execute_result",
          "data": {
            "text/plain": [
              "<class 'netCDF4._netCDF4.Variable'>\n",
              "float32 pn(eta_rho, xi_rho)\n",
              "    long_name: curvilinear coordinates metric in ET\n",
              "    units: meter-1\n",
              "    field: pn, scalar\n",
              "    coordinates: lat_rho lon_rho\n",
              "    standard_name: inverse_of_cell_y_size\n",
              "unlimited dimensions: \n",
              "current shape = (311, 182)\n",
              "filling on, default _FillValue of 9.969209968386869e+36 used"
            ]
          },
          "metadata": {
            "tags": []
          },
          "execution_count": 39
        }
      ]
    },
    {
      "cell_type": "code",
      "metadata": {
        "id": "KY34eEraX5CR",
        "colab": {
          "base_uri": "https://localhost:8080/"
        },
        "outputId": "bf182d51-f289-4a40-cf99-0bf8e1797457"
      },
      "source": [
        "lon_rho = ds.variables['lon_rho']\n",
        "lon_rho"
      ],
      "execution_count": null,
      "outputs": [
        {
          "output_type": "execute_result",
          "data": {
            "text/plain": [
              "<class 'netCDF4._netCDF4.Variable'>\n",
              "float32 lon_rho(eta_rho, xi_rho)\n",
              "    long_name: longitude of RHO-points\n",
              "    units: degree_east\n",
              "    field: lon_rho, scalar\n",
              "    standard_name: longitude\n",
              "unlimited dimensions: \n",
              "current shape = (311, 182)\n",
              "filling on, default _FillValue of 9.969209968386869e+36 used"
            ]
          },
          "metadata": {
            "tags": []
          },
          "execution_count": 40
        }
      ]
    },
    {
      "cell_type": "code",
      "metadata": {
        "id": "kCZ-V7diX_qJ",
        "colab": {
          "base_uri": "https://localhost:8080/"
        },
        "outputId": "bbe1c6c9-8395-4056-fc63-17390df6b3d0"
      },
      "source": [
        "lat_rho = ds.variables['lat_rho']\n",
        "lat_rho"
      ],
      "execution_count": null,
      "outputs": [
        {
          "output_type": "execute_result",
          "data": {
            "text/plain": [
              "<class 'netCDF4._netCDF4.Variable'>\n",
              "float32 lat_rho(eta_rho, xi_rho)\n",
              "    long_name: latitude of RHO-points\n",
              "    units: degree_north\n",
              "    field: lat_rho, scalar\n",
              "    standard_name: latitude\n",
              "unlimited dimensions: \n",
              "current shape = (311, 182)\n",
              "filling on, default _FillValue of 9.969209968386869e+36 used"
            ]
          },
          "metadata": {
            "tags": []
          },
          "execution_count": 41
        }
      ]
    },
    {
      "cell_type": "code",
      "metadata": {
        "id": "vcBRmQZjYDNw",
        "colab": {
          "base_uri": "https://localhost:8080/"
        },
        "outputId": "4330ee6d-8553-4ea5-c57a-9053a0735011"
      },
      "source": [
        "lon_u = ds.variables['lon_u']\n",
        "lon_u"
      ],
      "execution_count": null,
      "outputs": [
        {
          "output_type": "execute_result",
          "data": {
            "text/plain": [
              "<class 'netCDF4._netCDF4.Variable'>\n",
              "float32 lon_u(eta_rho, xi_u)\n",
              "    long_name: longitude of U-points\n",
              "    units: degree_east\n",
              "    field: lon_u, scalar\n",
              "    standard_name: longitude_at_u_location\n",
              "unlimited dimensions: \n",
              "current shape = (311, 181)\n",
              "filling on, default _FillValue of 9.969209968386869e+36 used"
            ]
          },
          "metadata": {
            "tags": []
          },
          "execution_count": 42
        }
      ]
    },
    {
      "cell_type": "code",
      "metadata": {
        "id": "_9njcP7fYHJo",
        "colab": {
          "base_uri": "https://localhost:8080/"
        },
        "outputId": "9eb4b776-bf41-452c-96f3-4b07fbb7fc93"
      },
      "source": [
        "lat_u = ds.variables['lat_u']\n",
        "lat_u"
      ],
      "execution_count": null,
      "outputs": [
        {
          "output_type": "execute_result",
          "data": {
            "text/plain": [
              "<class 'netCDF4._netCDF4.Variable'>\n",
              "float32 lat_u(eta_rho, xi_u)\n",
              "    long_name: latitude of U-points\n",
              "    units: degree_north\n",
              "    field: lat_u, scalar\n",
              "    standard_name: latitude_at_u_location\n",
              "unlimited dimensions: \n",
              "current shape = (311, 181)\n",
              "filling on, default _FillValue of 9.969209968386869e+36 used"
            ]
          },
          "metadata": {
            "tags": []
          },
          "execution_count": 43
        }
      ]
    },
    {
      "cell_type": "code",
      "metadata": {
        "id": "7su4dgILYNcP",
        "colab": {
          "base_uri": "https://localhost:8080/"
        },
        "outputId": "f1089ba9-6686-43d8-83b8-e05725ef92f7"
      },
      "source": [
        "lon_v = ds.variables['lon_v']\n",
        "lon_v"
      ],
      "execution_count": null,
      "outputs": [
        {
          "output_type": "execute_result",
          "data": {
            "text/plain": [
              "<class 'netCDF4._netCDF4.Variable'>\n",
              "float32 lon_v(eta_v, xi_rho)\n",
              "    long_name: longitude of V-points\n",
              "    units: degree_east\n",
              "    field: lon_v, scalar\n",
              "    standard_name: longitude_at_v_location\n",
              "unlimited dimensions: \n",
              "current shape = (310, 182)\n",
              "filling on, default _FillValue of 9.969209968386869e+36 used"
            ]
          },
          "metadata": {
            "tags": []
          },
          "execution_count": 44
        }
      ]
    },
    {
      "cell_type": "code",
      "metadata": {
        "id": "Kvf0c1vZYRn_",
        "colab": {
          "base_uri": "https://localhost:8080/"
        },
        "outputId": "0b795166-cb1e-4449-d3f0-f0636a01c2ac"
      },
      "source": [
        "lat_v = ds.variables['lat_v']\n",
        "lat_v"
      ],
      "execution_count": null,
      "outputs": [
        {
          "output_type": "execute_result",
          "data": {
            "text/plain": [
              "<class 'netCDF4._netCDF4.Variable'>\n",
              "float32 lat_v(eta_v, xi_rho)\n",
              "    long_name: latitude of V-points\n",
              "    units: degree_north\n",
              "    field: lat_v, scalar\n",
              "    standard_name: latitude_at_v_location\n",
              "unlimited dimensions: \n",
              "current shape = (310, 182)\n",
              "filling on, default _FillValue of 9.969209968386869e+36 used"
            ]
          },
          "metadata": {
            "tags": []
          },
          "execution_count": 45
        }
      ]
    },
    {
      "cell_type": "code",
      "metadata": {
        "id": "B8QnyEHSYVW-",
        "colab": {
          "base_uri": "https://localhost:8080/"
        },
        "outputId": "4236029f-672e-4f73-ebe2-b5b25568e334"
      },
      "source": [
        "angle = ds.variables['angle']\n",
        "angle"
      ],
      "execution_count": null,
      "outputs": [
        {
          "output_type": "execute_result",
          "data": {
            "text/plain": [
              "<class 'netCDF4._netCDF4.Variable'>\n",
              "float32 angle(eta_rho, xi_rho)\n",
              "    long_name: angle between XI-axis and EAST\n",
              "    units: radians\n",
              "    field: angle, scalar\n",
              "    coordinates: lat_rho lon_rho\n",
              "unlimited dimensions: \n",
              "current shape = (311, 182)\n",
              "filling on, default _FillValue of 9.969209968386869e+36 used"
            ]
          },
          "metadata": {
            "tags": []
          },
          "execution_count": 46
        }
      ]
    },
    {
      "cell_type": "code",
      "metadata": {
        "id": "hb9AitYMYZJe",
        "colab": {
          "base_uri": "https://localhost:8080/"
        },
        "outputId": "46988cdb-e59e-45eb-a3de-b7a64017803c"
      },
      "source": [
        "mask_rho = ds.variables['mask_rho']\n",
        "mask_rho"
      ],
      "execution_count": null,
      "outputs": [
        {
          "output_type": "execute_result",
          "data": {
            "text/plain": [
              "<class 'netCDF4._netCDF4.Variable'>\n",
              "float32 mask_rho(eta_rho, xi_rho)\n",
              "    long_name: mask on RHO-points\n",
              "    option_0: land\n",
              "    option_1: water\n",
              "    standard_name: land_binary_mask\n",
              "    coordinates: lat_rho lon_rho\n",
              "unlimited dimensions: \n",
              "current shape = (311, 182)\n",
              "filling on, default _FillValue of 9.969209968386869e+36 used"
            ]
          },
          "metadata": {
            "tags": []
          },
          "execution_count": 47
        }
      ]
    },
    {
      "cell_type": "code",
      "metadata": {
        "id": "zXqHnttrYfP1",
        "colab": {
          "base_uri": "https://localhost:8080/"
        },
        "outputId": "9a2d5aa8-490e-474d-e34b-755ef331b8bf"
      },
      "source": [
        "time_step = ds.variables['time_step']\n",
        "time_step"
      ],
      "execution_count": null,
      "outputs": [
        {
          "output_type": "execute_result",
          "data": {
            "text/plain": [
              "<class 'netCDF4._netCDF4.Variable'>\n",
              "int32 time_step(time, auxil)\n",
              "    long_name: time step and record numbers from initialization\n",
              "unlimited dimensions: time\n",
              "current shape = (1023, 4)\n",
              "filling on, default _FillValue of -2147483647 used"
            ]
          },
          "metadata": {
            "tags": []
          },
          "execution_count": 48
        }
      ]
    },
    {
      "cell_type": "code",
      "metadata": {
        "id": "mi8fBexpYmQV",
        "colab": {
          "base_uri": "https://localhost:8080/"
        },
        "outputId": "539f1aff-298e-4846-fe06-1efb1c434634"
      },
      "source": [
        "scrum_time = ds.variables['scrum_time']\n",
        "scrum_time"
      ],
      "execution_count": null,
      "outputs": [
        {
          "output_type": "execute_result",
          "data": {
            "text/plain": [
              "<class 'netCDF4._netCDF4.Variable'>\n",
              "float64 scrum_time(time)\n",
              "    long_name: time since initialization\n",
              "    units: second\n",
              "    field: time, scalar, series\n",
              "    standard_name: time\n",
              "    axis: T\n",
              "unlimited dimensions: time\n",
              "current shape = (1023,)\n",
              "filling on, default _FillValue of 9.969209968386869e+36 used"
            ]
          },
          "metadata": {
            "tags": []
          },
          "execution_count": 49
        }
      ]
    },
    {
      "cell_type": "code",
      "metadata": {
        "id": "5kGFl6ojYwqU",
        "colab": {
          "base_uri": "https://localhost:8080/"
        },
        "outputId": "41adf0cb-5480-4f4c-c0e9-05cdb4355430"
      },
      "source": [
        "time = ds.variables['time']\n",
        "time"
      ],
      "execution_count": null,
      "outputs": [
        {
          "output_type": "execute_result",
          "data": {
            "text/plain": [
              "<class 'netCDF4._netCDF4.Variable'>\n",
              "float64 time(time)\n",
              "    long_name: time since initialization\n",
              "    units: second\n",
              "    field: time, scalar, series\n",
              "    standard_name: time\n",
              "    axis: T\n",
              "unlimited dimensions: time\n",
              "current shape = (1023,)\n",
              "filling on, default _FillValue of 9.969209968386869e+36 used"
            ]
          },
          "metadata": {
            "tags": []
          },
          "execution_count": 50
        }
      ]
    },
    {
      "cell_type": "code",
      "metadata": {
        "id": "4zIUbZFFY38D",
        "colab": {
          "base_uri": "https://localhost:8080/"
        },
        "outputId": "8c71254c-9ef5-4b89-9235-e3a0f7718022"
      },
      "source": [
        "zeta = ds.variables['zeta']\n",
        "zeta"
      ],
      "execution_count": null,
      "outputs": [
        {
          "output_type": "execute_result",
          "data": {
            "text/plain": [
              "<class 'netCDF4._netCDF4.Variable'>\n",
              "float32 zeta(time, eta_rho, xi_rho)\n",
              "    long_name: free-surface\n",
              "    units: meter\n",
              "    field: free-surface, scalar, series\n",
              "    standard_name: sea_surface_height\n",
              "    coordinates: lat_rho lon_rho\n",
              "unlimited dimensions: time\n",
              "current shape = (1023, 311, 182)\n",
              "filling on, default _FillValue of 9.969209968386869e+36 used"
            ]
          },
          "metadata": {
            "tags": []
          },
          "execution_count": 51
        }
      ]
    },
    {
      "cell_type": "code",
      "metadata": {
        "id": "3hCTSOIOZEl6",
        "colab": {
          "base_uri": "https://localhost:8080/"
        },
        "outputId": "12ee00ad-7c11-4261-8823-cff18a9bb387"
      },
      "source": [
        "ubar = ds.variables['ubar']\n",
        "ubar"
      ],
      "execution_count": null,
      "outputs": [
        {
          "output_type": "execute_result",
          "data": {
            "text/plain": [
              "<class 'netCDF4._netCDF4.Variable'>\n",
              "float32 ubar(time, eta_rho, xi_u)\n",
              "    long_name: vertically integrated u-momentum component\n",
              "    units: meter second-1\n",
              "    field: ubar-velocity, scalar, series\n",
              "    standard_name: barotropic_sea_water_x_velocity_at_u_location\n",
              "    coordinates: lat_u lon_u\n",
              "unlimited dimensions: time\n",
              "current shape = (1023, 311, 181)\n",
              "filling on, default _FillValue of 9.969209968386869e+36 used"
            ]
          },
          "metadata": {
            "tags": []
          },
          "execution_count": 52
        }
      ]
    },
    {
      "cell_type": "code",
      "metadata": {
        "id": "SptF3eOwZIVB",
        "colab": {
          "base_uri": "https://localhost:8080/"
        },
        "outputId": "0abf7e33-b183-4f42-c90d-a7923b4da6dc"
      },
      "source": [
        "vbar = ds.variables['vbar']\n",
        "vbar"
      ],
      "execution_count": null,
      "outputs": [
        {
          "output_type": "execute_result",
          "data": {
            "text/plain": [
              "<class 'netCDF4._netCDF4.Variable'>\n",
              "float32 vbar(time, eta_v, xi_rho)\n",
              "    long_name: vertically integrated v-momentum component\n",
              "    units: meter second-1\n",
              "    field: vbar-velocity, scalar, series\n",
              "    standard_name: barotropic_sea_water_y_velocity_at_v_location\n",
              "    coordinates: lat_v lon_v\n",
              "unlimited dimensions: time\n",
              "current shape = (1023, 310, 182)\n",
              "filling on, default _FillValue of 9.969209968386869e+36 used"
            ]
          },
          "metadata": {
            "tags": []
          },
          "execution_count": 53
        }
      ]
    },
    {
      "cell_type": "code",
      "metadata": {
        "id": "FOFMO6UAZN9g",
        "colab": {
          "base_uri": "https://localhost:8080/"
        },
        "outputId": "a22c0fa0-4c73-45ab-baf1-19072b3c56f5"
      },
      "source": [
        "u = ds.variables['u']\n",
        "u"
      ],
      "execution_count": null,
      "outputs": [
        {
          "output_type": "execute_result",
          "data": {
            "text/plain": [
              "<class 'netCDF4._netCDF4.Variable'>\n",
              "float32 u(time, s_rho, eta_rho, xi_u)\n",
              "    long_name: u-momentum component\n",
              "    units: meter second-1\n",
              "    field: u-velocity, scalar, series\n",
              "    standard_name: sea_water_x_velocity_at_u_location\n",
              "    coordinates: lat_u lon_u\n",
              "unlimited dimensions: time\n",
              "current shape = (1023, 30, 311, 181)\n",
              "filling on, default _FillValue of 9.969209968386869e+36 used"
            ]
          },
          "metadata": {
            "tags": []
          },
          "execution_count": 54
        }
      ]
    },
    {
      "cell_type": "code",
      "metadata": {
        "id": "3jqbYw1oZSAA",
        "colab": {
          "base_uri": "https://localhost:8080/"
        },
        "outputId": "71d86345-5650-40a4-cf86-c58ba1ce0abc"
      },
      "source": [
        "v = ds.variables['v']\n",
        "v"
      ],
      "execution_count": null,
      "outputs": [
        {
          "output_type": "execute_result",
          "data": {
            "text/plain": [
              "<class 'netCDF4._netCDF4.Variable'>\n",
              "float32 v(time, s_rho, eta_v, xi_rho)\n",
              "    long_name: v-momentum component\n",
              "    units: meter second-1\n",
              "    field: v-velocity, scalar, series\n",
              "    standard_name: sea_water_y_velocity_at_v_location\n",
              "    coordinates: lat_v lon_v\n",
              "unlimited dimensions: time\n",
              "current shape = (1023, 30, 310, 182)\n",
              "filling on, default _FillValue of 9.969209968386869e+36 used"
            ]
          },
          "metadata": {
            "tags": []
          },
          "execution_count": 55
        }
      ]
    },
    {
      "cell_type": "code",
      "metadata": {
        "id": "sW02y2RtZdAQ",
        "colab": {
          "base_uri": "https://localhost:8080/"
        },
        "outputId": "e10fa196-3a62-4895-f914-99eebb418fba"
      },
      "source": [
        "temp = ds.variables['temp']\n",
        "temp"
      ],
      "execution_count": null,
      "outputs": [
        {
          "output_type": "execute_result",
          "data": {
            "text/plain": [
              "<class 'netCDF4._netCDF4.Variable'>\n",
              "float32 temp(time, s_rho, eta_rho, xi_rho)\n",
              "    long_name: potential temperature\n",
              "    units: Celsius\n",
              "    field: temperature, scalar, series\n",
              "    standard_name: sea_water_potential_temperature\n",
              "    coordinates: lat_rho lon_rho\n",
              "unlimited dimensions: time\n",
              "current shape = (1023, 30, 311, 182)\n",
              "filling on, default _FillValue of 9.969209968386869e+36 used"
            ]
          },
          "metadata": {
            "tags": []
          },
          "execution_count": 56
        }
      ]
    },
    {
      "cell_type": "code",
      "metadata": {
        "id": "zbdjBZwpZjt2",
        "colab": {
          "base_uri": "https://localhost:8080/"
        },
        "outputId": "62a23f6e-e369-438f-89fb-b1ca77b6f97b"
      },
      "source": [
        "salt = ds.variables['salt']\n",
        "salt"
      ],
      "execution_count": null,
      "outputs": [
        {
          "output_type": "execute_result",
          "data": {
            "text/plain": [
              "<class 'netCDF4._netCDF4.Variable'>\n",
              "float32 salt(time, s_rho, eta_rho, xi_rho)\n",
              "    long_name: salinity\n",
              "    units: PSU\n",
              "    field: salinity, scalar, series\n",
              "    standard_name: sea_water_salinity\n",
              "    coordinates: lat_rho lon_rho\n",
              "unlimited dimensions: time\n",
              "current shape = (1023, 30, 311, 182)\n",
              "filling on, default _FillValue of 9.969209968386869e+36 used"
            ]
          },
          "metadata": {
            "tags": []
          },
          "execution_count": 57
        }
      ]
    },
    {
      "cell_type": "code",
      "metadata": {
        "id": "ZAQd3T-rZ1sN",
        "colab": {
          "base_uri": "https://localhost:8080/"
        },
        "outputId": "b4e09d02-6698-4d09-a45d-c97220937367"
      },
      "source": [
        "DIC = ds.variables['DIC']\n",
        "DIC"
      ],
      "execution_count": null,
      "outputs": [
        {
          "output_type": "execute_result",
          "data": {
            "text/plain": [
              "<class 'netCDF4._netCDF4.Variable'>\n",
              "float32 DIC(time, s_rho, eta_rho, xi_rho)\n",
              "    long_name: Dissolved inorganic carbon\n",
              "    units: umol C L-1\n",
              "    field: DIC, scalar, series\n",
              "    standard_name: mole_concentration_of_dissolved_inorganic_carbon_in_sea_water\n",
              "    coordinates: lat_rho lon_rho\n",
              "unlimited dimensions: time\n",
              "current shape = (1023, 30, 311, 182)\n",
              "filling on, default _FillValue of 9.969209968386869e+36 used"
            ]
          },
          "metadata": {
            "tags": []
          },
          "execution_count": 58
        }
      ]
    },
    {
      "cell_type": "code",
      "metadata": {
        "id": "uWf8aNNWaEn6",
        "colab": {
          "base_uri": "https://localhost:8080/"
        },
        "outputId": "c1a8d679-6647-471c-df4d-1fefe44598ef"
      },
      "source": [
        "TALK = ds.variables['TALK']\n",
        "TALK"
      ],
      "execution_count": null,
      "outputs": [
        {
          "output_type": "execute_result",
          "data": {
            "text/plain": [
              "<class 'netCDF4._netCDF4.Variable'>\n",
              "float32 TALK(time, s_rho, eta_rho, xi_rho)\n",
              "    long_name: Total Alkalinity\n",
              "    units: umol C L-1\n",
              "    field: Alkalinity, scalar, series\n",
              "    coordinates: lat_rho lon_rho\n",
              "unlimited dimensions: time\n",
              "current shape = (1023, 30, 311, 182)\n",
              "filling on, default _FillValue of 9.969209968386869e+36 used"
            ]
          },
          "metadata": {
            "tags": []
          },
          "execution_count": 59
        }
      ]
    },
    {
      "cell_type": "code",
      "metadata": {
        "id": "NmtcRVSgaIFr",
        "colab": {
          "base_uri": "https://localhost:8080/"
        },
        "outputId": "0af42692-2fb2-4122-e627-c58e89d8f2cb"
      },
      "source": [
        "O2 = ds.variables['O2']\n",
        "O2"
      ],
      "execution_count": null,
      "outputs": [
        {
          "output_type": "execute_result",
          "data": {
            "text/plain": [
              "<class 'netCDF4._netCDF4.Variable'>\n",
              "float32 O2(time, s_rho, eta_rho, xi_rho)\n",
              "    long_name: Oxygen\n",
              "    units: umol L-1\n",
              "    field: Oxygen, scalar, series\n",
              "    coordinates: lat_rho lon_rho\n",
              "unlimited dimensions: time\n",
              "current shape = (1023, 30, 311, 182)\n",
              "filling on, default _FillValue of 9.969209968386869e+36 used"
            ]
          },
          "metadata": {
            "tags": []
          },
          "execution_count": 60
        }
      ]
    },
    {
      "cell_type": "code",
      "metadata": {
        "id": "fBNDcnLsaQA7",
        "colab": {
          "base_uri": "https://localhost:8080/"
        },
        "outputId": "a0a86a9c-c2d8-41ff-b8e5-163a31a0db32"
      },
      "source": [
        "CACO3 = ds.variables['CACO3']\n",
        "CACO3"
      ],
      "execution_count": null,
      "outputs": [
        {
          "output_type": "execute_result",
          "data": {
            "text/plain": [
              "<class 'netCDF4._netCDF4.Variable'>\n",
              "float32 CACO3(time, s_rho, eta_rho, xi_rho)\n",
              "    long_name: Calcite\n",
              "    units: umol C L-1\n",
              "    field: Calcite, scalar, series\n",
              "unlimited dimensions: time\n",
              "current shape = (1023, 30, 311, 182)\n",
              "filling on, default _FillValue of 9.969209968386869e+36 used"
            ]
          },
          "metadata": {
            "tags": []
          },
          "execution_count": 61
        }
      ]
    },
    {
      "cell_type": "code",
      "metadata": {
        "id": "meAIJQT1apWI",
        "colab": {
          "base_uri": "https://localhost:8080/"
        },
        "outputId": "22e5bea5-140b-435c-d152-3e296296f5c8"
      },
      "source": [
        "PO4 = ds.variables['PO4']\n",
        "PO4"
      ],
      "execution_count": null,
      "outputs": [
        {
          "output_type": "execute_result",
          "data": {
            "text/plain": [
              "<class 'netCDF4._netCDF4.Variable'>\n",
              "float32 PO4(time, s_rho, eta_rho, xi_rho)\n",
              "    long_name: Phosphate\n",
              "    units: umol P L-1\n",
              "    field: Phosphate, scalar, series\n",
              "    coordinates: lat_rho lon_rho\n",
              "unlimited dimensions: time\n",
              "current shape = (1023, 30, 311, 182)\n",
              "filling on, default _FillValue of 9.969209968386869e+36 used"
            ]
          },
          "metadata": {
            "tags": []
          },
          "execution_count": 62
        }
      ]
    },
    {
      "cell_type": "code",
      "metadata": {
        "id": "oQDUth67avua",
        "colab": {
          "base_uri": "https://localhost:8080/"
        },
        "outputId": "c74cf789-a30d-4f20-a71d-d7c6800425c6"
      },
      "source": [
        "POC = ds.variables['POC']\n",
        "POC"
      ],
      "execution_count": null,
      "outputs": [
        {
          "output_type": "execute_result",
          "data": {
            "text/plain": [
              "<class 'netCDF4._netCDF4.Variable'>\n",
              "float32 POC(time, s_rho, eta_rho, xi_rho)\n",
              "    long_name: Small particulate organic carbon\n",
              "    units: umol C L-1\n",
              "    field: Small particles, scalar, series\n",
              "    coordinates: lat_rho lon_rho\n",
              "unlimited dimensions: time\n",
              "current shape = (1023, 30, 311, 182)\n",
              "filling on, default _FillValue of 9.969209968386869e+36 used"
            ]
          },
          "metadata": {
            "tags": []
          },
          "execution_count": 63
        }
      ]
    },
    {
      "cell_type": "code",
      "metadata": {
        "id": "L4nLkbZea5O-",
        "colab": {
          "base_uri": "https://localhost:8080/"
        },
        "outputId": "94728a64-c432-42ec-a819-e97ae2dc267f"
      },
      "source": [
        "Si = ds.variables['Si']\n",
        "Si"
      ],
      "execution_count": null,
      "outputs": [
        {
          "output_type": "execute_result",
          "data": {
            "text/plain": [
              "<class 'netCDF4._netCDF4.Variable'>\n",
              "float32 Si(time, s_rho, eta_rho, xi_rho)\n",
              "    long_name: Silicate\n",
              "    units: umol Si L-1\n",
              "    field: Silicate, scalar, series\n",
              "    coordinates: lat_rho lon_rho\n",
              "unlimited dimensions: time\n",
              "current shape = (1023, 30, 311, 182)\n",
              "filling on, default _FillValue of 9.969209968386869e+36 used"
            ]
          },
          "metadata": {
            "tags": []
          },
          "execution_count": 64
        }
      ]
    },
    {
      "cell_type": "code",
      "metadata": {
        "id": "28npXtMaa_YV",
        "colab": {
          "base_uri": "https://localhost:8080/"
        },
        "outputId": "991533a9-3db0-4c2f-d842-b1061fc0b5fa"
      },
      "source": [
        "NANO = ds.variables['NANO']\n",
        "NANO"
      ],
      "execution_count": null,
      "outputs": [
        {
          "output_type": "execute_result",
          "data": {
            "text/plain": [
              "<class 'netCDF4._netCDF4.Variable'>\n",
              "float32 NANO(time, s_rho, eta_rho, xi_rho)\n",
              "    long_name: Nanophytoplankton\n",
              "    units: umol C L-1\n",
              "    field: Nanophytoplankton, scalar, series\n",
              "    coordinates: lat_rho lon_rho\n",
              "unlimited dimensions: time\n",
              "current shape = (1023, 30, 311, 182)\n",
              "filling on, default _FillValue of 9.969209968386869e+36 used"
            ]
          },
          "metadata": {
            "tags": []
          },
          "execution_count": 65
        }
      ]
    },
    {
      "cell_type": "code",
      "metadata": {
        "id": "yTjjEI8jbJAl",
        "colab": {
          "base_uri": "https://localhost:8080/"
        },
        "outputId": "ee91e58c-652a-4efa-e5a4-d672024dab15"
      },
      "source": [
        "ZOO = ds.variables['ZOO']\n",
        "ZOO"
      ],
      "execution_count": null,
      "outputs": [
        {
          "output_type": "execute_result",
          "data": {
            "text/plain": [
              "<class 'netCDF4._netCDF4.Variable'>\n",
              "float32 ZOO(time, s_rho, eta_rho, xi_rho)\n",
              "    long_name: Microzooplankton\n",
              "    units: umol C L-1\n",
              "    field: Microzooplankton, scalar, series\n",
              "    coordinates: lat_rho lon_rho\n",
              "unlimited dimensions: time\n",
              "current shape = (1023, 30, 311, 182)\n",
              "filling on, default _FillValue of 9.969209968386869e+36 used"
            ]
          },
          "metadata": {
            "tags": []
          },
          "execution_count": 66
        }
      ]
    },
    {
      "cell_type": "code",
      "metadata": {
        "id": "eV-LxBEhbOQU",
        "colab": {
          "base_uri": "https://localhost:8080/"
        },
        "outputId": "050cfd37-763b-4941-b561-ced595944ca4"
      },
      "source": [
        "DOC = ds.variables['DOC']\n",
        "DOC"
      ],
      "execution_count": null,
      "outputs": [
        {
          "output_type": "execute_result",
          "data": {
            "text/plain": [
              "<class 'netCDF4._netCDF4.Variable'>\n",
              "float32 DOC(time, s_rho, eta_rho, xi_rho)\n",
              "    long_name: Dissolved organic carbon\n",
              "    units: umol C L-1\n",
              "    field: DOC, scalar, series\n",
              "    coordinates: lat_rho lon_rho\n",
              "unlimited dimensions: time\n",
              "current shape = (1023, 30, 311, 182)\n",
              "filling on, default _FillValue of 9.969209968386869e+36 used"
            ]
          },
          "metadata": {
            "tags": []
          },
          "execution_count": 67
        }
      ]
    },
    {
      "cell_type": "code",
      "metadata": {
        "id": "9QNQkgjabUk-",
        "colab": {
          "base_uri": "https://localhost:8080/"
        },
        "outputId": "e7555a7e-bccb-4772-ee5e-c33a1a21edea"
      },
      "source": [
        "DIA = ds.variables['DIA']\n",
        "DIA"
      ],
      "execution_count": null,
      "outputs": [
        {
          "output_type": "execute_result",
          "data": {
            "text/plain": [
              "<class 'netCDF4._netCDF4.Variable'>\n",
              "float32 DIA(time, s_rho, eta_rho, xi_rho)\n",
              "    long_name: Diatoms\n",
              "    units: umol C L-1\n",
              "    field: Diatoms, scalar, series\n",
              "    coordinates: lat_rho lon_rho\n",
              "unlimited dimensions: time\n",
              "current shape = (1023, 30, 311, 182)\n",
              "filling on, default _FillValue of 9.969209968386869e+36 used"
            ]
          },
          "metadata": {
            "tags": []
          },
          "execution_count": 68
        }
      ]
    },
    {
      "cell_type": "code",
      "metadata": {
        "id": "Cyn1Nf-mbblN",
        "colab": {
          "base_uri": "https://localhost:8080/"
        },
        "outputId": "664bae5d-1793-49bf-e473-5aedd044eeaa"
      },
      "source": [
        "MESO = ds.variables['MESO']\n",
        "MESO"
      ],
      "execution_count": null,
      "outputs": [
        {
          "output_type": "execute_result",
          "data": {
            "text/plain": [
              "<class 'netCDF4._netCDF4.Variable'>\n",
              "float32 MESO(time, s_rho, eta_rho, xi_rho)\n",
              "    long_name: Mesozooplankton\n",
              "    units: umol C L-1\n",
              "    field: Mesozooplankton, scalar, series\n",
              "    coordinates: lat_rho lon_rho\n",
              "unlimited dimensions: time\n",
              "current shape = (1023, 30, 311, 182)\n",
              "filling on, default _FillValue of 9.969209968386869e+36 used"
            ]
          },
          "metadata": {
            "tags": []
          },
          "execution_count": 69
        }
      ]
    },
    {
      "cell_type": "code",
      "metadata": {
        "id": "38CwYOESbn4B",
        "colab": {
          "base_uri": "https://localhost:8080/"
        },
        "outputId": "80e9980f-9695-4a4e-c80b-5699590d4434"
      },
      "source": [
        "BSI = ds.variables['BSI']\n",
        "BSI"
      ],
      "execution_count": null,
      "outputs": [
        {
          "output_type": "execute_result",
          "data": {
            "text/plain": [
              "<class 'netCDF4._netCDF4.Variable'>\n",
              "float32 BSI(time, s_rho, eta_rho, xi_rho)\n",
              "    long_name: Diatoms silicon\n",
              "    units: umol Si L-1\n",
              "    field: BSi, scalar, series\n",
              "    coordinates: lat_rho lon_rho\n",
              "unlimited dimensions: time\n",
              "current shape = (1023, 30, 311, 182)\n",
              "filling on, default _FillValue of 9.969209968386869e+36 used"
            ]
          },
          "metadata": {
            "tags": []
          },
          "execution_count": 70
        }
      ]
    },
    {
      "cell_type": "code",
      "metadata": {
        "id": "CarpHeIebvcY",
        "colab": {
          "base_uri": "https://localhost:8080/"
        },
        "outputId": "9ce0ebfb-1ed4-4bcf-f015-d62aeab01c20"
      },
      "source": [
        "FER = ds.variables['FER']\n",
        "FER"
      ],
      "execution_count": null,
      "outputs": [
        {
          "output_type": "execute_result",
          "data": {
            "text/plain": [
              "<class 'netCDF4._netCDF4.Variable'>\n",
              "float32 FER(time, s_rho, eta_rho, xi_rho)\n",
              "    long_name: Dissolved iron\n",
              "    units: umol Fe L-1\n",
              "    field: Iron, scalar, series\n",
              "    coordinates: lat_rho lon_rho\n",
              "unlimited dimensions: time\n",
              "current shape = (1023, 30, 311, 182)\n",
              "filling on, default _FillValue of 9.969209968386869e+36 used"
            ]
          },
          "metadata": {
            "tags": []
          },
          "execution_count": 71
        }
      ]
    },
    {
      "cell_type": "code",
      "metadata": {
        "id": "ysNh2auDb7f_",
        "colab": {
          "base_uri": "https://localhost:8080/"
        },
        "outputId": "9d10e1cf-17e7-4574-ac0a-a89584a74cad"
      },
      "source": [
        "BFE = ds.variables['BFE']\n",
        "BFE"
      ],
      "execution_count": null,
      "outputs": [
        {
          "output_type": "execute_result",
          "data": {
            "text/plain": [
              "<class 'netCDF4._netCDF4.Variable'>\n",
              "float32 BFE(time, s_rho, eta_rho, xi_rho)\n",
              "    long_name: Iron in big particles\n",
              "    units: umol Fe L-1\n",
              "    field: BFE, scalar, series\n",
              "    coordinates: lat_rho lon_rho\n",
              "unlimited dimensions: time\n",
              "current shape = (1023, 30, 311, 182)\n",
              "filling on, default _FillValue of 9.969209968386869e+36 used"
            ]
          },
          "metadata": {
            "tags": []
          },
          "execution_count": 72
        }
      ]
    },
    {
      "cell_type": "code",
      "metadata": {
        "id": "0sGGgZWWcAhI",
        "colab": {
          "base_uri": "https://localhost:8080/"
        },
        "outputId": "e2276d33-cdd8-4807-8118-4842a9a1964d"
      },
      "source": [
        "GOC = ds.variables['GOC']\n",
        "GOC"
      ],
      "execution_count": null,
      "outputs": [
        {
          "output_type": "execute_result",
          "data": {
            "text/plain": [
              "<class 'netCDF4._netCDF4.Variable'>\n",
              "float32 GOC(time, s_rho, eta_rho, xi_rho)\n",
              "    long_name: Big particulate organic carbon\n",
              "    units: umol C L-1\n",
              "    field: GOC, scalar, series\n",
              "    coordinates: lat_rho lon_rho\n",
              "unlimited dimensions: time\n",
              "current shape = (1023, 30, 311, 182)\n",
              "filling on, default _FillValue of 9.969209968386869e+36 used"
            ]
          },
          "metadata": {
            "tags": []
          },
          "execution_count": 73
        }
      ]
    },
    {
      "cell_type": "code",
      "metadata": {
        "id": "RA2cZtH3cPu4",
        "colab": {
          "base_uri": "https://localhost:8080/"
        },
        "outputId": "3273bc50-63d7-44c9-9a54-a8d9dd6567b7"
      },
      "source": [
        "SFE = ds.variables['SFE']\n",
        "SFE"
      ],
      "execution_count": null,
      "outputs": [
        {
          "output_type": "execute_result",
          "data": {
            "text/plain": [
              "<class 'netCDF4._netCDF4.Variable'>\n",
              "float32 SFE(time, s_rho, eta_rho, xi_rho)\n",
              "    long_name: Iron in nanophytoplankton\n",
              "    units: umol Fe L-1\n",
              "    field: SFE, scalar, series\n",
              "    coordinates: lat_rho lon_rho\n",
              "unlimited dimensions: time\n",
              "current shape = (1023, 30, 311, 182)\n",
              "filling on, default _FillValue of 9.969209968386869e+36 used"
            ]
          },
          "metadata": {
            "tags": []
          },
          "execution_count": 74
        }
      ]
    },
    {
      "cell_type": "code",
      "metadata": {
        "id": "turlx7Rtcah0",
        "colab": {
          "base_uri": "https://localhost:8080/"
        },
        "outputId": "40a6f8fa-7b4d-4d99-830e-4993d2dbb24d"
      },
      "source": [
        "DFE = ds.variables['DFE']\n",
        "DFE"
      ],
      "execution_count": null,
      "outputs": [
        {
          "output_type": "execute_result",
          "data": {
            "text/plain": [
              "<class 'netCDF4._netCDF4.Variable'>\n",
              "float32 DFE(time, s_rho, eta_rho, xi_rho)\n",
              "    long_name: Iron in diatoms\n",
              "    units: umol Fe L-1\n",
              "    field: DFE, scalar, series\n",
              "    coordinates: lat_rho lon_rho\n",
              "unlimited dimensions: time\n",
              "current shape = (1023, 30, 311, 182)\n",
              "filling on, default _FillValue of 9.969209968386869e+36 used"
            ]
          },
          "metadata": {
            "tags": []
          },
          "execution_count": 75
        }
      ]
    },
    {
      "cell_type": "code",
      "metadata": {
        "id": "Omez2DzzchU2",
        "colab": {
          "base_uri": "https://localhost:8080/"
        },
        "outputId": "a2993bda-6ed2-49a5-ee94-88c463d12343"
      },
      "source": [
        "DSI = ds.variables['DSI']\n",
        "DSI"
      ],
      "execution_count": null,
      "outputs": [
        {
          "output_type": "execute_result",
          "data": {
            "text/plain": [
              "<class 'netCDF4._netCDF4.Variable'>\n",
              "float32 DSI(time, s_rho, eta_rho, xi_rho)\n",
              "    long_name: Biogenic silica\n",
              "    units: umol Si L-1\n",
              "    field: DSI, scalar, series\n",
              "    coordinates: lat_rho lon_rho\n",
              "unlimited dimensions: time\n",
              "current shape = (1023, 30, 311, 182)\n",
              "filling on, default _FillValue of 9.969209968386869e+36 used"
            ]
          },
          "metadata": {
            "tags": []
          },
          "execution_count": 76
        }
      ]
    },
    {
      "cell_type": "code",
      "metadata": {
        "id": "hdrl5zllc4yK",
        "colab": {
          "base_uri": "https://localhost:8080/"
        },
        "outputId": "b83ad277-1bd1-4254-b9bc-0d10d0c425db"
      },
      "source": [
        "NFE = ds.variables['NFE']\n",
        "NFE"
      ],
      "execution_count": null,
      "outputs": [
        {
          "output_type": "execute_result",
          "data": {
            "text/plain": [
              "<class 'netCDF4._netCDF4.Variable'>\n",
              "float32 NFE(time, s_rho, eta_rho, xi_rho)\n",
              "    long_name: Iron in small particles\n",
              "    units: umol Fe L-1\n",
              "    field: NFE, scalar, series\n",
              "    coordinates: lat_rho lon_rho\n",
              "unlimited dimensions: time\n",
              "current shape = (1023, 30, 311, 182)\n",
              "filling on, default _FillValue of 9.969209968386869e+36 used"
            ]
          },
          "metadata": {
            "tags": []
          },
          "execution_count": 77
        }
      ]
    },
    {
      "cell_type": "code",
      "metadata": {
        "id": "ALlbu7T5c-TE",
        "colab": {
          "base_uri": "https://localhost:8080/"
        },
        "outputId": "81e5b3f8-d884-4699-a35e-140b9ca46b31"
      },
      "source": [
        "NCHL = ds.variables['NCHL']\n",
        "NCHL"
      ],
      "execution_count": null,
      "outputs": [
        {
          "output_type": "execute_result",
          "data": {
            "text/plain": [
              "<class 'netCDF4._netCDF4.Variable'>\n",
              "float32 NCHL(time, s_rho, eta_rho, xi_rho)\n",
              "    long_name: Chlorophyll in nano\n",
              "    units: mg Chl m-3\n",
              "    field: NCHL, scalar, series\n",
              "    coordinates: lat_rho lon_rho\n",
              "unlimited dimensions: time\n",
              "current shape = (1023, 30, 311, 182)\n",
              "filling on, default _FillValue of 9.969209968386869e+36 used"
            ]
          },
          "metadata": {
            "tags": []
          },
          "execution_count": 78
        }
      ]
    },
    {
      "cell_type": "code",
      "metadata": {
        "id": "pcbzvlRSdFiU",
        "colab": {
          "base_uri": "https://localhost:8080/"
        },
        "outputId": "ec069249-6431-4772-b822-2aea92e64982"
      },
      "source": [
        "DCHL = ds.variables['DCHL']\n",
        "DCHL"
      ],
      "execution_count": null,
      "outputs": [
        {
          "output_type": "execute_result",
          "data": {
            "text/plain": [
              "<class 'netCDF4._netCDF4.Variable'>\n",
              "float32 DCHL(time, s_rho, eta_rho, xi_rho)\n",
              "    long_name: Chlorophyll in diatoms\n",
              "    units: mg Chl m-3\n",
              "    field: DCHL, scalar, series\n",
              "    coordinates: lat_rho lon_rho\n",
              "unlimited dimensions: time\n",
              "current shape = (1023, 30, 311, 182)\n",
              "filling on, default _FillValue of 9.969209968386869e+36 used"
            ]
          },
          "metadata": {
            "tags": []
          },
          "execution_count": 79
        }
      ]
    },
    {
      "cell_type": "code",
      "metadata": {
        "id": "00qqkBsUdaGu",
        "colab": {
          "base_uri": "https://localhost:8080/"
        },
        "outputId": "b4eca129-a575-4a01-b4ad-b677d79b0f6c"
      },
      "source": [
        "NO3 = ds.variables['NO3']\n",
        "NO3"
      ],
      "execution_count": null,
      "outputs": [
        {
          "output_type": "execute_result",
          "data": {
            "text/plain": [
              "<class 'netCDF4._netCDF4.Variable'>\n",
              "float32 NO3(time, s_rho, eta_rho, xi_rho)\n",
              "    long_name: Nitrate\n",
              "    units: umol N L-1\n",
              "    field: Nitrate, scalar, series\n",
              "    coordinates: lat_rho lon_rho\n",
              "unlimited dimensions: time\n",
              "current shape = (1023, 30, 311, 182)\n",
              "filling on, default _FillValue of 9.969209968386869e+36 used"
            ]
          },
          "metadata": {
            "tags": []
          },
          "execution_count": 80
        }
      ]
    },
    {
      "cell_type": "code",
      "metadata": {
        "id": "Mq4BX1lXdi4_",
        "colab": {
          "base_uri": "https://localhost:8080/"
        },
        "outputId": "65db21b4-188c-49a4-d8fe-b8af7fdd6682"
      },
      "source": [
        "NH4 = ds.variables['NH4']\n",
        "NH4"
      ],
      "execution_count": null,
      "outputs": [
        {
          "output_type": "execute_result",
          "data": {
            "text/plain": [
              "<class 'netCDF4._netCDF4.Variable'>\n",
              "float32 NH4(time, s_rho, eta_rho, xi_rho)\n",
              "    long_name: Ammonium\n",
              "    units: umol N L-1\n",
              "    field: Ammonium, scalar, series\n",
              "    coordinates: lat_rho lon_rho\n",
              "unlimited dimensions: time\n",
              "current shape = (1023, 30, 311, 182)\n",
              "filling on, default _FillValue of 9.969209968386869e+36 used"
            ]
          },
          "metadata": {
            "tags": []
          },
          "execution_count": 81
        }
      ]
    },
    {
      "cell_type": "code",
      "metadata": {
        "id": "4HGlMoWhdojF",
        "colab": {
          "base_uri": "https://localhost:8080/"
        },
        "outputId": "e2ad3a91-2068-4099-c663-e612f1430223"
      },
      "source": [
        "w = ds.variables['w']\n",
        "w"
      ],
      "execution_count": null,
      "outputs": [
        {
          "output_type": "execute_result",
          "data": {
            "text/plain": [
              "<class 'netCDF4._netCDF4.Variable'>\n",
              "float32 w(time, s_rho, eta_rho, xi_rho)\n",
              "    long_name: vertical momentum component\n",
              "    units: meter second-1\n",
              "    field: w-velocity, scalar, series\n",
              "    standard_name: upward_sea_water_velocity\n",
              "    coordinates: lat_rho lon_rho\n",
              "unlimited dimensions: time\n",
              "current shape = (1023, 30, 311, 182)\n",
              "filling on, default _FillValue of 9.969209968386869e+36 used"
            ]
          },
          "metadata": {
            "tags": []
          },
          "execution_count": 82
        }
      ]
    },
    {
      "cell_type": "code",
      "metadata": {
        "id": "SJM_9AlEd2pc",
        "colab": {
          "base_uri": "https://localhost:8080/"
        },
        "outputId": "0a1edcd1-fd1b-4b39-97ad-2fa4adc191b0"
      },
      "source": [
        "bostr = ds.variables['bostr']\n",
        "bostr"
      ],
      "execution_count": null,
      "outputs": [
        {
          "output_type": "execute_result",
          "data": {
            "text/plain": [
              "<class 'netCDF4._netCDF4.Variable'>\n",
              "float32 bostr(time, eta_rho, xi_rho)\n",
              "    long_name: Kinematic bottom stress\n",
              "    units: N/m2\n",
              "    coordinates: lat_rho lon_rho\n",
              "unlimited dimensions: time\n",
              "current shape = (1023, 311, 182)\n",
              "filling on, default _FillValue of 9.969209968386869e+36 used"
            ]
          },
          "metadata": {
            "tags": []
          },
          "execution_count": 83
        }
      ]
    },
    {
      "cell_type": "code",
      "metadata": {
        "id": "ahCHY0jUd8DS",
        "colab": {
          "base_uri": "https://localhost:8080/"
        },
        "outputId": "ba217fd5-c297-4f4b-ec50-5ebe5987fe55"
      },
      "source": [
        "wstr = ds.variables['wstr']\n",
        "wstr"
      ],
      "execution_count": null,
      "outputs": [
        {
          "output_type": "execute_result",
          "data": {
            "text/plain": [
              "<class 'netCDF4._netCDF4.Variable'>\n",
              "float32 wstr(time, eta_rho, xi_rho)\n",
              "    long_name: Kinematic wind stress\n",
              "    units: N/m2\n",
              "    standard_name: magnitude_of_surface_downward_stress\n",
              "    coordinates: lat_rho lon_rho\n",
              "unlimited dimensions: time\n",
              "current shape = (1023, 311, 182)\n",
              "filling on, default _FillValue of 9.969209968386869e+36 used"
            ]
          },
          "metadata": {
            "tags": []
          },
          "execution_count": 84
        }
      ]
    },
    {
      "cell_type": "code",
      "metadata": {
        "id": "h5B00NQheEfr",
        "colab": {
          "base_uri": "https://localhost:8080/"
        },
        "outputId": "2ff46fde-9679-4e43-df79-4b641402f90c"
      },
      "source": [
        "sustr = ds.variables['sustr']\n",
        "sustr"
      ],
      "execution_count": null,
      "outputs": [
        {
          "output_type": "execute_result",
          "data": {
            "text/plain": [
              "<class 'netCDF4._netCDF4.Variable'>\n",
              "float32 sustr(time, eta_rho, xi_u)\n",
              "    long_name: Kinematic u wind stress component\n",
              "    units: N/m2\n",
              "    standard_name: surface_downward_eastward_stress\n",
              "    coordinates: lat_u lon_u\n",
              "unlimited dimensions: time\n",
              "current shape = (1023, 311, 181)\n",
              "filling on, default _FillValue of 9.969209968386869e+36 used"
            ]
          },
          "metadata": {
            "tags": []
          },
          "execution_count": 85
        }
      ]
    },
    {
      "cell_type": "code",
      "metadata": {
        "id": "FSiwKPCOeQDS",
        "colab": {
          "base_uri": "https://localhost:8080/"
        },
        "outputId": "0190b115-1f43-4711-94f8-df1e2f8cdc67"
      },
      "source": [
        "svstr = ds.variables['svstr']\n",
        "svstr"
      ],
      "execution_count": null,
      "outputs": [
        {
          "output_type": "execute_result",
          "data": {
            "text/plain": [
              "<class 'netCDF4._netCDF4.Variable'>\n",
              "float32 svstr(time, eta_v, xi_rho)\n",
              "    long_name: Kinematic v wind stress component\n",
              "    units: N/m2\n",
              "    standard_name: surface_downward_northward_stress\n",
              "    coordinates: lat_v lon_v\n",
              "unlimited dimensions: time\n",
              "current shape = (1023, 310, 182)\n",
              "filling on, default _FillValue of 9.969209968386869e+36 used"
            ]
          },
          "metadata": {
            "tags": []
          },
          "execution_count": 86
        }
      ]
    },
    {
      "cell_type": "code",
      "metadata": {
        "id": "bHYVCBXWeZH1",
        "colab": {
          "base_uri": "https://localhost:8080/"
        },
        "outputId": "bb61a45b-9942-490f-c7e1-90879e436e75"
      },
      "source": [
        "AKt = ds.variables['AKt']\n",
        "print(AKt)"
      ],
      "execution_count": null,
      "outputs": [
        {
          "output_type": "stream",
          "text": [
            "<class 'netCDF4._netCDF4.Variable'>\n",
            "float32 AKt(time, s_w, eta_rho, xi_rho)\n",
            "    long_name: temperature vertical diffusion coefficient\n",
            "    units: meter2 second-1\n",
            "    field: AKt, scalar, series\n",
            "    standard_name: ocean_vertical_heat_diffusivity_at_w_location\n",
            "    coordinates: lat_rho lon_rho\n",
            "unlimited dimensions: time\n",
            "current shape = (1023, 31, 311, 182)\n",
            "filling on, default _FillValue of 9.969209968386869e+36 used\n"
          ],
          "name": "stdout"
        }
      ]
    },
    {
      "cell_type": "code",
      "metadata": {
        "id": "6CNYG7sOspOZ",
        "colab": {
          "base_uri": "https://localhost:8080/"
        },
        "outputId": "7c57942d-7d94-4ebb-cba7-83c9c4f95746"
      },
      "source": [
        "hbl = ds.variables['hbl']\n",
        "hbl"
      ],
      "execution_count": null,
      "outputs": [
        {
          "output_type": "execute_result",
          "data": {
            "text/plain": [
              "<class 'netCDF4._netCDF4.Variable'>\n",
              "float32 hbl(time, eta_rho, xi_rho)\n",
              "    long_name: depth of planetary boundary layer\n",
              "    units: meter\n",
              "    field: hbl, scalar, series\n",
              "    standard_name: ocean_mixed_layer_thickness_defined_by_mixing_scheme\n",
              "    coordinates: lat_rho lon_rho\n",
              "unlimited dimensions: time\n",
              "current shape = (1023, 311, 182)\n",
              "filling on, default _FillValue of 9.969209968386869e+36 used"
            ]
          },
          "metadata": {
            "tags": []
          },
          "execution_count": 88
        }
      ]
    },
    {
      "cell_type": "code",
      "metadata": {
        "id": "6H84xb56thI7",
        "colab": {
          "base_uri": "https://localhost:8080/"
        },
        "outputId": "0a2f460b-16d9-4899-eb47-d5d3b9cdcad7"
      },
      "source": [
        "hbbl = ds.variables['hbbl']\n",
        "hbbl"
      ],
      "execution_count": null,
      "outputs": [
        {
          "output_type": "execute_result",
          "data": {
            "text/plain": [
              "<class 'netCDF4._netCDF4.Variable'>\n",
              "float32 hbbl(time, eta_rho, xi_rho)\n",
              "    long_name: depth of bottom boundary layer\n",
              "    units: meter\n",
              "    field: hbbl, scalar, series\n",
              "    coordinates: lat_rho lon_rho\n",
              "unlimited dimensions: time\n",
              "current shape = (1023, 311, 182)\n",
              "filling on, default _FillValue of 9.969209968386869e+36 used"
            ]
          },
          "metadata": {
            "tags": []
          },
          "execution_count": 89
        }
      ]
    },
    {
      "cell_type": "code",
      "metadata": {
        "id": "zxlogX6Stmy6",
        "colab": {
          "base_uri": "https://localhost:8080/"
        },
        "outputId": "9d9174ff-ef46-4c32-9ef1-2153f30fc7a4"
      },
      "source": [
        "shflux = ds.variables['shflux']\n",
        "shflux"
      ],
      "execution_count": null,
      "outputs": [
        {
          "output_type": "execute_result",
          "data": {
            "text/plain": [
              "<class 'netCDF4._netCDF4.Variable'>\n",
              "float32 shflux(time, eta_rho, xi_rho)\n",
              "    long_name: surface net heat flux\n",
              "    units: Watts meter-2\n",
              "    coordinates: lat_rho lon_rho\n",
              "unlimited dimensions: time\n",
              "current shape = (1023, 311, 182)\n",
              "filling on, default _FillValue of 9.969209968386869e+36 used"
            ]
          },
          "metadata": {
            "tags": []
          },
          "execution_count": 90
        }
      ]
    },
    {
      "cell_type": "code",
      "metadata": {
        "id": "dF9vTkUHtraZ",
        "colab": {
          "base_uri": "https://localhost:8080/"
        },
        "outputId": "de1a8d26-920d-44e3-98b4-8a60bdc184f5"
      },
      "source": [
        "swflux = ds.variables['swflux']\n",
        "swflux"
      ],
      "execution_count": null,
      "outputs": [
        {
          "output_type": "execute_result",
          "data": {
            "text/plain": [
              "<class 'netCDF4._netCDF4.Variable'>\n",
              "float32 swflux(time, eta_rho, xi_rho)\n",
              "    long_name: surface freshwater flux (E-P)\n",
              "    units: centimeter day-1\n",
              "    coordinates: lat_rho lon_rho\n",
              "unlimited dimensions: time\n",
              "current shape = (1023, 311, 182)\n",
              "filling on, default _FillValue of 9.969209968386869e+36 used"
            ]
          },
          "metadata": {
            "tags": []
          },
          "execution_count": 91
        }
      ]
    },
    {
      "cell_type": "code",
      "metadata": {
        "id": "3M6ZJp-vtwEp",
        "colab": {
          "base_uri": "https://localhost:8080/"
        },
        "outputId": "9de7ce3c-92c8-4ee8-f17d-d726617836fb"
      },
      "source": [
        "swrad = ds.variables['swrad']\n",
        "swrad"
      ],
      "execution_count": null,
      "outputs": [
        {
          "output_type": "execute_result",
          "data": {
            "text/plain": [
              "<class 'netCDF4._netCDF4.Variable'>\n",
              "float32 swrad(time, eta_rho, xi_rho)\n",
              "    long_name: Short-wave surface radiation\n",
              "    units: Watts meter-2\n",
              "    coordinates: lat_rho lon_rho\n",
              "unlimited dimensions: time\n",
              "current shape = (1023, 311, 182)\n",
              "filling on, default _FillValue of 9.969209968386869e+36 used"
            ]
          },
          "metadata": {
            "tags": []
          },
          "execution_count": 92
        }
      ]
    },
    {
      "cell_type": "markdown",
      "metadata": {
        "id": "AkpZsNTBudoy"
      },
      "source": [
        "## Batimetria del sector a evaluar"
      ]
    },
    {
      "cell_type": "code",
      "metadata": {
        "id": "d8Y78-t-t1lA",
        "colab": {
          "base_uri": "https://localhost:8080/"
        },
        "outputId": "fe60c3a2-0074-45cc-f111-7be7a4380547"
      },
      "source": [
        "batb = ds2.variables['h'][:]\n",
        "batb"
      ],
      "execution_count": null,
      "outputs": [
        {
          "output_type": "execute_result",
          "data": {
            "text/plain": [
              "masked_array(\n",
              "  data=[[359.78751318, 366.19799194, 366.19799194, ..., 260.75706254,\n",
              "         260.75706254, 352.95547984],\n",
              "        [359.78751318, 359.78751318, 366.19799194, ..., 238.96697144,\n",
              "         238.96697144, 275.99383157],\n",
              "        [359.78751318, 359.78751318, 359.84325075, ..., 238.96697144,\n",
              "         238.96697144, 275.99383157],\n",
              "        ...,\n",
              "        [174.07525392, 174.07525392, 174.07525392, ..., 300.43057387,\n",
              "         300.43057387, 300.43057387],\n",
              "        [174.07525392, 174.07525392, 174.07525392, ..., 300.43057387,\n",
              "         300.43057387, 300.43057387],\n",
              "        [174.83472043, 174.83472043, 174.83472043, ..., 290.37887266,\n",
              "         290.37887266, 295.11738474]],\n",
              "  mask=False,\n",
              "  fill_value=1e+20)"
            ]
          },
          "metadata": {
            "tags": []
          },
          "execution_count": 93
        }
      ]
    },
    {
      "cell_type": "markdown",
      "metadata": {
        "id": "VYITAUCtUyoU"
      },
      "source": [
        "Mascara"
      ]
    },
    {
      "cell_type": "code",
      "metadata": {
        "id": "FfLbX7KvUDGI",
        "colab": {
          "base_uri": "https://localhost:8080/"
        },
        "outputId": "4ede6d36-75bd-4e36-8e98-e7204e675f9f"
      },
      "source": [
        "mask = ds2.variables['mask_rho'][:]\n",
        "mask"
      ],
      "execution_count": null,
      "outputs": [
        {
          "output_type": "execute_result",
          "data": {
            "text/plain": [
              "masked_array(\n",
              "  data=[[0., 0., 0., ..., 1., 1., 1.],\n",
              "        [0., 0., 0., ..., 1., 1., 1.],\n",
              "        [0., 0., 0., ..., 1., 1., 1.],\n",
              "        ...,\n",
              "        [0., 0., 0., ..., 0., 0., 0.],\n",
              "        [0., 0., 0., ..., 0., 0., 0.],\n",
              "        [0., 0., 0., ..., 0., 0., 1.]],\n",
              "  mask=False,\n",
              "  fill_value=1e+20)"
            ]
          },
          "metadata": {
            "tags": []
          },
          "execution_count": 94
        }
      ]
    },
    {
      "cell_type": "code",
      "metadata": {
        "id": "Jbk3GTEUvOrn",
        "colab": {
          "base_uri": "https://localhost:8080/"
        },
        "outputId": "4fe4a08a-a813-4be2-92b4-1d14ed310029"
      },
      "source": [
        "# Data to plot.\n",
        "x, y = np.meshgrid(xi_rho, eta_rho)\n",
        "z = batb\n",
        "\n",
        "# Mask various z values.\n",
        "\"\"\"mask = np.zeros_like(z, dtype=bool)\n",
        "mask[2, 3:5] = True\n",
        "mask[3:5, 4] = True\n",
        "mask[7, 2] = True\n",
        "mask[5, 0] = True\n",
        "mask[0, 6] = True\"\"\"\n",
        "z = np.ma.array(z, mask=mask)\n",
        "\n",
        "corner_masks = [False, True]\n",
        "fig, axs = plt.subplots(ncols=2)\n",
        "for ax, corner_mask in zip(axs, corner_masks):\n",
        "    cs = ax.contourf(x, y, z, corner_mask=corner_mask)\n",
        "    ax.contour(cs, colors='k')\n",
        "    ax.set_title('Batimetria clarece'.format(corner_mask))\n",
        "\n",
        "    # Plot grid.\n",
        "    ax.grid(c='k', ls='-', alpha=0.3)\n",
        "\n",
        "\n",
        "plt.show()"
      ],
      "execution_count": null,
      "outputs": [
        {
          "output_type": "display_data",
          "data": {
            "image/png": "[encoded data removed]",
            "text/plain": [
              "<Figure size 432x288 with 2 Axes>"
            ]
          },
          "metadata": {
            "tags": [],
            "needs_background": "light"
          }
        }
      ]
    },
    {
      "cell_type": "markdown",
      "metadata": {
        "id": "JQNXQ4N0Z-gr"
      },
      "source": [
        "## Datos explorados y revisados como arreglos de numpy"
      ]
    },
    {
      "cell_type": "code",
      "metadata": {
        "id": "LAEqVkf06mxw",
        "colab": {
          "base_uri": "https://localhost:8080/"
        },
        "outputId": "925926c9-9ee9-429c-fe55-e2c3f7004d37"
      },
      "source": [
        "spherical"
      ],
      "execution_count": null,
      "outputs": [
        {
          "output_type": "execute_result",
          "data": {
            "text/plain": [
              "<class 'netCDF4._netCDF4.Variable'>\n",
              "|S1 spherical()\n",
              "    long_name: grid type logical switch\n",
              "    option_T: spherical\n",
              "    option_F: cartesian\n",
              "unlimited dimensions: \n",
              "current shape = ()\n",
              "filling on, default _FillValue of \u0000 used"
            ]
          },
          "metadata": {
            "tags": []
          },
          "execution_count": 96
        }
      ]
    },
    {
      "cell_type": "code",
      "metadata": {
        "id": "drEocagKexa0",
        "colab": {
          "base_uri": "https://localhost:8080/"
        },
        "outputId": "6a67aa0b-71ff-4ad9-bce5-35273f6374e6"
      },
      "source": [
        "spherical = np.array(ds.variables['spherical'][:])\n",
        "spherical"
      ],
      "execution_count": null,
      "outputs": [
        {
          "output_type": "execute_result",
          "data": {
            "text/plain": [
              "array(b'T', dtype='|S1')"
            ]
          },
          "metadata": {
            "tags": []
          },
          "execution_count": 97
        }
      ]
    },
    {
      "cell_type": "code",
      "metadata": {
        "id": "__HkUGMu6o6r",
        "colab": {
          "base_uri": "https://localhost:8080/"
        },
        "outputId": "1ce9e83b-d351-4ddd-b9c9-f0c25ceb7f96"
      },
      "source": [
        "xl"
      ],
      "execution_count": null,
      "outputs": [
        {
          "output_type": "execute_result",
          "data": {
            "text/plain": [
              "<class 'netCDF4._netCDF4.Variable'>\n",
              "float32 xl()\n",
              "    long_name: domain length in the XI-direction\n",
              "    units: meter\n",
              "unlimited dimensions: \n",
              "current shape = ()\n",
              "filling on, default _FillValue of 9.969209968386869e+36 used"
            ]
          },
          "metadata": {
            "tags": []
          },
          "execution_count": 98
        }
      ]
    },
    {
      "cell_type": "code",
      "metadata": {
        "id": "qrgmK7xzjJvb",
        "colab": {
          "base_uri": "https://localhost:8080/"
        },
        "outputId": "32694ae5-8083-4271-bc0f-0afa18fec6df"
      },
      "source": [
        "xl = np.array(ds.variables['xl'][:])\n",
        "xl"
      ],
      "execution_count": null,
      "outputs": [
        {
          "output_type": "execute_result",
          "data": {
            "text/plain": [
              "array(0.)"
            ]
          },
          "metadata": {
            "tags": []
          },
          "execution_count": 99
        }
      ]
    },
    {
      "cell_type": "code",
      "metadata": {
        "id": "GbTAIsOv6rxH",
        "colab": {
          "base_uri": "https://localhost:8080/"
        },
        "outputId": "71386ccd-fb9d-4498-800d-449bfcfca195"
      },
      "source": [
        "el"
      ],
      "execution_count": null,
      "outputs": [
        {
          "output_type": "execute_result",
          "data": {
            "text/plain": [
              "<class 'netCDF4._netCDF4.Variable'>\n",
              "float32 el()\n",
              "    long_name: domain length in the ETA-direction\n",
              "    units: meter\n",
              "unlimited dimensions: \n",
              "current shape = ()\n",
              "filling on, default _FillValue of 9.969209968386869e+36 used"
            ]
          },
          "metadata": {
            "tags": []
          },
          "execution_count": 100
        }
      ]
    },
    {
      "cell_type": "code",
      "metadata": {
        "id": "6k6pvo2RqWJr",
        "colab": {
          "base_uri": "https://localhost:8080/"
        },
        "outputId": "46f41061-cb86-4924-e588-5b8080e1e0d8"
      },
      "source": [
        "el = np.array(ds.variables['el'][:])\n",
        "el"
      ],
      "execution_count": null,
      "outputs": [
        {
          "output_type": "execute_result",
          "data": {
            "text/plain": [
              "array(0.)"
            ]
          },
          "metadata": {
            "tags": []
          },
          "execution_count": 101
        }
      ]
    },
    {
      "cell_type": "code",
      "metadata": {
        "id": "NYQ3OwJC6s5D",
        "colab": {
          "base_uri": "https://localhost:8080/"
        },
        "outputId": "5775ed60-31cd-4aaa-eca6-317a0660914f"
      },
      "source": [
        "xi_rho"
      ],
      "execution_count": null,
      "outputs": [
        {
          "output_type": "execute_result",
          "data": {
            "text/plain": [
              "<class 'netCDF4._netCDF4.Variable'>\n",
              "float32 xi_rho(xi_rho)\n",
              "    long_name: x-dimension of the grid\n",
              "    standard_name: x_grid_index\n",
              "    axis: X\n",
              "    c_grid_dynamic_range: 2:181\n",
              "unlimited dimensions: \n",
              "current shape = (182,)\n",
              "filling on, default _FillValue of 9.969209968386869e+36 used"
            ]
          },
          "metadata": {
            "tags": []
          },
          "execution_count": 102
        }
      ]
    },
    {
      "cell_type": "code",
      "metadata": {
        "id": "JGIwVnMkqwoj",
        "colab": {
          "base_uri": "https://localhost:8080/"
        },
        "outputId": "330fcb56-32e7-4617-cec6-efecdfbca240"
      },
      "source": [
        "xi_rho = np.array(ds.variables['xi_rho'][:])\n",
        "xi_rho"
      ],
      "execution_count": null,
      "outputs": [
        {
          "output_type": "execute_result",
          "data": {
            "text/plain": [
              "array([  1.,   2.,   3.,   4.,   5.,   6.,   7.,   8.,   9.,  10.,  11.,\n",
              "        12.,  13.,  14.,  15.,  16.,  17.,  18.,  19.,  20.,  21.,  22.,\n",
              "        23.,  24.,  25.,  26.,  27.,  28.,  29.,  30.,  31.,  32.,  33.,\n",
              "        34.,  35.,  36.,  37.,  38.,  39.,  40.,  41.,  42.,  43.,  44.,\n",
              "        45.,  46.,  47.,  48.,  49.,  50.,  51.,  52.,  53.,  54.,  55.,\n",
              "        56.,  57.,  58.,  59.,  60.,  61.,  62.,  63.,  64.,  65.,  66.,\n",
              "        67.,  68.,  69.,  70.,  71.,  72.,  73.,  74.,  75.,  76.,  77.,\n",
              "        78.,  79.,  80.,  81.,  82.,  83.,  84.,  85.,  86.,  87.,  88.,\n",
              "        89.,  90.,  91.,  92.,  93.,  94.,  95.,  96.,  97.,  98.,  99.,\n",
              "       100., 101., 102., 103., 104., 105., 106., 107., 108., 109., 110.,\n",
              "       111., 112., 113., 114., 115., 116., 117., 118., 119., 120., 121.,\n",
              "       122., 123., 124., 125., 126., 127., 128., 129., 130., 131., 132.,\n",
              "       133., 134., 135., 136., 137., 138., 139., 140., 141., 142., 143.,\n",
              "       144., 145., 146., 147., 148., 149., 150., 151., 152., 153., 154.,\n",
              "       155., 156., 157., 158., 159., 160., 161., 162., 163., 164., 165.,\n",
              "       166., 167., 168., 169., 170., 171., 172., 173., 174., 175., 176.,\n",
              "       177., 178., 179., 180., 181., 182.], dtype=float32)"
            ]
          },
          "metadata": {
            "tags": []
          },
          "execution_count": 103
        }
      ]
    },
    {
      "cell_type": "code",
      "metadata": {
        "id": "VgtEbHmH6vJc",
        "colab": {
          "base_uri": "https://localhost:8080/"
        },
        "outputId": "b0c9a92d-f554-472d-8a4b-7be1eba6ef9f"
      },
      "source": [
        "xi_u"
      ],
      "execution_count": null,
      "outputs": [
        {
          "output_type": "execute_result",
          "data": {
            "text/plain": [
              "<class 'netCDF4._netCDF4.Variable'>\n",
              "float32 xi_u(xi_u)\n",
              "    long_name: x-dimension of the grid at u location\n",
              "    standard_name: x_grid_index_at_u_location\n",
              "    axis: X\n",
              "    c_grid_axis_shift: 0.5\n",
              "    c_grid_dynamic_range: 2:180\n",
              "unlimited dimensions: \n",
              "current shape = (181,)\n",
              "filling on, default _FillValue of 9.969209968386869e+36 used"
            ]
          },
          "metadata": {
            "tags": []
          },
          "execution_count": 104
        }
      ]
    },
    {
      "cell_type": "code",
      "metadata": {
        "id": "lEiB773kq8Mo",
        "colab": {
          "base_uri": "https://localhost:8080/"
        },
        "outputId": "54843787-e91b-45fb-ff8b-8b2b3ee75bd3"
      },
      "source": [
        "xi_u = np.array(ds.variables['xi_u'][:])\n",
        "xi_u"
      ],
      "execution_count": null,
      "outputs": [
        {
          "output_type": "execute_result",
          "data": {
            "text/plain": [
              "array([  1.5,   2.5,   3.5,   4.5,   5.5,   6.5,   7.5,   8.5,   9.5,\n",
              "        10.5,  11.5,  12.5,  13.5,  14.5,  15.5,  16.5,  17.5,  18.5,\n",
              "        19.5,  20.5,  21.5,  22.5,  23.5,  24.5,  25.5,  26.5,  27.5,\n",
              "        28.5,  29.5,  30.5,  31.5,  32.5,  33.5,  34.5,  35.5,  36.5,\n",
              "        37.5,  38.5,  39.5,  40.5,  41.5,  42.5,  43.5,  44.5,  45.5,\n",
              "        46.5,  47.5,  48.5,  49.5,  50.5,  51.5,  52.5,  53.5,  54.5,\n",
              "        55.5,  56.5,  57.5,  58.5,  59.5,  60.5,  61.5,  62.5,  63.5,\n",
              "        64.5,  65.5,  66.5,  67.5,  68.5,  69.5,  70.5,  71.5,  72.5,\n",
              "        73.5,  74.5,  75.5,  76.5,  77.5,  78.5,  79.5,  80.5,  81.5,\n",
              "        82.5,  83.5,  84.5,  85.5,  86.5,  87.5,  88.5,  89.5,  90.5,\n",
              "        91.5,  92.5,  93.5,  94.5,  95.5,  96.5,  97.5,  98.5,  99.5,\n",
              "       100.5, 101.5, 102.5, 103.5, 104.5, 105.5, 106.5, 107.5, 108.5,\n",
              "       109.5, 110.5, 111.5, 112.5, 113.5, 114.5, 115.5, 116.5, 117.5,\n",
              "       118.5, 119.5, 120.5, 121.5, 122.5, 123.5, 124.5, 125.5, 126.5,\n",
              "       127.5, 128.5, 129.5, 130.5, 131.5, 132.5, 133.5, 134.5, 135.5,\n",
              "       136.5, 137.5, 138.5, 139.5, 140.5, 141.5, 142.5, 143.5, 144.5,\n",
              "       145.5, 146.5, 147.5, 148.5, 149.5, 150.5, 151.5, 152.5, 153.5,\n",
              "       154.5, 155.5, 156.5, 157.5, 158.5, 159.5, 160.5, 161.5, 162.5,\n",
              "       163.5, 164.5, 165.5, 166.5, 167.5, 168.5, 169.5, 170.5, 171.5,\n",
              "       172.5, 173.5, 174.5, 175.5, 176.5, 177.5, 178.5, 179.5, 180.5,\n",
              "       181.5], dtype=float32)"
            ]
          },
          "metadata": {
            "tags": []
          },
          "execution_count": 105
        }
      ]
    },
    {
      "cell_type": "code",
      "metadata": {
        "id": "scL0_dgm6xkw",
        "colab": {
          "base_uri": "https://localhost:8080/"
        },
        "outputId": "6da0b5d7-57c4-43f1-a4a2-bd4efe1c7037"
      },
      "source": [
        "eta_rho"
      ],
      "execution_count": null,
      "outputs": [
        {
          "output_type": "execute_result",
          "data": {
            "text/plain": [
              "<class 'netCDF4._netCDF4.Variable'>\n",
              "float32 eta_rho(eta_rho)\n",
              "    long_name: y-dimension of the grid\n",
              "    standard_name: y_grid_index\n",
              "    axis: Y\n",
              "    c_grid_dynamic_range: 2:310\n",
              "unlimited dimensions: \n",
              "current shape = (311,)\n",
              "filling on, default _FillValue of 9.969209968386869e+36 used"
            ]
          },
          "metadata": {
            "tags": []
          },
          "execution_count": 106
        }
      ]
    },
    {
      "cell_type": "code",
      "metadata": {
        "id": "6xVEyFtjrIEj",
        "colab": {
          "base_uri": "https://localhost:8080/"
        },
        "outputId": "eb2c0130-44db-4f43-e6c4-96030f4078f4"
      },
      "source": [
        "eta_rho = np.array(ds.variables['eta_rho'][:])\n",
        "eta_rho"
      ],
      "execution_count": null,
      "outputs": [
        {
          "output_type": "execute_result",
          "data": {
            "text/plain": [
              "array([  1.,   2.,   3.,   4.,   5.,   6.,   7.,   8.,   9.,  10.,  11.,\n",
              "        12.,  13.,  14.,  15.,  16.,  17.,  18.,  19.,  20.,  21.,  22.,\n",
              "        23.,  24.,  25.,  26.,  27.,  28.,  29.,  30.,  31.,  32.,  33.,\n",
              "        34.,  35.,  36.,  37.,  38.,  39.,  40.,  41.,  42.,  43.,  44.,\n",
              "        45.,  46.,  47.,  48.,  49.,  50.,  51.,  52.,  53.,  54.,  55.,\n",
              "        56.,  57.,  58.,  59.,  60.,  61.,  62.,  63.,  64.,  65.,  66.,\n",
              "        67.,  68.,  69.,  70.,  71.,  72.,  73.,  74.,  75.,  76.,  77.,\n",
              "        78.,  79.,  80.,  81.,  82.,  83.,  84.,  85.,  86.,  87.,  88.,\n",
              "        89.,  90.,  91.,  92.,  93.,  94.,  95.,  96.,  97.,  98.,  99.,\n",
              "       100., 101., 102., 103., 104., 105., 106., 107., 108., 109., 110.,\n",
              "       111., 112., 113., 114., 115., 116., 117., 118., 119., 120., 121.,\n",
              "       122., 123., 124., 125., 126., 127., 128., 129., 130., 131., 132.,\n",
              "       133., 134., 135., 136., 137., 138., 139., 140., 141., 142., 143.,\n",
              "       144., 145., 146., 147., 148., 149., 150., 151., 152., 153., 154.,\n",
              "       155., 156., 157., 158., 159., 160., 161., 162., 163., 164., 165.,\n",
              "       166., 167., 168., 169., 170., 171., 172., 173., 174., 175., 176.,\n",
              "       177., 178., 179., 180., 181., 182., 183., 184., 185., 186., 187.,\n",
              "       188., 189., 190., 191., 192., 193., 194., 195., 196., 197., 198.,\n",
              "       199., 200., 201., 202., 203., 204., 205., 206., 207., 208., 209.,\n",
              "       210., 211., 212., 213., 214., 215., 216., 217., 218., 219., 220.,\n",
              "       221., 222., 223., 224., 225., 226., 227., 228., 229., 230., 231.,\n",
              "       232., 233., 234., 235., 236., 237., 238., 239., 240., 241., 242.,\n",
              "       243., 244., 245., 246., 247., 248., 249., 250., 251., 252., 253.,\n",
              "       254., 255., 256., 257., 258., 259., 260., 261., 262., 263., 264.,\n",
              "       265., 266., 267., 268., 269., 270., 271., 272., 273., 274., 275.,\n",
              "       276., 277., 278., 279., 280., 281., 282., 283., 284., 285., 286.,\n",
              "       287., 288., 289., 290., 291., 292., 293., 294., 295., 296., 297.,\n",
              "       298., 299., 300., 301., 302., 303., 304., 305., 306., 307., 308.,\n",
              "       309., 310., 311.], dtype=float32)"
            ]
          },
          "metadata": {
            "tags": []
          },
          "execution_count": 107
        }
      ]
    },
    {
      "cell_type": "code",
      "metadata": {
        "id": "YJ74H69H6z6D",
        "colab": {
          "base_uri": "https://localhost:8080/"
        },
        "outputId": "14696457-e05f-47b4-f2a6-010ed98b006f"
      },
      "source": [
        "eta_v"
      ],
      "execution_count": null,
      "outputs": [
        {
          "output_type": "execute_result",
          "data": {
            "text/plain": [
              "<class 'netCDF4._netCDF4.Variable'>\n",
              "float32 eta_v(eta_v)\n",
              "    long_name: y-dimension of the grid at v location\n",
              "    standard_name: x_grid_index_at_v_location\n",
              "    axis: Y\n",
              "    c_grid_axis_shift: 0.5\n",
              "    c_grid_dynamic_range: 2:309\n",
              "unlimited dimensions: \n",
              "current shape = (310,)\n",
              "filling on, default _FillValue of 9.969209968386869e+36 used"
            ]
          },
          "metadata": {
            "tags": []
          },
          "execution_count": 108
        }
      ]
    },
    {
      "cell_type": "code",
      "metadata": {
        "id": "VsnWcsRHrStM",
        "colab": {
          "base_uri": "https://localhost:8080/"
        },
        "outputId": "055c4421-5405-4be9-af0b-65e0a4d6adca"
      },
      "source": [
        "eta_v = np.array(ds.variables['eta_v'][:])\n",
        "eta_v"
      ],
      "execution_count": null,
      "outputs": [
        {
          "output_type": "execute_result",
          "data": {
            "text/plain": [
              "array([  1.5,   2.5,   3.5,   4.5,   5.5,   6.5,   7.5,   8.5,   9.5,\n",
              "        10.5,  11.5,  12.5,  13.5,  14.5,  15.5,  16.5,  17.5,  18.5,\n",
              "        19.5,  20.5,  21.5,  22.5,  23.5,  24.5,  25.5,  26.5,  27.5,\n",
              "        28.5,  29.5,  30.5,  31.5,  32.5,  33.5,  34.5,  35.5,  36.5,\n",
              "        37.5,  38.5,  39.5,  40.5,  41.5,  42.5,  43.5,  44.5,  45.5,\n",
              "        46.5,  47.5,  48.5,  49.5,  50.5,  51.5,  52.5,  53.5,  54.5,\n",
              "        55.5,  56.5,  57.5,  58.5,  59.5,  60.5,  61.5,  62.5,  63.5,\n",
              "        64.5,  65.5,  66.5,  67.5,  68.5,  69.5,  70.5,  71.5,  72.5,\n",
              "        73.5,  74.5,  75.5,  76.5,  77.5,  78.5,  79.5,  80.5,  81.5,\n",
              "        82.5,  83.5,  84.5,  85.5,  86.5,  87.5,  88.5,  89.5,  90.5,\n",
              "        91.5,  92.5,  93.5,  94.5,  95.5,  96.5,  97.5,  98.5,  99.5,\n",
              "       100.5, 101.5, 102.5, 103.5, 104.5, 105.5, 106.5, 107.5, 108.5,\n",
              "       109.5, 110.5, 111.5, 112.5, 113.5, 114.5, 115.5, 116.5, 117.5,\n",
              "       118.5, 119.5, 120.5, 121.5, 122.5, 123.5, 124.5, 125.5, 126.5,\n",
              "       127.5, 128.5, 129.5, 130.5, 131.5, 132.5, 133.5, 134.5, 135.5,\n",
              "       136.5, 137.5, 138.5, 139.5, 140.5, 141.5, 142.5, 143.5, 144.5,\n",
              "       145.5, 146.5, 147.5, 148.5, 149.5, 150.5, 151.5, 152.5, 153.5,\n",
              "       154.5, 155.5, 156.5, 157.5, 158.5, 159.5, 160.5, 161.5, 162.5,\n",
              "       163.5, 164.5, 165.5, 166.5, 167.5, 168.5, 169.5, 170.5, 171.5,\n",
              "       172.5, 173.5, 174.5, 175.5, 176.5, 177.5, 178.5, 179.5, 180.5,\n",
              "       181.5, 182.5, 183.5, 184.5, 185.5, 186.5, 187.5, 188.5, 189.5,\n",
              "       190.5, 191.5, 192.5, 193.5, 194.5, 195.5, 196.5, 197.5, 198.5,\n",
              "       199.5, 200.5, 201.5, 202.5, 203.5, 204.5, 205.5, 206.5, 207.5,\n",
              "       208.5, 209.5, 210.5, 211.5, 212.5, 213.5, 214.5, 215.5, 216.5,\n",
              "       217.5, 218.5, 219.5, 220.5, 221.5, 222.5, 223.5, 224.5, 225.5,\n",
              "       226.5, 227.5, 228.5, 229.5, 230.5, 231.5, 232.5, 233.5, 234.5,\n",
              "       235.5, 236.5, 237.5, 238.5, 239.5, 240.5, 241.5, 242.5, 243.5,\n",
              "       244.5, 245.5, 246.5, 247.5, 248.5, 249.5, 250.5, 251.5, 252.5,\n",
              "       253.5, 254.5, 255.5, 256.5, 257.5, 258.5, 259.5, 260.5, 261.5,\n",
              "       262.5, 263.5, 264.5, 265.5, 266.5, 267.5, 268.5, 269.5, 270.5,\n",
              "       271.5, 272.5, 273.5, 274.5, 275.5, 276.5, 277.5, 278.5, 279.5,\n",
              "       280.5, 281.5, 282.5, 283.5, 284.5, 285.5, 286.5, 287.5, 288.5,\n",
              "       289.5, 290.5, 291.5, 292.5, 293.5, 294.5, 295.5, 296.5, 297.5,\n",
              "       298.5, 299.5, 300.5, 301.5, 302.5, 303.5, 304.5, 305.5, 306.5,\n",
              "       307.5, 308.5, 309.5, 310.5], dtype=float32)"
            ]
          },
          "metadata": {
            "tags": []
          },
          "execution_count": 109
        }
      ]
    },
    {
      "cell_type": "code",
      "metadata": {
        "id": "gh8X-cB_629M",
        "colab": {
          "base_uri": "https://localhost:8080/"
        },
        "outputId": "d10d7652-c61c-4ed2-e757-e7cb21caf723"
      },
      "source": [
        "Vtransform"
      ],
      "execution_count": null,
      "outputs": [
        {
          "output_type": "execute_result",
          "data": {
            "text/plain": [
              "<class 'netCDF4._netCDF4.Variable'>\n",
              "float32 Vtransform()\n",
              "    long_name: vertical terrain-following transformation equatio\n",
              "unlimited dimensions: \n",
              "current shape = ()\n",
              "filling on, default _FillValue of 9.969209968386869e+36 used"
            ]
          },
          "metadata": {
            "tags": []
          },
          "execution_count": 110
        }
      ]
    },
    {
      "cell_type": "code",
      "metadata": {
        "id": "ry4CUe1DrfMY",
        "colab": {
          "base_uri": "https://localhost:8080/"
        },
        "outputId": "fd12eb9c-0719-4827-af09-df007edc3682"
      },
      "source": [
        "Vtransform = np.array(ds.variables['Vtransform'][:])\n",
        "Vtransform"
      ],
      "execution_count": null,
      "outputs": [
        {
          "output_type": "execute_result",
          "data": {
            "text/plain": [
              "array(2., dtype=float32)"
            ]
          },
          "metadata": {
            "tags": []
          },
          "execution_count": 111
        }
      ]
    },
    {
      "cell_type": "code",
      "metadata": {
        "id": "Ax40tODh64Gj",
        "colab": {
          "base_uri": "https://localhost:8080/"
        },
        "outputId": "6d20d78a-db06-4409-ca92-0734ca7a2649"
      },
      "source": [
        "s_rho"
      ],
      "execution_count": null,
      "outputs": [
        {
          "output_type": "execute_result",
          "data": {
            "text/plain": [
              "<class 'netCDF4._netCDF4.Variable'>\n",
              "float32 s_rho(s_rho)\n",
              "    long_name: S-coordinate at RHO-points\n",
              "    axis: Z\n",
              "    positive: up\n",
              "    standard_name: ocean_s_coordinate_g2\n",
              "    formula_terms: s: sc_r C: Cs_r eta: zeta depth: h depth_c: hc\n",
              "unlimited dimensions: \n",
              "current shape = (30,)\n",
              "filling on, default _FillValue of 9.969209968386869e+36 used"
            ]
          },
          "metadata": {
            "tags": []
          },
          "execution_count": 112
        }
      ]
    },
    {
      "cell_type": "code",
      "metadata": {
        "id": "oQ_Y5WwJrriT",
        "colab": {
          "base_uri": "https://localhost:8080/"
        },
        "outputId": "76439891-38cf-4844-b99e-c4ab696c9393"
      },
      "source": [
        "s_rho = np.array(ds.variables['s_rho'][:])\n",
        "s_rho"
      ],
      "execution_count": null,
      "outputs": [
        {
          "output_type": "execute_result",
          "data": {
            "text/plain": [
              "array([-0.98333335, -0.95      , -0.9166667 , -0.8833333 , -0.85      ,\n",
              "       -0.81666666, -0.78333336, -0.75      , -0.71666664, -0.68333334,\n",
              "       -0.65      , -0.6166667 , -0.5833333 , -0.55      , -0.51666665,\n",
              "       -0.48333332, -0.45      , -0.41666666, -0.38333333, -0.35      ,\n",
              "       -0.31666666, -0.28333333, -0.25      , -0.21666667, -0.18333334,\n",
              "       -0.15      , -0.11666667, -0.08333334, -0.05      , -0.01666667],\n",
              "      dtype=float32)"
            ]
          },
          "metadata": {
            "tags": []
          },
          "execution_count": 113
        }
      ]
    },
    {
      "cell_type": "code",
      "metadata": {
        "id": "stEZplyN67AL",
        "colab": {
          "base_uri": "https://localhost:8080/"
        },
        "outputId": "30da8e3e-3173-491e-925d-f2829834fbbd"
      },
      "source": [
        "s_w"
      ],
      "execution_count": null,
      "outputs": [
        {
          "output_type": "execute_result",
          "data": {
            "text/plain": [
              "<class 'netCDF4._netCDF4.Variable'>\n",
              "float32 s_w(s_w)\n",
              "    long_name: S-coordinate at W-points\n",
              "    axis: Z\n",
              "    positive: up\n",
              "    c_grid_axis_shift: -0.5\n",
              "    standard_name: ocean_s_coordinate_g2_at_w_location\n",
              "    formula_terms: s: sc_w C: Cs_w eta: zeta depth: h depth_c: hc\n",
              "unlimited dimensions: \n",
              "current shape = (31,)\n",
              "filling on, default _FillValue of 9.969209968386869e+36 used"
            ]
          },
          "metadata": {
            "tags": []
          },
          "execution_count": 114
        }
      ]
    },
    {
      "cell_type": "code",
      "metadata": {
        "id": "1CIpQRYtsIV2",
        "colab": {
          "base_uri": "https://localhost:8080/"
        },
        "outputId": "2de0a8c3-0dff-4a36-a5bc-01cc4fcafd0e"
      },
      "source": [
        "s_w = np.array(ds.variables['s_w'][:])\n",
        "s_w"
      ],
      "execution_count": null,
      "outputs": [
        {
          "output_type": "execute_result",
          "data": {
            "text/plain": [
              "array([-1.        , -0.96666664, -0.93333334, -0.9       , -0.8666667 ,\n",
              "       -0.8333333 , -0.8       , -0.76666665, -0.73333335, -0.7       ,\n",
              "       -0.6666667 , -0.6333333 , -0.6       , -0.56666666, -0.53333336,\n",
              "       -0.5       , -0.46666667, -0.43333334, -0.4       , -0.36666667,\n",
              "       -0.33333334, -0.3       , -0.26666668, -0.23333333, -0.2       ,\n",
              "       -0.16666667, -0.13333334, -0.1       , -0.06666667, -0.03333334,\n",
              "        0.        ], dtype=float32)"
            ]
          },
          "metadata": {
            "tags": []
          },
          "execution_count": 115
        }
      ]
    },
    {
      "cell_type": "code",
      "metadata": {
        "id": "bkdNOiOi68HO",
        "colab": {
          "base_uri": "https://localhost:8080/"
        },
        "outputId": "98e334da-e4ac-4668-f9ed-9fba37afca33"
      },
      "source": [
        "sc_r"
      ],
      "execution_count": null,
      "outputs": [
        {
          "output_type": "execute_result",
          "data": {
            "text/plain": [
              "<class 'netCDF4._netCDF4.Variable'>\n",
              "float32 sc_r(s_rho)\n",
              "    long_name: ocean s roms coordinate at rho point\n",
              "    Vtransform: 2\n",
              "unlimited dimensions: \n",
              "current shape = (30,)\n",
              "filling on, default _FillValue of 9.969209968386869e+36 used"
            ]
          },
          "metadata": {
            "tags": []
          },
          "execution_count": 116
        }
      ]
    },
    {
      "cell_type": "code",
      "metadata": {
        "id": "qV3sc5y9sRKV",
        "colab": {
          "base_uri": "https://localhost:8080/"
        },
        "outputId": "9dab7a2c-b863-4d63-e161-9bff557fc727"
      },
      "source": [
        "sc_r = np.array(ds.variables['sc_r'][:])\n",
        "sc_r"
      ],
      "execution_count": null,
      "outputs": [
        {
          "output_type": "execute_result",
          "data": {
            "text/plain": [
              "array([-0.98333335, -0.95      , -0.9166667 , -0.8833333 , -0.85      ,\n",
              "       -0.81666666, -0.78333336, -0.75      , -0.71666664, -0.68333334,\n",
              "       -0.65      , -0.6166667 , -0.5833333 , -0.55      , -0.51666665,\n",
              "       -0.48333332, -0.45      , -0.41666666, -0.38333333, -0.35      ,\n",
              "       -0.31666666, -0.28333333, -0.25      , -0.21666667, -0.18333334,\n",
              "       -0.15      , -0.11666667, -0.08333334, -0.05      , -0.01666667],\n",
              "      dtype=float32)"
            ]
          },
          "metadata": {
            "tags": []
          },
          "execution_count": 117
        }
      ]
    },
    {
      "cell_type": "code",
      "metadata": {
        "id": "XFynae8l6-Y5",
        "colab": {
          "base_uri": "https://localhost:8080/"
        },
        "outputId": "810afdcb-569c-4941-a27f-74463e8d73a6"
      },
      "source": [
        "sc_w"
      ],
      "execution_count": null,
      "outputs": [
        {
          "output_type": "execute_result",
          "data": {
            "text/plain": [
              "<class 'netCDF4._netCDF4.Variable'>\n",
              "float32 sc_w(s_w)\n",
              "    long_name: ocean s roms coordinate at w point\n",
              "    Vtransform: 2\n",
              "unlimited dimensions: \n",
              "current shape = (31,)\n",
              "filling on, default _FillValue of 9.969209968386869e+36 used"
            ]
          },
          "metadata": {
            "tags": []
          },
          "execution_count": 118
        }
      ]
    },
    {
      "cell_type": "code",
      "metadata": {
        "id": "ji6KIu19scd9",
        "colab": {
          "base_uri": "https://localhost:8080/"
        },
        "outputId": "c61fbd0c-4bbb-47ba-a0de-c25c93eb5a11"
      },
      "source": [
        "sc_w = np.array(ds.variables['sc_w'][:])\n",
        "sc_w"
      ],
      "execution_count": null,
      "outputs": [
        {
          "output_type": "execute_result",
          "data": {
            "text/plain": [
              "array([-1.        , -0.96666664, -0.93333334, -0.9       , -0.8666667 ,\n",
              "       -0.8333333 , -0.8       , -0.76666665, -0.73333335, -0.7       ,\n",
              "       -0.6666667 , -0.6333333 , -0.6       , -0.56666666, -0.53333336,\n",
              "       -0.5       , -0.46666667, -0.43333334, -0.4       , -0.36666667,\n",
              "       -0.33333334, -0.3       , -0.26666668, -0.23333333, -0.2       ,\n",
              "       -0.16666667, -0.13333334, -0.1       , -0.06666667, -0.03333334,\n",
              "        0.        ], dtype=float32)"
            ]
          },
          "metadata": {
            "tags": []
          },
          "execution_count": 119
        }
      ]
    },
    {
      "cell_type": "code",
      "metadata": {
        "id": "B9Syx6hn7BGY",
        "colab": {
          "base_uri": "https://localhost:8080/"
        },
        "outputId": "73d9ebd6-5e8e-416e-d99b-193cbcf99e65"
      },
      "source": [
        "Cs_r"
      ],
      "execution_count": null,
      "outputs": [
        {
          "output_type": "execute_result",
          "data": {
            "text/plain": [
              "<class 'netCDF4._netCDF4.Variable'>\n",
              "float32 Cs_r(s_rho)\n",
              "    long_name: S-coordinate stretching curves at RHO-points\n",
              "unlimited dimensions: \n",
              "current shape = (30,)\n",
              "filling on, default _FillValue of 9.969209968386869e+36 used"
            ]
          },
          "metadata": {
            "tags": []
          },
          "execution_count": 120
        }
      ]
    },
    {
      "cell_type": "code",
      "metadata": {
        "id": "FHlphA_zsl03",
        "colab": {
          "base_uri": "https://localhost:8080/"
        },
        "outputId": "f121dcf9-ec42-4657-913d-fdbfca8cebc7"
      },
      "source": [
        "Cs_r = np.array(ds.variables['Cs_r'][:])\n",
        "Cs_r"
      ],
      "execution_count": null,
      "outputs": [
        {
          "output_type": "execute_result",
          "data": {
            "text/plain": [
              "array([-9.0436453e-01, -7.3953068e-01, -6.0457677e-01, -4.9408656e-01,\n",
              "       -4.0362576e-01, -3.2956383e-01, -2.6892841e-01, -2.1928595e-01,\n",
              "       -1.7864418e-01, -1.4537199e-01, -1.1813402e-01, -9.5837146e-02,\n",
              "       -7.7586502e-02, -6.2649630e-02, -5.0427064e-02, -4.0428262e-02,\n",
              "       -3.2251939e-02, -2.5569953e-02, -2.0114131e-02, -1.5665513e-02,\n",
              "       -1.2045557e-02, -9.1089839e-03, -6.7379386e-03, -4.8372624e-03,\n",
              "       -3.3306750e-03, -2.1577112e-03, -1.2712961e-03, -6.3585461e-04,\n",
              "       -2.2588432e-04, -2.4931631e-05], dtype=float32)"
            ]
          },
          "metadata": {
            "tags": []
          },
          "execution_count": 121
        }
      ]
    },
    {
      "cell_type": "code",
      "metadata": {
        "id": "wI8i1Dnt7C_K",
        "colab": {
          "base_uri": "https://localhost:8080/"
        },
        "outputId": "573cf431-e764-42fa-85d0-3c5d693ca9d2"
      },
      "source": [
        "Cs_w"
      ],
      "execution_count": null,
      "outputs": [
        {
          "output_type": "execute_result",
          "data": {
            "text/plain": [
              "<class 'netCDF4._netCDF4.Variable'>\n",
              "float32 Cs_w(s_w)\n",
              "    long_name: S-coordinate stretching curves at W-points\n",
              "unlimited dimensions: \n",
              "current shape = (31,)\n",
              "filling on, default _FillValue of 9.969209968386869e+36 used"
            ]
          },
          "metadata": {
            "tags": []
          },
          "execution_count": 122
        }
      ]
    },
    {
      "cell_type": "code",
      "metadata": {
        "id": "bs4VWJtSs2kg",
        "colab": {
          "base_uri": "https://localhost:8080/"
        },
        "outputId": "a5e6509c-1f77-4ce9-9390-8496e0af2ec1"
      },
      "source": [
        "Cs_w = np.array(ds.variables['Cs_w'][:])\n",
        "Cs_w"
      ],
      "execution_count": null,
      "outputs": [
        {
          "output_type": "execute_result",
          "data": {
            "text/plain": [
              "array([-1.0000000e+00, -8.1783015e-01, -6.6868258e-01, -5.4657161e-01,\n",
              "       -4.4659638e-01, -3.6474463e-01, -2.9773128e-01, -2.4286690e-01,\n",
              "       -1.9794956e-01, -1.6117659e-01, -1.3107216e-01, -1.0642807e-01,\n",
              "       -8.6255260e-02, -6.9744125e-02, -5.6232024e-02, -4.5176659e-02,\n",
              "       -3.6134347e-02, -2.8742185e-02, -2.2703499e-02, -1.7775936e-02,\n",
              "       -1.3761736e-02, -1.0499796e-02, -7.8592012e-03, -5.7339752e-03,\n",
              "       -4.0388261e-03, -2.7057217e-03, -1.6811593e-03, -9.2401978e-04,\n",
              "       -4.0391658e-04, -9.9976045e-05,  0.0000000e+00], dtype=float32)"
            ]
          },
          "metadata": {
            "tags": []
          },
          "execution_count": 123
        }
      ]
    },
    {
      "cell_type": "code",
      "metadata": {
        "id": "GlxNd6Eu7FIG",
        "colab": {
          "base_uri": "https://localhost:8080/"
        },
        "outputId": "9d35ec86-f45e-4972-ab29-109b61a7c503"
      },
      "source": [
        "hc"
      ],
      "execution_count": null,
      "outputs": [
        {
          "output_type": "execute_result",
          "data": {
            "text/plain": [
              "<class 'netCDF4._netCDF4.Variable'>\n",
              "float32 hc()\n",
              "    long_name: S-coordinate parameter, critical depth\n",
              "    units: meter\n",
              "unlimited dimensions: \n",
              "current shape = ()\n",
              "filling on, default _FillValue of 9.969209968386869e+36 used"
            ]
          },
          "metadata": {
            "tags": []
          },
          "execution_count": 124
        }
      ]
    },
    {
      "cell_type": "code",
      "metadata": {
        "id": "Wd5X7bhbs_kh",
        "colab": {
          "base_uri": "https://localhost:8080/"
        },
        "outputId": "1f05cb5c-6043-4c0c-fc4e-ba74567285b6"
      },
      "source": [
        "hc = np.array(ds.variables['hc'][:])\n",
        "hc"
      ],
      "execution_count": null,
      "outputs": [
        {
          "output_type": "execute_result",
          "data": {
            "text/plain": [
              "array(70., dtype=float32)"
            ]
          },
          "metadata": {
            "tags": []
          },
          "execution_count": 125
        }
      ]
    },
    {
      "cell_type": "code",
      "metadata": {
        "id": "0kRXdQz87IZU",
        "colab": {
          "base_uri": "https://localhost:8080/"
        },
        "outputId": "b186bc6f-c68d-48c1-96aa-cab3492910c1"
      },
      "source": [
        "h"
      ],
      "execution_count": null,
      "outputs": [
        {
          "output_type": "execute_result",
          "data": {
            "text/plain": [
              "<class 'netCDF4._netCDF4.Variable'>\n",
              "float32 h(eta_rho, xi_rho)\n",
              "    long_name: bathymetry at RHO-points\n",
              "    units: meter\n",
              "    field: bath, scalar\n",
              "    standard_name: model_sea_floor_depth_below_geoid\n",
              "    coordinates: lat_rho lon_rho\n",
              "unlimited dimensions: \n",
              "current shape = (311, 182)\n",
              "filling on, default _FillValue of 9.969209968386869e+36 used"
            ]
          },
          "metadata": {
            "tags": []
          },
          "execution_count": 126
        }
      ]
    },
    {
      "cell_type": "code",
      "metadata": {
        "id": "VFfVNunetJEM",
        "colab": {
          "base_uri": "https://localhost:8080/"
        },
        "outputId": "3e5c2550-79b5-4d8c-e412-8c9fc946379c"
      },
      "source": [
        "h = np.array(ds.variables['h'][:])\n",
        "h"
      ],
      "execution_count": null,
      "outputs": [
        {
          "output_type": "execute_result",
          "data": {
            "text/plain": [
              "array([[359.7875 , 366.198  , 366.198  , ..., 260.75705, 260.75705,\n",
              "        352.95547],\n",
              "       [359.7875 , 359.7875 , 366.198  , ..., 238.96696, 238.96696,\n",
              "        275.99384],\n",
              "       [359.7875 , 359.7875 , 359.84326, ..., 238.96696, 238.96696,\n",
              "        275.99384],\n",
              "       ...,\n",
              "       [174.07526, 174.07526, 174.07526, ..., 300.43057, 300.43057,\n",
              "        300.43057],\n",
              "       [174.07526, 174.07526, 174.07526, ..., 300.43057, 300.43057,\n",
              "        300.43057],\n",
              "       [174.83472, 174.83472, 174.83472, ..., 290.37888, 290.37888,\n",
              "        295.11737]], dtype=float32)"
            ]
          },
          "metadata": {
            "tags": []
          },
          "execution_count": 127
        }
      ]
    },
    {
      "cell_type": "code",
      "metadata": {
        "id": "zpDiSo-87Jsb",
        "colab": {
          "base_uri": "https://localhost:8080/"
        },
        "outputId": "316cfc40-8424-4e91-a728-fbde4c027122"
      },
      "source": [
        "f"
      ],
      "execution_count": null,
      "outputs": [
        {
          "output_type": "execute_result",
          "data": {
            "text/plain": [
              "<class 'netCDF4._netCDF4.Variable'>\n",
              "float32 f(eta_rho, xi_rho)\n",
              "    long_name: Coriolis parameter at RHO-points\n",
              "    units: second-1\n",
              "    field: coriolis, scalar\n",
              "    standard_name: coriolis_parameter\n",
              "    coordinates: lat_rho lon_rho\n",
              "unlimited dimensions: \n",
              "current shape = (311, 182)\n",
              "filling on, default _FillValue of 9.969209968386869e+36 used"
            ]
          },
          "metadata": {
            "tags": []
          },
          "execution_count": 128
        }
      ]
    },
    {
      "cell_type": "code",
      "metadata": {
        "id": "ynqUL8ostdVG",
        "colab": {
          "base_uri": "https://localhost:8080/"
        },
        "outputId": "4237a134-b0cc-49dc-b55f-82bdbe7fdb80"
      },
      "source": [
        "f = np.array(ds.variables['f'][:])\n",
        "f"
      ],
      "execution_count": null,
      "outputs": [
        {
          "output_type": "execute_result",
          "data": {
            "text/plain": [
              "array([[-0.00011847, -0.00011847, -0.00011847, ..., -0.00011847,\n",
              "        -0.00011847, -0.00011847],\n",
              "       [-0.00011847, -0.00011847, -0.00011847, ..., -0.00011847,\n",
              "        -0.00011847, -0.00011847],\n",
              "       [-0.00011847, -0.00011847, -0.00011847, ..., -0.00011847,\n",
              "        -0.00011847, -0.00011847],\n",
              "       ...,\n",
              "       [-0.00011792, -0.00011792, -0.00011792, ..., -0.00011792,\n",
              "        -0.00011792, -0.00011792],\n",
              "       [-0.00011791, -0.00011791, -0.00011791, ..., -0.00011791,\n",
              "        -0.00011791, -0.00011791],\n",
              "       [-0.00011791, -0.00011791, -0.00011791, ..., -0.00011791,\n",
              "        -0.00011791, -0.00011791]], dtype=float32)"
            ]
          },
          "metadata": {
            "tags": []
          },
          "execution_count": 129
        }
      ]
    },
    {
      "cell_type": "code",
      "metadata": {
        "id": "Z54g0yMH7LtE",
        "colab": {
          "base_uri": "https://localhost:8080/"
        },
        "outputId": "e3695a61-2b9d-45bc-f903-27c151e6453e"
      },
      "source": [
        "pm"
      ],
      "execution_count": null,
      "outputs": [
        {
          "output_type": "execute_result",
          "data": {
            "text/plain": [
              "<class 'netCDF4._netCDF4.Variable'>\n",
              "float32 pm(eta_rho, xi_rho)\n",
              "    long_name: curvilinear coordinates metric in X\n",
              "    units: meter-1\n",
              "    field: pm, scalar\n",
              "    coordinates: lat_rho lon_rho\n",
              "    standard_name: inverse_of_cell_x_size\n",
              "unlimited dimensions: \n",
              "current shape = (311, 182)\n",
              "filling on, default _FillValue of 9.969209968386869e+36 used"
            ]
          },
          "metadata": {
            "tags": []
          },
          "execution_count": 130
        }
      ]
    },
    {
      "cell_type": "code",
      "metadata": {
        "id": "CzrhijCTtkKk",
        "colab": {
          "base_uri": "https://localhost:8080/"
        },
        "outputId": "9b70bb85-bead-4f9c-88e7-439629d46dbf"
      },
      "source": [
        "pm = np.array(ds.variables['pm'][:])\n",
        "pm"
      ],
      "execution_count": null,
      "outputs": [
        {
          "output_type": "execute_result",
          "data": {
            "text/plain": [
              "array([[0.00749817, 0.00749817, 0.00749817, ..., 0.00749817, 0.00749817,\n",
              "        0.00749817],\n",
              "       [0.00749796, 0.00749796, 0.00749796, ..., 0.00749796, 0.00749796,\n",
              "        0.00749796],\n",
              "       [0.00749774, 0.00749774, 0.00749774, ..., 0.00749774, 0.00749774,\n",
              "        0.00749774],\n",
              "       ...,\n",
              "       [0.00743134, 0.00743134, 0.00743134, ..., 0.00743134, 0.00743134,\n",
              "        0.00743134],\n",
              "       [0.00743112, 0.00743112, 0.00743112, ..., 0.00743112, 0.00743112,\n",
              "        0.00743112],\n",
              "       [0.00743091, 0.00743091, 0.00743091, ..., 0.00743091, 0.00743091,\n",
              "        0.00743091]], dtype=float32)"
            ]
          },
          "metadata": {
            "tags": []
          },
          "execution_count": 131
        }
      ]
    },
    {
      "cell_type": "code",
      "metadata": {
        "id": "rUvfJTreuKmp",
        "colab": {
          "base_uri": "https://localhost:8080/"
        },
        "outputId": "18ad0278-01f4-42a2-d2b4-31ca264f2a53"
      },
      "source": [
        "pn"
      ],
      "execution_count": null,
      "outputs": [
        {
          "output_type": "execute_result",
          "data": {
            "text/plain": [
              "<class 'netCDF4._netCDF4.Variable'>\n",
              "float32 pn(eta_rho, xi_rho)\n",
              "    long_name: curvilinear coordinates metric in ET\n",
              "    units: meter-1\n",
              "    field: pn, scalar\n",
              "    coordinates: lat_rho lon_rho\n",
              "    standard_name: inverse_of_cell_y_size\n",
              "unlimited dimensions: \n",
              "current shape = (311, 182)\n",
              "filling on, default _FillValue of 9.969209968386869e+36 used"
            ]
          },
          "metadata": {
            "tags": []
          },
          "execution_count": 132
        }
      ]
    },
    {
      "cell_type": "code",
      "metadata": {
        "id": "AS7pZRVEtvoA",
        "colab": {
          "base_uri": "https://localhost:8080/"
        },
        "outputId": "3a163135-8a21-4ffb-a4ad-748c7a19eb34"
      },
      "source": [
        "pn = np.array(ds.variables['pn'][yj][xj])\n",
        "pn"
      ],
      "execution_count": null,
      "outputs": [
        {
          "output_type": "execute_result",
          "data": {
            "text/plain": [
              "array(0.00749915, dtype=float32)"
            ]
          },
          "metadata": {
            "tags": []
          },
          "execution_count": 133
        }
      ]
    },
    {
      "cell_type": "code",
      "metadata": {
        "id": "0ksb3CGE7TcO",
        "colab": {
          "base_uri": "https://localhost:8080/"
        },
        "outputId": "b00dd404-9867-4ce5-9a53-976319086cba"
      },
      "source": [
        "lon_rho"
      ],
      "execution_count": null,
      "outputs": [
        {
          "output_type": "execute_result",
          "data": {
            "text/plain": [
              "<class 'netCDF4._netCDF4.Variable'>\n",
              "float32 lon_rho(eta_rho, xi_rho)\n",
              "    long_name: longitude of RHO-points\n",
              "    units: degree_east\n",
              "    field: lon_rho, scalar\n",
              "    standard_name: longitude\n",
              "unlimited dimensions: \n",
              "current shape = (311, 182)\n",
              "filling on, default _FillValue of 9.969209968386869e+36 used"
            ]
          },
          "metadata": {
            "tags": []
          },
          "execution_count": 134
        }
      ]
    },
    {
      "cell_type": "code",
      "metadata": {
        "id": "FRa2rqyiuhU-",
        "colab": {
          "base_uri": "https://localhost:8080/"
        },
        "outputId": "bf5c74ed-4078-4fd0-8069-bc3cbd61eab5"
      },
      "source": [
        "lon_rho = np.array(ds.variables['lon_rho'][:])\n",
        "lon_rho"
      ],
      "execution_count": null,
      "outputs": [
        {
          "output_type": "execute_result",
          "data": {
            "text/plain": [
              "array([[-71.93621, -71.93416, -71.9321 , ..., -71.5679 , -71.56584,\n",
              "        -71.56379],\n",
              "       [-71.93621, -71.93416, -71.9321 , ..., -71.5679 , -71.56584,\n",
              "        -71.56379],\n",
              "       [-71.93621, -71.93416, -71.9321 , ..., -71.5679 , -71.56584,\n",
              "        -71.56379],\n",
              "       ...,\n",
              "       [-71.93621, -71.93416, -71.9321 , ..., -71.5679 , -71.56584,\n",
              "        -71.56379],\n",
              "       [-71.93621, -71.93416, -71.9321 , ..., -71.5679 , -71.56584,\n",
              "        -71.56379],\n",
              "       [-71.93621, -71.93416, -71.9321 , ..., -71.5679 , -71.56584,\n",
              "        -71.56379]], dtype=float32)"
            ]
          },
          "metadata": {
            "tags": []
          },
          "execution_count": 135
        }
      ]
    },
    {
      "cell_type": "code",
      "metadata": {
        "id": "kRqCtxys7Vz5",
        "colab": {
          "base_uri": "https://localhost:8080/"
        },
        "outputId": "3477eb5d-69f6-40f9-fb5e-f9beb66a4bdd"
      },
      "source": [
        "lat_rho"
      ],
      "execution_count": null,
      "outputs": [
        {
          "output_type": "execute_result",
          "data": {
            "text/plain": [
              "<class 'netCDF4._netCDF4.Variable'>\n",
              "float32 lat_rho(eta_rho, xi_rho)\n",
              "    long_name: latitude of RHO-points\n",
              "    units: degree_north\n",
              "    field: lat_rho, scalar\n",
              "    standard_name: latitude\n",
              "unlimited dimensions: \n",
              "current shape = (311, 182)\n",
              "filling on, default _FillValue of 9.969209968386869e+36 used"
            ]
          },
          "metadata": {
            "tags": []
          },
          "execution_count": 136
        }
      ]
    },
    {
      "cell_type": "code",
      "metadata": {
        "id": "vS8_GTr5uyGi",
        "colab": {
          "base_uri": "https://localhost:8080/"
        },
        "outputId": "101ac11a-7bbd-41a6-da1f-b75e8b6a7f7c"
      },
      "source": [
        "lat_rho = np.array(ds.variables['lat_rho'][:])\n",
        "lat_rho"
      ],
      "execution_count": null,
      "outputs": [
        {
          "output_type": "execute_result",
          "data": {
            "text/plain": [
              "array([[-54.322098, -54.322098, -54.322098, ..., -54.322098, -54.322098,\n",
              "        -54.322098],\n",
              "       [-54.320896, -54.320896, -54.320896, ..., -54.320896, -54.320896,\n",
              "        -54.320896],\n",
              "       [-54.3197  , -54.3197  , -54.3197  , ..., -54.3197  , -54.3197  ,\n",
              "        -54.3197  ],\n",
              "       ...,\n",
              "       [-53.951256, -53.951256, -53.951256, ..., -53.951256, -53.951256,\n",
              "        -53.951256],\n",
              "       [-53.950047, -53.950047, -53.950047, ..., -53.950047, -53.950047,\n",
              "        -53.950047],\n",
              "       [-53.948837, -53.948837, -53.948837, ..., -53.948837, -53.948837,\n",
              "        -53.948837]], dtype=float32)"
            ]
          },
          "metadata": {
            "tags": []
          },
          "execution_count": 137
        }
      ]
    },
    {
      "cell_type": "code",
      "metadata": {
        "id": "gQLQZ7by7YgO",
        "colab": {
          "base_uri": "https://localhost:8080/"
        },
        "outputId": "81150c1d-e1fa-4ac3-984b-ab90985b0c2c"
      },
      "source": [
        "lon_u"
      ],
      "execution_count": null,
      "outputs": [
        {
          "output_type": "execute_result",
          "data": {
            "text/plain": [
              "<class 'netCDF4._netCDF4.Variable'>\n",
              "float32 lon_u(eta_rho, xi_u)\n",
              "    long_name: longitude of U-points\n",
              "    units: degree_east\n",
              "    field: lon_u, scalar\n",
              "    standard_name: longitude_at_u_location\n",
              "unlimited dimensions: \n",
              "current shape = (311, 181)\n",
              "filling on, default _FillValue of 9.969209968386869e+36 used"
            ]
          },
          "metadata": {
            "tags": []
          },
          "execution_count": 138
        }
      ]
    },
    {
      "cell_type": "code",
      "metadata": {
        "id": "3IXVnvMqvHUK",
        "colab": {
          "base_uri": "https://localhost:8080/"
        },
        "outputId": "dfe5272c-8e28-418e-b19a-4e0911194f2b"
      },
      "source": [
        "lon_u = np.array(ds.variables['lon_u'][:])\n",
        "lon_u"
      ],
      "execution_count": null,
      "outputs": [
        {
          "output_type": "execute_result",
          "data": {
            "text/plain": [
              "array([[-71.93519, -71.93313, -71.93107, ..., -71.56893, -71.56687,\n",
              "        -71.56481],\n",
              "       [-71.93519, -71.93313, -71.93107, ..., -71.56893, -71.56687,\n",
              "        -71.56481],\n",
              "       [-71.93519, -71.93313, -71.93107, ..., -71.56893, -71.56687,\n",
              "        -71.56481],\n",
              "       ...,\n",
              "       [-71.93519, -71.93313, -71.93107, ..., -71.56893, -71.56687,\n",
              "        -71.56481],\n",
              "       [-71.93519, -71.93313, -71.93107, ..., -71.56893, -71.56687,\n",
              "        -71.56481],\n",
              "       [-71.93519, -71.93313, -71.93107, ..., -71.56893, -71.56687,\n",
              "        -71.56481]], dtype=float32)"
            ]
          },
          "metadata": {
            "tags": []
          },
          "execution_count": 139
        }
      ]
    },
    {
      "cell_type": "code",
      "metadata": {
        "id": "wnuNyQKu7a1S",
        "colab": {
          "base_uri": "https://localhost:8080/"
        },
        "outputId": "47ad92d2-db5c-4205-cf99-d664a8fccf9a"
      },
      "source": [
        "lat_u"
      ],
      "execution_count": null,
      "outputs": [
        {
          "output_type": "execute_result",
          "data": {
            "text/plain": [
              "<class 'netCDF4._netCDF4.Variable'>\n",
              "float32 lat_u(eta_rho, xi_u)\n",
              "    long_name: latitude of U-points\n",
              "    units: degree_north\n",
              "    field: lat_u, scalar\n",
              "    standard_name: latitude_at_u_location\n",
              "unlimited dimensions: \n",
              "current shape = (311, 181)\n",
              "filling on, default _FillValue of 9.969209968386869e+36 used"
            ]
          },
          "metadata": {
            "tags": []
          },
          "execution_count": 140
        }
      ]
    },
    {
      "cell_type": "code",
      "metadata": {
        "id": "rTtpFawJvVQg",
        "colab": {
          "base_uri": "https://localhost:8080/"
        },
        "outputId": "6d16fd74-12bd-40f4-e879-51c879d9e1b6"
      },
      "source": [
        "lat_u = np.array(ds.variables['lat_u'][:])\n",
        "lat_u"
      ],
      "execution_count": null,
      "outputs": [
        {
          "output_type": "execute_result",
          "data": {
            "text/plain": [
              "array([[-54.322098, -54.322098, -54.322098, ..., -54.322098, -54.322098,\n",
              "        -54.322098],\n",
              "       [-54.320896, -54.320896, -54.320896, ..., -54.320896, -54.320896,\n",
              "        -54.320896],\n",
              "       [-54.3197  , -54.3197  , -54.3197  , ..., -54.3197  , -54.3197  ,\n",
              "        -54.3197  ],\n",
              "       ...,\n",
              "       [-53.951256, -53.951256, -53.951256, ..., -53.951256, -53.951256,\n",
              "        -53.951256],\n",
              "       [-53.950047, -53.950047, -53.950047, ..., -53.950047, -53.950047,\n",
              "        -53.950047],\n",
              "       [-53.948837, -53.948837, -53.948837, ..., -53.948837, -53.948837,\n",
              "        -53.948837]], dtype=float32)"
            ]
          },
          "metadata": {
            "tags": []
          },
          "execution_count": 141
        }
      ]
    },
    {
      "cell_type": "code",
      "metadata": {
        "id": "kcY0_a-57eux",
        "colab": {
          "base_uri": "https://localhost:8080/"
        },
        "outputId": "94a8df44-8c05-4288-c67c-092f2b09d8d5"
      },
      "source": [
        "lon_v"
      ],
      "execution_count": null,
      "outputs": [
        {
          "output_type": "execute_result",
          "data": {
            "text/plain": [
              "<class 'netCDF4._netCDF4.Variable'>\n",
              "float32 lon_v(eta_v, xi_rho)\n",
              "    long_name: longitude of V-points\n",
              "    units: degree_east\n",
              "    field: lon_v, scalar\n",
              "    standard_name: longitude_at_v_location\n",
              "unlimited dimensions: \n",
              "current shape = (310, 182)\n",
              "filling on, default _FillValue of 9.969209968386869e+36 used"
            ]
          },
          "metadata": {
            "tags": []
          },
          "execution_count": 142
        }
      ]
    },
    {
      "cell_type": "code",
      "metadata": {
        "id": "8TKefwcXvcES",
        "colab": {
          "base_uri": "https://localhost:8080/"
        },
        "outputId": "20a8aeae-ed8f-4551-89df-416276c2da4a"
      },
      "source": [
        "lon_v = np.array(ds.variables['lon_v'][:])\n",
        "lon_v"
      ],
      "execution_count": null,
      "outputs": [
        {
          "output_type": "execute_result",
          "data": {
            "text/plain": [
              "array([[-71.93621, -71.93416, -71.9321 , ..., -71.5679 , -71.56584,\n",
              "        -71.56379],\n",
              "       [-71.93621, -71.93416, -71.9321 , ..., -71.5679 , -71.56584,\n",
              "        -71.56379],\n",
              "       [-71.93621, -71.93416, -71.9321 , ..., -71.5679 , -71.56584,\n",
              "        -71.56379],\n",
              "       ...,\n",
              "       [-71.93621, -71.93416, -71.9321 , ..., -71.5679 , -71.56584,\n",
              "        -71.56379],\n",
              "       [-71.93621, -71.93416, -71.9321 , ..., -71.5679 , -71.56584,\n",
              "        -71.56379],\n",
              "       [-71.93621, -71.93416, -71.9321 , ..., -71.5679 , -71.56584,\n",
              "        -71.56379]], dtype=float32)"
            ]
          },
          "metadata": {
            "tags": []
          },
          "execution_count": 143
        }
      ]
    },
    {
      "cell_type": "code",
      "metadata": {
        "id": "6KqUUno07g-y",
        "colab": {
          "base_uri": "https://localhost:8080/"
        },
        "outputId": "298edda8-ebea-45f2-e84a-b4a71e9e4936"
      },
      "source": [
        "lat_v"
      ],
      "execution_count": null,
      "outputs": [
        {
          "output_type": "execute_result",
          "data": {
            "text/plain": [
              "<class 'netCDF4._netCDF4.Variable'>\n",
              "float32 lat_v(eta_v, xi_rho)\n",
              "    long_name: latitude of V-points\n",
              "    units: degree_north\n",
              "    field: lat_v, scalar\n",
              "    standard_name: latitude_at_v_location\n",
              "unlimited dimensions: \n",
              "current shape = (310, 182)\n",
              "filling on, default _FillValue of 9.969209968386869e+36 used"
            ]
          },
          "metadata": {
            "tags": []
          },
          "execution_count": 144
        }
      ]
    },
    {
      "cell_type": "code",
      "metadata": {
        "id": "hrHo9MThvkeU",
        "colab": {
          "base_uri": "https://localhost:8080/"
        },
        "outputId": "7ac4b790-3cdc-4d5f-c70c-3a53d0b3de00"
      },
      "source": [
        "lat_v = np.array(ds.variables['lat_v'][:])\n",
        "lat_v"
      ],
      "execution_count": null,
      "outputs": [
        {
          "output_type": "execute_result",
          "data": {
            "text/plain": [
              "array([[-54.32147 , -54.32147 , -54.32147 , ..., -54.32147 , -54.32147 ,\n",
              "        -54.32147 ],\n",
              "       [-54.32027 , -54.32027 , -54.32027 , ..., -54.32027 , -54.32027 ,\n",
              "        -54.32027 ],\n",
              "       [-54.319073, -54.319073, -54.319073, ..., -54.319073, -54.319073,\n",
              "        -54.319073],\n",
              "       ...,\n",
              "       [-53.95183 , -53.95183 , -53.95183 , ..., -53.95183 , -53.95183 ,\n",
              "        -53.95183 ],\n",
              "       [-53.950623, -53.950623, -53.950623, ..., -53.950623, -53.950623,\n",
              "        -53.950623],\n",
              "       [-53.949413, -53.949413, -53.949413, ..., -53.949413, -53.949413,\n",
              "        -53.949413]], dtype=float32)"
            ]
          },
          "metadata": {
            "tags": []
          },
          "execution_count": 145
        }
      ]
    },
    {
      "cell_type": "code",
      "metadata": {
        "id": "OlTZJmv17jH0",
        "colab": {
          "base_uri": "https://localhost:8080/"
        },
        "outputId": "962543e6-20d9-4d6d-c7c5-7d5158052e9c"
      },
      "source": [
        "angle"
      ],
      "execution_count": null,
      "outputs": [
        {
          "output_type": "execute_result",
          "data": {
            "text/plain": [
              "<class 'netCDF4._netCDF4.Variable'>\n",
              "float32 angle(eta_rho, xi_rho)\n",
              "    long_name: angle between XI-axis and EAST\n",
              "    units: radians\n",
              "    field: angle, scalar\n",
              "    coordinates: lat_rho lon_rho\n",
              "unlimited dimensions: \n",
              "current shape = (311, 182)\n",
              "filling on, default _FillValue of 9.969209968386869e+36 used"
            ]
          },
          "metadata": {
            "tags": []
          },
          "execution_count": 146
        }
      ]
    },
    {
      "cell_type": "code",
      "metadata": {
        "id": "NSIfXzR2vuB3",
        "colab": {
          "base_uri": "https://localhost:8080/"
        },
        "outputId": "3a155e01-2ea6-4d31-9e9d-1f0b390c59cd"
      },
      "source": [
        "angle = np.array(ds.variables['angle'][:])\n",
        "angle"
      ],
      "execution_count": null,
      "outputs": [
        {
          "output_type": "execute_result",
          "data": {
            "text/plain": [
              "array([[-0.00118146, -0.00118146, -0.00118146, ..., -0.00118146,\n",
              "        -0.00118146, -0.00118146],\n",
              "       [-0.00118144, -0.00118144, -0.00118144, ..., -0.00118144,\n",
              "        -0.00118144, -0.00118144],\n",
              "       [-0.00118142, -0.00118142, -0.00118142, ..., -0.00118142,\n",
              "        -0.00118142, -0.00118142],\n",
              "       ...,\n",
              "       [-0.00117594, -0.00117594, -0.00117594, ..., -0.00117594,\n",
              "        -0.00117594, -0.00117594],\n",
              "       [-0.00117592, -0.00117592, -0.00117592, ..., -0.00117592,\n",
              "        -0.00117592, -0.00117592],\n",
              "       [-0.0011759 , -0.0011759 , -0.0011759 , ..., -0.0011759 ,\n",
              "        -0.0011759 , -0.0011759 ]], dtype=float32)"
            ]
          },
          "metadata": {
            "tags": []
          },
          "execution_count": 147
        }
      ]
    },
    {
      "cell_type": "code",
      "metadata": {
        "id": "WgVmfb2F7leJ",
        "colab": {
          "base_uri": "https://localhost:8080/"
        },
        "outputId": "a12b233f-5cb8-4519-a718-afcd474437a0"
      },
      "source": [
        "mask_rho"
      ],
      "execution_count": null,
      "outputs": [
        {
          "output_type": "execute_result",
          "data": {
            "text/plain": [
              "<class 'netCDF4._netCDF4.Variable'>\n",
              "float32 mask_rho(eta_rho, xi_rho)\n",
              "    long_name: mask on RHO-points\n",
              "    option_0: land\n",
              "    option_1: water\n",
              "    standard_name: land_binary_mask\n",
              "    coordinates: lat_rho lon_rho\n",
              "unlimited dimensions: \n",
              "current shape = (311, 182)\n",
              "filling on, default _FillValue of 9.969209968386869e+36 used"
            ]
          },
          "metadata": {
            "tags": []
          },
          "execution_count": 148
        }
      ]
    },
    {
      "cell_type": "code",
      "metadata": {
        "id": "ZX1f5NDqv5A8",
        "colab": {
          "base_uri": "https://localhost:8080/"
        },
        "outputId": "4b631408-0096-41ec-c4d2-0d1b8a645d91"
      },
      "source": [
        "mask_rho = np.array(ds.variables['mask_rho'][:])\n",
        "mask_rho"
      ],
      "execution_count": null,
      "outputs": [
        {
          "output_type": "execute_result",
          "data": {
            "text/plain": [
              "array([[0., 0., 0., ..., 1., 1., 1.],\n",
              "       [0., 0., 0., ..., 1., 1., 1.],\n",
              "       [0., 0., 0., ..., 1., 1., 1.],\n",
              "       ...,\n",
              "       [0., 0., 0., ..., 0., 0., 0.],\n",
              "       [0., 0., 0., ..., 0., 0., 0.],\n",
              "       [0., 0., 0., ..., 0., 0., 1.]], dtype=float32)"
            ]
          },
          "metadata": {
            "tags": []
          },
          "execution_count": 149
        }
      ]
    },
    {
      "cell_type": "code",
      "metadata": {
        "id": "DBnFA_UxwOLO",
        "colab": {
          "base_uri": "https://localhost:8080/"
        },
        "outputId": "b2a80ce5-7f33-4902-e464-55891f0eedfb"
      },
      "source": [
        "time_step"
      ],
      "execution_count": null,
      "outputs": [
        {
          "output_type": "execute_result",
          "data": {
            "text/plain": [
              "<class 'netCDF4._netCDF4.Variable'>\n",
              "int32 time_step(time, auxil)\n",
              "    long_name: time step and record numbers from initialization\n",
              "unlimited dimensions: time\n",
              "current shape = (1023, 4)\n",
              "filling on, default _FillValue of -2147483647 used"
            ]
          },
          "metadata": {
            "tags": []
          },
          "execution_count": 150
        }
      ]
    },
    {
      "cell_type": "code",
      "metadata": {
        "id": "OAKyKEx8wG4O",
        "colab": {
          "base_uri": "https://localhost:8080/"
        },
        "outputId": "8ca079c2-c2db-4811-d75c-8496d245f40f"
      },
      "source": [
        "time_step = np.array(ds.variables['time_step'][0,:])\n",
        "time_step"
      ],
      "execution_count": null,
      "outputs": [
        {
          "output_type": "execute_result",
          "data": {
            "text/plain": [
              "array([1, 0, 1, 0], dtype=int32)"
            ]
          },
          "metadata": {
            "tags": []
          },
          "execution_count": 151
        }
      ]
    },
    {
      "cell_type": "code",
      "metadata": {
        "id": "HdFqJ2_HQvkJ",
        "colab": {
          "base_uri": "https://localhost:8080/"
        },
        "outputId": "f5b553ff-de61-4dc7-a295-d66dfcef0c27"
      },
      "source": [
        "scrum_time"
      ],
      "execution_count": null,
      "outputs": [
        {
          "output_type": "execute_result",
          "data": {
            "text/plain": [
              "<class 'netCDF4._netCDF4.Variable'>\n",
              "float64 scrum_time(time)\n",
              "    long_name: time since initialization\n",
              "    units: second\n",
              "    field: time, scalar, series\n",
              "    standard_name: time\n",
              "    axis: T\n",
              "unlimited dimensions: time\n",
              "current shape = (1023,)\n",
              "filling on, default _FillValue of 9.969209968386869e+36 used"
            ]
          },
          "metadata": {
            "tags": []
          },
          "execution_count": 152
        }
      ]
    },
    {
      "cell_type": "code",
      "metadata": {
        "id": "fC9poDTMwPI0",
        "colab": {
          "base_uri": "https://localhost:8080/"
        },
        "outputId": "54aa2adf-9fce-4dd9-a83f-c7eadc189cd5"
      },
      "source": [
        "scrum_time = np.array(ds.variables['scrum_time'][0,])\n",
        "scrum_time"
      ],
      "execution_count": null,
      "outputs": [
        {
          "output_type": "execute_result",
          "data": {
            "text/plain": [
              "array(3542400.)"
            ]
          },
          "metadata": {
            "tags": []
          },
          "execution_count": 153
        }
      ]
    },
    {
      "cell_type": "code",
      "metadata": {
        "id": "4zclujOsVlkN",
        "colab": {
          "base_uri": "https://localhost:8080/"
        },
        "outputId": "72195147-40fc-450e-e132-01da18ab41a7"
      },
      "source": [
        "time"
      ],
      "execution_count": null,
      "outputs": [
        {
          "output_type": "execute_result",
          "data": {
            "text/plain": [
              "<class 'netCDF4._netCDF4.Variable'>\n",
              "float64 time(time)\n",
              "    long_name: time since initialization\n",
              "    units: second\n",
              "    field: time, scalar, series\n",
              "    standard_name: time\n",
              "    axis: T\n",
              "unlimited dimensions: time\n",
              "current shape = (1023,)\n",
              "filling on, default _FillValue of 9.969209968386869e+36 used"
            ]
          },
          "metadata": {
            "tags": []
          },
          "execution_count": 154
        }
      ]
    },
    {
      "cell_type": "code",
      "metadata": {
        "id": "tevY7P3sVagf",
        "colab": {
          "base_uri": "https://localhost:8080/"
        },
        "outputId": "af5059ae-b645-49ec-a048-92f5fd58cf29"
      },
      "source": [
        "time = np.array(ds.variables['time'][0])\n",
        "time"
      ],
      "execution_count": null,
      "outputs": [
        {
          "output_type": "execute_result",
          "data": {
            "text/plain": [
              "array(3542400.)"
            ]
          },
          "metadata": {
            "tags": []
          },
          "execution_count": 155
        }
      ]
    },
    {
      "cell_type": "code",
      "metadata": {
        "id": "hmtjHHTqjKsH",
        "colab": {
          "base_uri": "https://localhost:8080/"
        },
        "outputId": "74718466-6029-49ce-fc10-de0be54d7f02"
      },
      "source": [
        "zeta"
      ],
      "execution_count": null,
      "outputs": [
        {
          "output_type": "execute_result",
          "data": {
            "text/plain": [
              "<class 'netCDF4._netCDF4.Variable'>\n",
              "float32 zeta(time, eta_rho, xi_rho)\n",
              "    long_name: free-surface\n",
              "    units: meter\n",
              "    field: free-surface, scalar, series\n",
              "    standard_name: sea_surface_height\n",
              "    coordinates: lat_rho lon_rho\n",
              "unlimited dimensions: time\n",
              "current shape = (1023, 311, 182)\n",
              "filling on, default _FillValue of 9.969209968386869e+36 used"
            ]
          },
          "metadata": {
            "tags": []
          },
          "execution_count": 156
        }
      ]
    },
    {
      "cell_type": "code",
      "metadata": {
        "id": "-FBvCfxvjEPF",
        "colab": {
          "base_uri": "https://localhost:8080/"
        },
        "outputId": "00354f77-80b3-4dcd-c1fc-480a9257d1d2"
      },
      "source": [
        "zeta = np.array(ds.variables['zeta'][1022,yj,xj])\n",
        "zeta"
      ],
      "execution_count": null,
      "outputs": [
        {
          "output_type": "execute_result",
          "data": {
            "text/plain": [
              "array(0.22543086, dtype=float32)"
            ]
          },
          "metadata": {
            "tags": []
          },
          "execution_count": 157
        }
      ]
    },
    {
      "cell_type": "code",
      "metadata": {
        "id": "woh1H6WSkLfZ",
        "colab": {
          "base_uri": "https://localhost:8080/"
        },
        "outputId": "87f33213-bcb1-4fbf-9d79-ef9824efa31a"
      },
      "source": [
        "ubar"
      ],
      "execution_count": null,
      "outputs": [
        {
          "output_type": "execute_result",
          "data": {
            "text/plain": [
              "<class 'netCDF4._netCDF4.Variable'>\n",
              "float32 ubar(time, eta_rho, xi_u)\n",
              "    long_name: vertically integrated u-momentum component\n",
              "    units: meter second-1\n",
              "    field: ubar-velocity, scalar, series\n",
              "    standard_name: barotropic_sea_water_x_velocity_at_u_location\n",
              "    coordinates: lat_u lon_u\n",
              "unlimited dimensions: time\n",
              "current shape = (1023, 311, 181)\n",
              "filling on, default _FillValue of 9.969209968386869e+36 used"
            ]
          },
          "metadata": {
            "tags": []
          },
          "execution_count": 158
        }
      ]
    },
    {
      "cell_type": "code",
      "metadata": {
        "id": "Z3nmfmNKj8wq",
        "colab": {
          "base_uri": "https://localhost:8080/"
        },
        "outputId": "e14c29a1-54b7-42bc-af0c-9e9930639205"
      },
      "source": [
        "ubar = np.array(ds.variables['ubar'][1022,yj,xj])\n",
        "ubar"
      ],
      "execution_count": null,
      "outputs": [
        {
          "output_type": "execute_result",
          "data": {
            "text/plain": [
              "array(0.23873474, dtype=float32)"
            ]
          },
          "metadata": {
            "tags": []
          },
          "execution_count": 159
        }
      ]
    },
    {
      "cell_type": "code",
      "metadata": {
        "id": "ja9-h4RwkrV_",
        "colab": {
          "base_uri": "https://localhost:8080/"
        },
        "outputId": "831fae51-ac49-48cf-8360-b7376de7d81c"
      },
      "source": [
        "vbar"
      ],
      "execution_count": null,
      "outputs": [
        {
          "output_type": "execute_result",
          "data": {
            "text/plain": [
              "<class 'netCDF4._netCDF4.Variable'>\n",
              "float32 vbar(time, eta_v, xi_rho)\n",
              "    long_name: vertically integrated v-momentum component\n",
              "    units: meter second-1\n",
              "    field: vbar-velocity, scalar, series\n",
              "    standard_name: barotropic_sea_water_y_velocity_at_v_location\n",
              "    coordinates: lat_v lon_v\n",
              "unlimited dimensions: time\n",
              "current shape = (1023, 310, 182)\n",
              "filling on, default _FillValue of 9.969209968386869e+36 used"
            ]
          },
          "metadata": {
            "tags": []
          },
          "execution_count": 160
        }
      ]
    },
    {
      "cell_type": "code",
      "metadata": {
        "id": "S0UKCIYqkrnX",
        "colab": {
          "base_uri": "https://localhost:8080/"
        },
        "outputId": "9b4086d3-ba11-4584-bfb2-950fdb7aa9aa"
      },
      "source": [
        "vbar = np.array(ds.variables['vbar'][1022,yj,xj])\n",
        "vbar"
      ],
      "execution_count": null,
      "outputs": [
        {
          "output_type": "execute_result",
          "data": {
            "text/plain": [
              "array(-0.08705606, dtype=float32)"
            ]
          },
          "metadata": {
            "tags": []
          },
          "execution_count": 161
        }
      ]
    },
    {
      "cell_type": "code",
      "metadata": {
        "id": "15DLS3rpl6PL",
        "colab": {
          "base_uri": "https://localhost:8080/"
        },
        "outputId": "76849f20-e766-4f85-934b-0b32154ae619"
      },
      "source": [
        "u"
      ],
      "execution_count": null,
      "outputs": [
        {
          "output_type": "execute_result",
          "data": {
            "text/plain": [
              "<class 'netCDF4._netCDF4.Variable'>\n",
              "float32 u(time, s_rho, eta_rho, xi_u)\n",
              "    long_name: u-momentum component\n",
              "    units: meter second-1\n",
              "    field: u-velocity, scalar, series\n",
              "    standard_name: sea_water_x_velocity_at_u_location\n",
              "    coordinates: lat_u lon_u\n",
              "unlimited dimensions: time\n",
              "current shape = (1023, 30, 311, 181)\n",
              "filling on, default _FillValue of 9.969209968386869e+36 used"
            ]
          },
          "metadata": {
            "tags": []
          },
          "execution_count": 162
        }
      ]
    },
    {
      "cell_type": "code",
      "metadata": {
        "id": "UqUmMbbpl637",
        "colab": {
          "base_uri": "https://localhost:8080/"
        },
        "outputId": "af938135-491b-44d2-e8f6-d285befaec47"
      },
      "source": [
        "u = np.array(ds.variables['u'][1022,:,yj,xj])\n",
        "u"
      ],
      "execution_count": null,
      "outputs": [
        {
          "output_type": "execute_result",
          "data": {
            "text/plain": [
              "array([0.2148987 , 0.24492753, 0.2593668 , 0.2555415 , 0.24480553,\n",
              "       0.24491829, 0.25168708, 0.2565407 , 0.24210542, 0.20395945,\n",
              "       0.20965742, 0.21566266, 0.22003648, 0.22350647, 0.22676675,\n",
              "       0.2293513 , 0.23112701, 0.23216185, 0.23264791, 0.2329806 ,\n",
              "       0.23389529, 0.23484147, 0.2350746 , 0.23468435, 0.23576531,\n",
              "       0.23921975, 0.2449096 , 0.2533423 , 0.266522  , 0.2920409 ],\n",
              "      dtype=float32)"
            ]
          },
          "metadata": {
            "tags": []
          },
          "execution_count": 163
        }
      ]
    },
    {
      "cell_type": "code",
      "metadata": {
        "id": "TadC2BpVmh3G",
        "colab": {
          "base_uri": "https://localhost:8080/"
        },
        "outputId": "3d14e306-1f3c-4ad0-b7af-de4df6b4e101"
      },
      "source": [
        "v"
      ],
      "execution_count": null,
      "outputs": [
        {
          "output_type": "execute_result",
          "data": {
            "text/plain": [
              "<class 'netCDF4._netCDF4.Variable'>\n",
              "float32 v(time, s_rho, eta_v, xi_rho)\n",
              "    long_name: v-momentum component\n",
              "    units: meter second-1\n",
              "    field: v-velocity, scalar, series\n",
              "    standard_name: sea_water_y_velocity_at_v_location\n",
              "    coordinates: lat_v lon_v\n",
              "unlimited dimensions: time\n",
              "current shape = (1023, 30, 310, 182)\n",
              "filling on, default _FillValue of 9.969209968386869e+36 used"
            ]
          },
          "metadata": {
            "tags": []
          },
          "execution_count": 164
        }
      ]
    },
    {
      "cell_type": "code",
      "metadata": {
        "id": "WZ7U8rimmiFW",
        "colab": {
          "base_uri": "https://localhost:8080/"
        },
        "outputId": "b2eb16ca-81bb-48e1-828a-2e9c150f5beb"
      },
      "source": [
        "v = np.array(ds.variables['v'][1022,:,yj,xj])\n",
        "v"
      ],
      "execution_count": null,
      "outputs": [
        {
          "output_type": "execute_result",
          "data": {
            "text/plain": [
              "array([-0.15194827, -0.13977149, -0.09516379, -0.07533859, -0.06507479,\n",
              "       -0.03101144, -0.0061653 , -0.00620287, -0.08460508, -0.13922651,\n",
              "       -0.13639061, -0.13144292, -0.12493734, -0.11793689, -0.10727948,\n",
              "       -0.0974773 , -0.0886592 , -0.08081498, -0.07419837, -0.06800587,\n",
              "       -0.04755615, -0.02509957, -0.00350336,  0.01425382,  0.02717376,\n",
              "        0.03542368,  0.03985077,  0.04132149,  0.03988726,  0.03280168],\n",
              "      dtype=float32)"
            ]
          },
          "metadata": {
            "tags": []
          },
          "execution_count": 165
        }
      ]
    },
    {
      "cell_type": "code",
      "metadata": {
        "id": "GW3VEzxDnSQY",
        "colab": {
          "base_uri": "https://localhost:8080/"
        },
        "outputId": "4fc8ff3e-daea-44db-b700-45277f4da1fc"
      },
      "source": [
        "temp"
      ],
      "execution_count": null,
      "outputs": [
        {
          "output_type": "execute_result",
          "data": {
            "text/plain": [
              "<class 'netCDF4._netCDF4.Variable'>\n",
              "float32 temp(time, s_rho, eta_rho, xi_rho)\n",
              "    long_name: potential temperature\n",
              "    units: Celsius\n",
              "    field: temperature, scalar, series\n",
              "    standard_name: sea_water_potential_temperature\n",
              "    coordinates: lat_rho lon_rho\n",
              "unlimited dimensions: time\n",
              "current shape = (1023, 30, 311, 182)\n",
              "filling on, default _FillValue of 9.969209968386869e+36 used"
            ]
          },
          "metadata": {
            "tags": []
          },
          "execution_count": 166
        }
      ]
    },
    {
      "cell_type": "code",
      "metadata": {
        "id": "PuN04a_YnScR",
        "colab": {
          "base_uri": "https://localhost:8080/"
        },
        "outputId": "c1a1acc8-91da-407a-e3cc-66c4caab9731"
      },
      "source": [
        "temp = np.array(ds.variables['temp'][1022,:,yj,xj])\n",
        "temp"
      ],
      "execution_count": null,
      "outputs": [
        {
          "output_type": "execute_result",
          "data": {
            "text/plain": [
              "array([7.4208117, 7.610876 , 7.6742806, 7.717456 , 7.842849 , 8.0323   ,\n",
              "       8.167999 , 8.204437 , 8.312634 , 8.498767 , 8.56077  , 8.55475  ,\n",
              "       8.547588 , 8.538765 , 8.52855  , 8.518278 , 8.508864 , 8.5008745,\n",
              "       8.495165 , 8.49201  , 8.484939 , 8.488573 , 8.511042 , 8.550122 ,\n",
              "       8.592517 , 8.6277075, 8.65187  , 8.665769 , 8.671312 , 8.669311 ],\n",
              "      dtype=float32)"
            ]
          },
          "metadata": {
            "tags": []
          },
          "execution_count": 167
        }
      ]
    },
    {
      "cell_type": "code",
      "metadata": {
        "id": "aKink7GVntwj",
        "colab": {
          "base_uri": "https://localhost:8080/"
        },
        "outputId": "b55ee1b0-a3df-4ca7-a459-f61f6b2961d9"
      },
      "source": [
        "salt"
      ],
      "execution_count": null,
      "outputs": [
        {
          "output_type": "execute_result",
          "data": {
            "text/plain": [
              "<class 'netCDF4._netCDF4.Variable'>\n",
              "float32 salt(time, s_rho, eta_rho, xi_rho)\n",
              "    long_name: salinity\n",
              "    units: PSU\n",
              "    field: salinity, scalar, series\n",
              "    standard_name: sea_water_salinity\n",
              "    coordinates: lat_rho lon_rho\n",
              "unlimited dimensions: time\n",
              "current shape = (1023, 30, 311, 182)\n",
              "filling on, default _FillValue of 9.969209968386869e+36 used"
            ]
          },
          "metadata": {
            "tags": []
          },
          "execution_count": 168
        }
      ]
    },
    {
      "cell_type": "code",
      "metadata": {
        "id": "_lQGX_Jmnt-U",
        "colab": {
          "base_uri": "https://localhost:8080/"
        },
        "outputId": "02ebdfc1-76ea-400d-9bba-2a77cdc7548f"
      },
      "source": [
        "salt = np.array(ds.variables['salt'][1022,:,yj,xj])\n",
        "salt"
      ],
      "execution_count": null,
      "outputs": [
        {
          "output_type": "execute_result",
          "data": {
            "text/plain": [
              "array([33.948368, 33.915005, 33.904205, 33.8966  , 33.874695, 33.841885,\n",
              "       33.8184  , 33.812084, 33.79296 , 33.760376, 33.74982 , 33.750904,\n",
              "       33.75217 , 33.75373 , 33.75553 , 33.75733 , 33.758976, 33.76037 ,\n",
              "       33.761402, 33.761986, 33.76343 , 33.76318 , 33.75982 , 33.75361 ,\n",
              "       33.746593, 33.740322, 33.735443, 33.731884, 33.72932 , 33.727276],\n",
              "      dtype=float32)"
            ]
          },
          "metadata": {
            "tags": []
          },
          "execution_count": 169
        }
      ]
    },
    {
      "cell_type": "code",
      "metadata": {
        "id": "fx8RFUZxoAqD",
        "colab": {
          "base_uri": "https://localhost:8080/"
        },
        "outputId": "e250b51f-b8ef-49cc-8764-b92ea0c0ef45"
      },
      "source": [
        "DIC"
      ],
      "execution_count": null,
      "outputs": [
        {
          "output_type": "execute_result",
          "data": {
            "text/plain": [
              "<class 'netCDF4._netCDF4.Variable'>\n",
              "float32 DIC(time, s_rho, eta_rho, xi_rho)\n",
              "    long_name: Dissolved inorganic carbon\n",
              "    units: umol C L-1\n",
              "    field: DIC, scalar, series\n",
              "    standard_name: mole_concentration_of_dissolved_inorganic_carbon_in_sea_water\n",
              "    coordinates: lat_rho lon_rho\n",
              "unlimited dimensions: time\n",
              "current shape = (1023, 30, 311, 182)\n",
              "filling on, default _FillValue of 9.969209968386869e+36 used"
            ]
          },
          "metadata": {
            "tags": []
          },
          "execution_count": 170
        }
      ]
    },
    {
      "cell_type": "code",
      "metadata": {
        "id": "GWDsHoson-PB",
        "colab": {
          "base_uri": "https://localhost:8080/"
        },
        "outputId": "93169d79-c0a0-4b26-e318-f37c53f42fb1"
      },
      "source": [
        "DIC = np.array(ds.variables['DIC'][1022,:,yj,xj])\n",
        "DIC"
      ],
      "execution_count": null,
      "outputs": [
        {
          "output_type": "execute_result",
          "data": {
            "text/plain": [
              "array([2107.6907, 2105.2578, 2103.8784, 2103.1113, 2101.3997, 2098.882 ,\n",
              "       2096.7397, 2095.0515, 2093.9683, 2093.878 , 2094.0261, 2094.0623,\n",
              "       2094.093 , 2094.1208, 2094.1448, 2094.17  , 2094.196 , 2094.228 ,\n",
              "       2094.2634, 2094.3052, 2094.6433, 2095.0645, 2095.4558, 2095.8167,\n",
              "       2096.0857, 2096.2393, 2096.3054, 2096.3208, 2096.3064, 2096.253 ],\n",
              "      dtype=float32)"
            ]
          },
          "metadata": {
            "tags": []
          },
          "execution_count": 171
        }
      ]
    },
    {
      "cell_type": "code",
      "metadata": {
        "id": "BON3NAGXoKq4",
        "colab": {
          "base_uri": "https://localhost:8080/"
        },
        "outputId": "cf920251-916d-485e-dbee-a240d1995263"
      },
      "source": [
        "TALK"
      ],
      "execution_count": null,
      "outputs": [
        {
          "output_type": "execute_result",
          "data": {
            "text/plain": [
              "<class 'netCDF4._netCDF4.Variable'>\n",
              "float32 TALK(time, s_rho, eta_rho, xi_rho)\n",
              "    long_name: Total Alkalinity\n",
              "    units: umol C L-1\n",
              "    field: Alkalinity, scalar, series\n",
              "    coordinates: lat_rho lon_rho\n",
              "unlimited dimensions: time\n",
              "current shape = (1023, 30, 311, 182)\n",
              "filling on, default _FillValue of 9.969209968386869e+36 used"
            ]
          },
          "metadata": {
            "tags": []
          },
          "execution_count": 172
        }
      ]
    },
    {
      "cell_type": "code",
      "metadata": {
        "id": "FyFvvzC_oK8D",
        "colab": {
          "base_uri": "https://localhost:8080/"
        },
        "outputId": "af26d8cc-e3ab-4da4-ca7f-dea3ffb13b03"
      },
      "source": [
        "TALK = np.array(ds.variables['TALK'][1022,:,yj,xj])\n",
        "TALK"
      ],
      "execution_count": null,
      "outputs": [
        {
          "output_type": "execute_result",
          "data": {
            "text/plain": [
              "array([2278.9614, 2279.0356, 2278.1743, 2277.779 , 2277.183 , 2276.4739,\n",
              "       2275.7278, 2274.599 , 2274.285 , 2275.706 , 2276.5095, 2276.5046,\n",
              "       2276.4678, 2276.4092, 2276.3354, 2276.2698, 2276.2097, 2276.1587,\n",
              "       2276.131 , 2276.128 , 2276.2554, 2276.6047, 2277.135 , 2277.7646,\n",
              "       2278.347 , 2278.786 , 2279.0776, 2279.2573, 2279.364 , 2279.4275],\n",
              "      dtype=float32)"
            ]
          },
          "metadata": {
            "tags": []
          },
          "execution_count": 173
        }
      ]
    },
    {
      "cell_type": "code",
      "metadata": {
        "id": "PryQuqL1oZoA",
        "colab": {
          "base_uri": "https://localhost:8080/"
        },
        "outputId": "bff6f418-cfcc-4d3c-9f91-47864e3475cd"
      },
      "source": [
        "O2"
      ],
      "execution_count": null,
      "outputs": [
        {
          "output_type": "execute_result",
          "data": {
            "text/plain": [
              "<class 'netCDF4._netCDF4.Variable'>\n",
              "float32 O2(time, s_rho, eta_rho, xi_rho)\n",
              "    long_name: Oxygen\n",
              "    units: umol L-1\n",
              "    field: Oxygen, scalar, series\n",
              "    coordinates: lat_rho lon_rho\n",
              "unlimited dimensions: time\n",
              "current shape = (1023, 30, 311, 182)\n",
              "filling on, default _FillValue of 9.969209968386869e+36 used"
            ]
          },
          "metadata": {
            "tags": []
          },
          "execution_count": 174
        }
      ]
    },
    {
      "cell_type": "code",
      "metadata": {
        "id": "L_2BpP9foZ1p",
        "colab": {
          "base_uri": "https://localhost:8080/"
        },
        "outputId": "eed47da7-2692-46b5-bdbf-721258957939"
      },
      "source": [
        "O2 = np.array(ds.variables['O2'][1022,:,yj,xj])\n",
        "O2"
      ],
      "execution_count": null,
      "outputs": [
        {
          "output_type": "execute_result",
          "data": {
            "text/plain": [
              "array([298.4915 , 298.54453, 298.54184, 298.57983, 298.53674, 298.3723 ,\n",
              "       298.27957, 298.30884, 298.22275, 297.88776, 297.72278, 297.7267 ,\n",
              "       297.7357 , 297.74905, 297.76508, 297.77972, 297.79263, 297.80316,\n",
              "       297.80896, 297.81015, 297.7829 , 297.70175, 297.57336, 297.41803,\n",
              "       297.2711 , 297.1564 , 297.07718, 297.0261 , 296.9937 , 296.96902],\n",
              "      dtype=float32)"
            ]
          },
          "metadata": {
            "tags": []
          },
          "execution_count": 175
        }
      ]
    },
    {
      "cell_type": "code",
      "metadata": {
        "id": "ky5Dsy4hotsE",
        "colab": {
          "base_uri": "https://localhost:8080/"
        },
        "outputId": "ae879115-d5f1-4159-be8e-12292bbd6ee5"
      },
      "source": [
        "CACO3"
      ],
      "execution_count": null,
      "outputs": [
        {
          "output_type": "execute_result",
          "data": {
            "text/plain": [
              "<class 'netCDF4._netCDF4.Variable'>\n",
              "float32 CACO3(time, s_rho, eta_rho, xi_rho)\n",
              "    long_name: Calcite\n",
              "    units: umol C L-1\n",
              "    field: Calcite, scalar, series\n",
              "unlimited dimensions: time\n",
              "current shape = (1023, 30, 311, 182)\n",
              "filling on, default _FillValue of 9.969209968386869e+36 used"
            ]
          },
          "metadata": {
            "tags": []
          },
          "execution_count": 176
        }
      ]
    },
    {
      "cell_type": "code",
      "metadata": {
        "id": "BJaKZRxVot3s",
        "colab": {
          "base_uri": "https://localhost:8080/"
        },
        "outputId": "5bcab4da-e62a-45d0-9329-e563e6e65224"
      },
      "source": [
        "CACO3 = np.array(ds.variables['CACO3'][1022,:,yj,xj])\n",
        "CACO3"
      ],
      "execution_count": null,
      "outputs": [
        {
          "output_type": "execute_result",
          "data": {
            "text/plain": [
              "array([0.06662946, 0.05463212, 0.05174529, 0.04983812, 0.04413512,\n",
              "       0.03484054, 0.02853907, 0.02591888, 0.02175277, 0.01754868,\n",
              "       0.01702006, 0.01718577, 0.01740642, 0.01769561, 0.01802683,\n",
              "       0.01834999, 0.01863561, 0.01886049, 0.01902973, 0.0191454 ,\n",
              "       0.01947353, 0.01956175, 0.01924597, 0.01854244, 0.01764403,\n",
              "       0.01672921, 0.01588794, 0.01511261, 0.01430921, 0.01318254],\n",
              "      dtype=float32)"
            ]
          },
          "metadata": {
            "tags": []
          },
          "execution_count": 177
        }
      ]
    },
    {
      "cell_type": "code",
      "metadata": {
        "id": "KUJET14oo98e",
        "colab": {
          "base_uri": "https://localhost:8080/"
        },
        "outputId": "f11cec89-a867-4321-deaf-f65e9991de93"
      },
      "source": [
        "PO4"
      ],
      "execution_count": null,
      "outputs": [
        {
          "output_type": "execute_result",
          "data": {
            "text/plain": [
              "<class 'netCDF4._netCDF4.Variable'>\n",
              "float32 PO4(time, s_rho, eta_rho, xi_rho)\n",
              "    long_name: Phosphate\n",
              "    units: umol P L-1\n",
              "    field: Phosphate, scalar, series\n",
              "    coordinates: lat_rho lon_rho\n",
              "unlimited dimensions: time\n",
              "current shape = (1023, 30, 311, 182)\n",
              "filling on, default _FillValue of 9.969209968386869e+36 used"
            ]
          },
          "metadata": {
            "tags": []
          },
          "execution_count": 178
        }
      ]
    },
    {
      "cell_type": "code",
      "metadata": {
        "id": "83K94JEto-If",
        "colab": {
          "base_uri": "https://localhost:8080/"
        },
        "outputId": "8211d821-b14c-405b-ced4-d3455f805df4"
      },
      "source": [
        "PO4 = np.array(ds.variables['PO4'][1022,:,yj,xj])\n",
        "PO4"
      ],
      "execution_count": null,
      "outputs": [
        {
          "output_type": "execute_result",
          "data": {
            "text/plain": [
              "array([1.2469101, 1.2295123, 1.2217466, 1.2172613, 1.2039514, 1.1838087,\n",
              "       1.1691653, 1.164936 , 1.1530823, 1.1333052, 1.1269509, 1.1276022,\n",
              "       1.12837  , 1.1293226, 1.1304322, 1.1315591, 1.1326097, 1.1335279,\n",
              "       1.1342562, 1.1348088, 1.1363564, 1.1363605, 1.1344583, 1.1306083,\n",
              "       1.1262106, 1.1223418, 1.1194305, 1.1174815, 1.1163269, 1.1158508],\n",
              "      dtype=float32)"
            ]
          },
          "metadata": {
            "tags": []
          },
          "execution_count": 179
        }
      ]
    },
    {
      "cell_type": "code",
      "metadata": {
        "id": "eeu9R-popVYm",
        "colab": {
          "base_uri": "https://localhost:8080/"
        },
        "outputId": "bbc34c11-83dd-4d81-e8b1-1ad9e23d65d3"
      },
      "source": [
        "POC"
      ],
      "execution_count": null,
      "outputs": [
        {
          "output_type": "execute_result",
          "data": {
            "text/plain": [
              "<class 'netCDF4._netCDF4.Variable'>\n",
              "float32 POC(time, s_rho, eta_rho, xi_rho)\n",
              "    long_name: Small particulate organic carbon\n",
              "    units: umol C L-1\n",
              "    field: Small particles, scalar, series\n",
              "    coordinates: lat_rho lon_rho\n",
              "unlimited dimensions: time\n",
              "current shape = (1023, 30, 311, 182)\n",
              "filling on, default _FillValue of 9.969209968386869e+36 used"
            ]
          },
          "metadata": {
            "tags": []
          },
          "execution_count": 180
        }
      ]
    },
    {
      "cell_type": "code",
      "metadata": {
        "id": "QYbI1DbCpVjX",
        "colab": {
          "base_uri": "https://localhost:8080/"
        },
        "outputId": "bc7654a1-2beb-48c6-bf09-026b3cad5947"
      },
      "source": [
        "POC = np.array(ds.variables['POC'][1022,:,yj,xj])\n",
        "POC"
      ],
      "execution_count": null,
      "outputs": [
        {
          "output_type": "execute_result",
          "data": {
            "text/plain": [
              "array([1.1173687, 1.191927 , 1.2222923, 1.2402668, 1.2733521, 1.3117598,\n",
              "       1.3353121, 1.3492421, 1.3361251, 1.2908622, 1.2752596, 1.2770435,\n",
              "       1.280169 , 1.285301 , 1.293352 , 1.3054069, 1.3226476, 1.3452542,\n",
              "       1.375159 , 1.4328473, 1.5920537, 1.6820815, 1.7485754, 1.7964246,\n",
              "       1.8171569, 1.8167934, 1.8025657, 1.7792624, 1.7481271, 1.7018741],\n",
              "      dtype=float32)"
            ]
          },
          "metadata": {
            "tags": []
          },
          "execution_count": 181
        }
      ]
    },
    {
      "cell_type": "code",
      "metadata": {
        "id": "uxXy92K9poPF",
        "colab": {
          "base_uri": "https://localhost:8080/"
        },
        "outputId": "4287ce3b-b820-484d-d89b-9000f4059767"
      },
      "source": [
        "Si"
      ],
      "execution_count": null,
      "outputs": [
        {
          "output_type": "execute_result",
          "data": {
            "text/plain": [
              "<class 'netCDF4._netCDF4.Variable'>\n",
              "float32 Si(time, s_rho, eta_rho, xi_rho)\n",
              "    long_name: Silicate\n",
              "    units: umol Si L-1\n",
              "    field: Silicate, scalar, series\n",
              "    coordinates: lat_rho lon_rho\n",
              "unlimited dimensions: time\n",
              "current shape = (1023, 30, 311, 182)\n",
              "filling on, default _FillValue of 9.969209968386869e+36 used"
            ]
          },
          "metadata": {
            "tags": []
          },
          "execution_count": 182
        }
      ]
    },
    {
      "cell_type": "code",
      "metadata": {
        "id": "JWbek-fNpoXy",
        "colab": {
          "base_uri": "https://localhost:8080/"
        },
        "outputId": "4a471eb0-20b6-4918-a04d-3a2a4910aecb"
      },
      "source": [
        "Si = np.array(ds.variables['Si'][1022,:,yj,xj])\n",
        "Si"
      ],
      "execution_count": null,
      "outputs": [
        {
          "output_type": "execute_result",
          "data": {
            "text/plain": [
              "array([15.838388, 17.368015, 17.749138, 18.129276, 18.930315, 20.103617,\n",
              "       21.009817, 21.37004 , 22.05395 , 22.969282, 23.08337 , 23.050446,\n",
              "       23.01429 , 22.979662, 22.94492 , 22.90895 , 22.873234, 22.841818,\n",
              "       22.81386 , 22.786842, 22.636053, 22.521545, 22.47046 , 22.472328,\n",
              "       22.529446, 22.625399, 22.737946, 22.854324, 22.979307, 23.163994],\n",
              "      dtype=float32)"
            ]
          },
          "metadata": {
            "tags": []
          },
          "execution_count": 183
        }
      ]
    },
    {
      "cell_type": "code",
      "metadata": {
        "id": "rIAz9St2p4iO",
        "colab": {
          "base_uri": "https://localhost:8080/"
        },
        "outputId": "805ad8dc-80af-49fe-e621-9223df5c7c23"
      },
      "source": [
        "NANO"
      ],
      "execution_count": null,
      "outputs": [
        {
          "output_type": "execute_result",
          "data": {
            "text/plain": [
              "<class 'netCDF4._netCDF4.Variable'>\n",
              "float32 NANO(time, s_rho, eta_rho, xi_rho)\n",
              "    long_name: Nanophytoplankton\n",
              "    units: umol C L-1\n",
              "    field: Nanophytoplankton, scalar, series\n",
              "    coordinates: lat_rho lon_rho\n",
              "unlimited dimensions: time\n",
              "current shape = (1023, 30, 311, 182)\n",
              "filling on, default _FillValue of 9.969209968386869e+36 used"
            ]
          },
          "metadata": {
            "tags": []
          },
          "execution_count": 184
        }
      ]
    },
    {
      "cell_type": "code",
      "metadata": {
        "id": "SuJM4tOhp4ui",
        "colab": {
          "base_uri": "https://localhost:8080/"
        },
        "outputId": "52fdfc93-5805-4f0f-8748-26789da7c84a"
      },
      "source": [
        "NANO = np.array(ds.variables['NANO'][1022,:,yj,xj])\n",
        "NANO"
      ],
      "execution_count": null,
      "outputs": [
        {
          "output_type": "execute_result",
          "data": {
            "text/plain": [
              "array([0.53154653, 0.5425829 , 0.5424466 , 0.5488188 , 0.55677736,\n",
              "       0.5623243 , 0.56542534, 0.560406  , 0.5745363 , 0.61614716,\n",
              "       0.62745506, 0.6258211 , 0.62386733, 0.6214081 , 0.6184495 ,\n",
              "       0.6153939 , 0.6125983 , 0.6103723 , 0.60857075, 0.6070455 ,\n",
              "       0.6009492 , 0.5977729 , 0.5978622 , 0.60109234, 0.6064327 ,\n",
              "       0.6123141 , 0.61757225, 0.6217364 , 0.62479347, 0.6270026 ],\n",
              "      dtype=float32)"
            ]
          },
          "metadata": {
            "tags": []
          },
          "execution_count": 185
        }
      ]
    },
    {
      "cell_type": "code",
      "metadata": {
        "id": "IytvyxNwqCjh",
        "colab": {
          "base_uri": "https://localhost:8080/"
        },
        "outputId": "f70f396e-f730-4a5a-a42d-5dbb7aae8cd1"
      },
      "source": [
        "ZOO"
      ],
      "execution_count": null,
      "outputs": [
        {
          "output_type": "execute_result",
          "data": {
            "text/plain": [
              "<class 'netCDF4._netCDF4.Variable'>\n",
              "float32 ZOO(time, s_rho, eta_rho, xi_rho)\n",
              "    long_name: Microzooplankton\n",
              "    units: umol C L-1\n",
              "    field: Microzooplankton, scalar, series\n",
              "    coordinates: lat_rho lon_rho\n",
              "unlimited dimensions: time\n",
              "current shape = (1023, 30, 311, 182)\n",
              "filling on, default _FillValue of 9.969209968386869e+36 used"
            ]
          },
          "metadata": {
            "tags": []
          },
          "execution_count": 186
        }
      ]
    },
    {
      "cell_type": "code",
      "metadata": {
        "id": "ZOlsVxSMqC5Y",
        "colab": {
          "base_uri": "https://localhost:8080/"
        },
        "outputId": "b0c45c4e-2403-41c4-f4c0-83fbee2a7f31"
      },
      "source": [
        "ZOO = np.array(ds.variables['ZOO'][1022,:,yj,xj])\n",
        "ZOO"
      ],
      "execution_count": null,
      "outputs": [
        {
          "output_type": "execute_result",
          "data": {
            "text/plain": [
              "array([0.5838417 , 0.79199   , 0.84862936, 0.89264673, 1.015847  ,\n",
              "       1.2044935 , 1.3484807 , 1.3987435 , 1.5036685 , 1.654716  ,\n",
              "       1.6947974 , 1.6903162 , 1.6852779 , 1.6789939 , 1.6715423 ,\n",
              "       1.6638411 , 1.6566898 , 1.6508071 , 1.646278  , 1.6430749 ,\n",
              "       1.6340104 , 1.6321924 , 1.6443584 , 1.6704507 , 1.7012876 ,\n",
              "       1.7296499 , 1.7520121 , 1.7679962 , 1.7787101 , 1.7856194 ],\n",
              "      dtype=float32)"
            ]
          },
          "metadata": {
            "tags": []
          },
          "execution_count": 187
        }
      ]
    },
    {
      "cell_type": "code",
      "metadata": {
        "id": "JBdgJws7qbSS",
        "colab": {
          "base_uri": "https://localhost:8080/"
        },
        "outputId": "c76b8b20-ab4c-4e5e-f14b-a6344c67fa70"
      },
      "source": [
        "DOC"
      ],
      "execution_count": null,
      "outputs": [
        {
          "output_type": "execute_result",
          "data": {
            "text/plain": [
              "<class 'netCDF4._netCDF4.Variable'>\n",
              "float32 DOC(time, s_rho, eta_rho, xi_rho)\n",
              "    long_name: Dissolved organic carbon\n",
              "    units: umol C L-1\n",
              "    field: DOC, scalar, series\n",
              "    coordinates: lat_rho lon_rho\n",
              "unlimited dimensions: time\n",
              "current shape = (1023, 30, 311, 182)\n",
              "filling on, default _FillValue of 9.969209968386869e+36 used"
            ]
          },
          "metadata": {
            "tags": []
          },
          "execution_count": 188
        }
      ]
    },
    {
      "cell_type": "code",
      "metadata": {
        "id": "_kB4NdJ5qbfL",
        "colab": {
          "base_uri": "https://localhost:8080/"
        },
        "outputId": "7e982ea0-7098-41ed-e6e7-4e095372114f"
      },
      "source": [
        "DOC = np.array(ds.variables['DOC'][1022,:,yj,xj])\n",
        "DOC"
      ],
      "execution_count": null,
      "outputs": [
        {
          "output_type": "execute_result",
          "data": {
            "text/plain": [
              "array([12.850358 , 13.199703 , 13.318181 , 13.397225 , 13.601062 ,\n",
              "       13.901001 , 14.122078 , 14.201801 , 14.350107 , 14.5517025,\n",
              "       14.600914 , 14.594252 , 14.586936 , 14.578053 , 14.567914 ,\n",
              "       14.558114 , 14.550058 , 14.54501  , 14.5430565, 14.54738  ,\n",
              "       14.563694 , 14.580308 , 14.606033 , 14.643272 , 14.683453 ,\n",
              "       14.719096 , 14.746941 , 14.766645 , 14.779183 , 14.785927 ],\n",
              "      dtype=float32)"
            ]
          },
          "metadata": {
            "tags": []
          },
          "execution_count": 189
        }
      ]
    },
    {
      "cell_type": "code",
      "metadata": {
        "id": "68lZJMYhqoDE",
        "colab": {
          "base_uri": "https://localhost:8080/"
        },
        "outputId": "980b9b8c-2aa1-4fec-f746-32c46432cae8"
      },
      "source": [
        "DIA"
      ],
      "execution_count": null,
      "outputs": [
        {
          "output_type": "execute_result",
          "data": {
            "text/plain": [
              "<class 'netCDF4._netCDF4.Variable'>\n",
              "float32 DIA(time, s_rho, eta_rho, xi_rho)\n",
              "    long_name: Diatoms\n",
              "    units: umol C L-1\n",
              "    field: Diatoms, scalar, series\n",
              "    coordinates: lat_rho lon_rho\n",
              "unlimited dimensions: time\n",
              "current shape = (1023, 30, 311, 182)\n",
              "filling on, default _FillValue of 9.969209968386869e+36 used"
            ]
          },
          "metadata": {
            "tags": []
          },
          "execution_count": 190
        }
      ]
    },
    {
      "cell_type": "code",
      "metadata": {
        "id": "GrWV1PZaqoPm",
        "colab": {
          "base_uri": "https://localhost:8080/"
        },
        "outputId": "8276fc38-cd9c-4a3b-cf1b-ea0724fd8655"
      },
      "source": [
        "DIA = np.array(ds.variables['DIA'][1022,:,yj,xj])\n",
        "DIA"
      ],
      "execution_count": null,
      "outputs": [
        {
          "output_type": "execute_result",
          "data": {
            "text/plain": [
              "array([0.50880986, 0.6705101 , 0.7315527 , 0.7793394 , 0.91339236,\n",
              "       1.1175604 , 1.2678002 , 1.309668  , 1.4784608 , 1.782215  ,\n",
              "       1.856201  , 1.846753  , 1.8359975 , 1.8224386 , 1.8059657 ,\n",
              "       1.788799  , 1.7728289 , 1.7600739 , 1.7496814 , 1.7409052 ,\n",
              "       1.7089876 , 1.6943253 , 1.7002875 , 1.7267779 , 1.7668748 ,\n",
              "       1.808635  , 1.8442932 , 1.8714402 , 1.8906087 , 1.903914  ],\n",
              "      dtype=float32)"
            ]
          },
          "metadata": {
            "tags": []
          },
          "execution_count": 191
        }
      ]
    },
    {
      "cell_type": "code",
      "metadata": {
        "id": "d8lr-fhv6fgs",
        "colab": {
          "base_uri": "https://localhost:8080/"
        },
        "outputId": "4c445758-c70d-4d63-f904-4361c843a28d"
      },
      "source": [
        "MESO"
      ],
      "execution_count": null,
      "outputs": [
        {
          "output_type": "execute_result",
          "data": {
            "text/plain": [
              "<class 'netCDF4._netCDF4.Variable'>\n",
              "float32 MESO(time, s_rho, eta_rho, xi_rho)\n",
              "    long_name: Mesozooplankton\n",
              "    units: umol C L-1\n",
              "    field: Mesozooplankton, scalar, series\n",
              "    coordinates: lat_rho lon_rho\n",
              "unlimited dimensions: time\n",
              "current shape = (1023, 30, 311, 182)\n",
              "filling on, default _FillValue of 9.969209968386869e+36 used"
            ]
          },
          "metadata": {
            "tags": []
          },
          "execution_count": 192
        }
      ]
    },
    {
      "cell_type": "code",
      "metadata": {
        "id": "IGXfR_Hc6f4N",
        "colab": {
          "base_uri": "https://localhost:8080/"
        },
        "outputId": "0c208464-8a5d-486a-c88c-4c47df593f58"
      },
      "source": [
        "MESO = np.array(ds.variables['MESO'][1022,:,yj,xj])\n",
        "MESO"
      ],
      "execution_count": null,
      "outputs": [
        {
          "output_type": "execute_result",
          "data": {
            "text/plain": [
              "array([0.02637253, 0.03071168, 0.03212255, 0.03314429, 0.03621921,\n",
              "       0.04091752, 0.04439311, 0.04540888, 0.04826011, 0.0529748 ,\n",
              "       0.05447181, 0.05431941, 0.05414086, 0.05392038, 0.05366434,\n",
              "       0.05340604, 0.05316928, 0.05296911, 0.05281878, 0.05273224,\n",
              "       0.05251827, 0.05255555, 0.05307043, 0.05403606, 0.05513613,\n",
              "       0.05612028, 0.05687901, 0.05741278, 0.05776527, 0.05798894],\n",
              "      dtype=float32)"
            ]
          },
          "metadata": {
            "tags": []
          },
          "execution_count": 193
        }
      ]
    },
    {
      "cell_type": "code",
      "metadata": {
        "id": "HrUZi-yr7uXJ",
        "colab": {
          "base_uri": "https://localhost:8080/"
        },
        "outputId": "de72c5a6-7816-4456-d68f-41f96517d1fb"
      },
      "source": [
        "BSI"
      ],
      "execution_count": null,
      "outputs": [
        {
          "output_type": "execute_result",
          "data": {
            "text/plain": [
              "<class 'netCDF4._netCDF4.Variable'>\n",
              "float32 BSI(time, s_rho, eta_rho, xi_rho)\n",
              "    long_name: Diatoms silicon\n",
              "    units: umol Si L-1\n",
              "    field: BSi, scalar, series\n",
              "    coordinates: lat_rho lon_rho\n",
              "unlimited dimensions: time\n",
              "current shape = (1023, 30, 311, 182)\n",
              "filling on, default _FillValue of 9.969209968386869e+36 used"
            ]
          },
          "metadata": {
            "tags": []
          },
          "execution_count": 194
        }
      ]
    },
    {
      "cell_type": "code",
      "metadata": {
        "id": "Tw5Owr5H7wPG",
        "colab": {
          "base_uri": "https://localhost:8080/"
        },
        "outputId": "e459c6be-271e-455b-fd44-ee56c18f5d14"
      },
      "source": [
        "BSI = np.array(ds.variables['BSI'][1022,:,yj,xj])\n",
        "BSI"
      ],
      "execution_count": null,
      "outputs": [
        {
          "output_type": "execute_result",
          "data": {
            "text/plain": [
              "array([0.08978148, 0.12232193, 0.1348801 , 0.14472651, 0.17221764,\n",
              "       0.21446499, 0.24773048, 0.26035798, 0.29632804, 0.35709962,\n",
              "       0.36683288, 0.36524135, 0.36350843, 0.36131793, 0.35853478,\n",
              "       0.35548738, 0.3525694 , 0.3501202 , 0.348057  , 0.34621614,\n",
              "       0.33754957, 0.33253378, 0.33157194, 0.3341803 , 0.3395961 ,\n",
              "       0.34618002, 0.3523767 , 0.35741755, 0.36116317, 0.36387044],\n",
              "      dtype=float32)"
            ]
          },
          "metadata": {
            "tags": []
          },
          "execution_count": 195
        }
      ]
    },
    {
      "cell_type": "code",
      "metadata": {
        "id": "pA1Cnnmo8Ndr",
        "colab": {
          "base_uri": "https://localhost:8080/"
        },
        "outputId": "dcb2d37e-bb64-4d06-e083-3f29223a77e2"
      },
      "source": [
        "FER"
      ],
      "execution_count": null,
      "outputs": [
        {
          "output_type": "execute_result",
          "data": {
            "text/plain": [
              "<class 'netCDF4._netCDF4.Variable'>\n",
              "float32 FER(time, s_rho, eta_rho, xi_rho)\n",
              "    long_name: Dissolved iron\n",
              "    units: umol Fe L-1\n",
              "    field: Iron, scalar, series\n",
              "    coordinates: lat_rho lon_rho\n",
              "unlimited dimensions: time\n",
              "current shape = (1023, 30, 311, 182)\n",
              "filling on, default _FillValue of 9.969209968386869e+36 used"
            ]
          },
          "metadata": {
            "tags": []
          },
          "execution_count": 196
        }
      ]
    },
    {
      "cell_type": "code",
      "metadata": {
        "id": "NHATNo0U8Nsg",
        "colab": {
          "base_uri": "https://localhost:8080/"
        },
        "outputId": "83d306e0-95e7-448b-a9ab-9986568f24c2"
      },
      "source": [
        "FER = np.array(ds.variables['FER'][1022,:,yj,xj])\n",
        "FER"
      ],
      "execution_count": null,
      "outputs": [
        {
          "output_type": "execute_result",
          "data": {
            "text/plain": [
              "array([0.20692813, 0.22475706, 0.22793408, 0.23190108, 0.2398572 ,\n",
              "       0.251862  , 0.2612552 , 0.2650121 , 0.27213958, 0.28146344,\n",
              "       0.28280628, 0.282465  , 0.28207442, 0.28166622, 0.28127587,\n",
              "       0.28089008, 0.2805133 , 0.28018245, 0.27988467, 0.2795891 ,\n",
              "       0.27785087, 0.27648675, 0.2758689 , 0.27568337, 0.27605695,\n",
              "       0.2768636 , 0.27790475, 0.27904063, 0.28030598, 0.28222868],\n",
              "      dtype=float32)"
            ]
          },
          "metadata": {
            "tags": []
          },
          "execution_count": 197
        }
      ]
    },
    {
      "cell_type": "code",
      "metadata": {
        "id": "qO8gK95n8apI",
        "colab": {
          "base_uri": "https://localhost:8080/"
        },
        "outputId": "8a6346f2-56a3-4cd3-f650-9579a1272065"
      },
      "source": [
        "BFE"
      ],
      "execution_count": null,
      "outputs": [
        {
          "output_type": "execute_result",
          "data": {
            "text/plain": [
              "<class 'netCDF4._netCDF4.Variable'>\n",
              "float32 BFE(time, s_rho, eta_rho, xi_rho)\n",
              "    long_name: Iron in big particles\n",
              "    units: umol Fe L-1\n",
              "    field: BFE, scalar, series\n",
              "    coordinates: lat_rho lon_rho\n",
              "unlimited dimensions: time\n",
              "current shape = (1023, 30, 311, 182)\n",
              "filling on, default _FillValue of 9.969209968386869e+36 used"
            ]
          },
          "metadata": {
            "tags": []
          },
          "execution_count": 198
        }
      ]
    },
    {
      "cell_type": "code",
      "metadata": {
        "id": "1ufsc0BN8a1Q",
        "colab": {
          "base_uri": "https://localhost:8080/"
        },
        "outputId": "6bf880c4-4b24-4fff-b618-9540f4ecae3c"
      },
      "source": [
        "BFE = np.array(ds.variables['BFE'][1022,:,yj,xj])\n",
        "BFE"
      ],
      "execution_count": null,
      "outputs": [
        {
          "output_type": "execute_result",
          "data": {
            "text/plain": [
              "array([0.0010786 , 0.00098728, 0.00096212, 0.00094066, 0.00087083,\n",
              "       0.00077168, 0.00071147, 0.00070491, 0.00062147, 0.00049723,\n",
              "       0.00047139, 0.00047694, 0.00048358, 0.00049161, 0.00050052,\n",
              "       0.00050908, 0.00051665, 0.00052292, 0.00052751, 0.0005301 ,\n",
              "       0.00053718, 0.00053784, 0.00052778, 0.00050789, 0.00048355,\n",
              "       0.0004593 , 0.00043711, 0.00041652, 0.0003949 , 0.00036409],\n",
              "      dtype=float32)"
            ]
          },
          "metadata": {
            "tags": []
          },
          "execution_count": 199
        }
      ]
    },
    {
      "cell_type": "code",
      "metadata": {
        "id": "NcAZUhOW8kvM",
        "colab": {
          "base_uri": "https://localhost:8080/"
        },
        "outputId": "8e58dcce-ecee-4763-8d8d-b3783a63c40a"
      },
      "source": [
        "GOC"
      ],
      "execution_count": null,
      "outputs": [
        {
          "output_type": "execute_result",
          "data": {
            "text/plain": [
              "<class 'netCDF4._netCDF4.Variable'>\n",
              "float32 GOC(time, s_rho, eta_rho, xi_rho)\n",
              "    long_name: Big particulate organic carbon\n",
              "    units: umol C L-1\n",
              "    field: GOC, scalar, series\n",
              "    coordinates: lat_rho lon_rho\n",
              "unlimited dimensions: time\n",
              "current shape = (1023, 30, 311, 182)\n",
              "filling on, default _FillValue of 9.969209968386869e+36 used"
            ]
          },
          "metadata": {
            "tags": []
          },
          "execution_count": 200
        }
      ]
    },
    {
      "cell_type": "code",
      "metadata": {
        "id": "Lt_KhP2p8k_x",
        "colab": {
          "base_uri": "https://localhost:8080/"
        },
        "outputId": "ed08bc08-a8ed-4863-dc59-2da8a790ba52"
      },
      "source": [
        "GOC = np.array(ds.variables['GOC'][1022,:,yj,xj])\n",
        "GOC"
      ],
      "execution_count": null,
      "outputs": [
        {
          "output_type": "execute_result",
          "data": {
            "text/plain": [
              "array([0.16375296, 0.17182206, 0.17257413, 0.17305565, 0.17390326,\n",
              "       0.17713143, 0.18350063, 0.19056469, 0.18517683, 0.16767521,\n",
              "       0.16569607, 0.1665232 , 0.16771254, 0.16917299, 0.17075674,\n",
              "       0.17220975, 0.1734704 , 0.17453654, 0.17521183, 0.17561647,\n",
              "       0.1767061 , 0.17667343, 0.17541565, 0.17265114, 0.16860265,\n",
              "       0.1637944 , 0.15858096, 0.1529289 , 0.14613812, 0.13541123],\n",
              "      dtype=float32)"
            ]
          },
          "metadata": {
            "tags": []
          },
          "execution_count": 201
        }
      ]
    },
    {
      "cell_type": "code",
      "metadata": {
        "id": "RAHr5VkD8tpJ",
        "colab": {
          "base_uri": "https://localhost:8080/"
        },
        "outputId": "1e36e7e3-ba60-4cb2-d226-4c9a1a28cd22"
      },
      "source": [
        "SFE"
      ],
      "execution_count": null,
      "outputs": [
        {
          "output_type": "execute_result",
          "data": {
            "text/plain": [
              "<class 'netCDF4._netCDF4.Variable'>\n",
              "float32 SFE(time, s_rho, eta_rho, xi_rho)\n",
              "    long_name: Iron in nanophytoplankton\n",
              "    units: umol Fe L-1\n",
              "    field: SFE, scalar, series\n",
              "    coordinates: lat_rho lon_rho\n",
              "unlimited dimensions: time\n",
              "current shape = (1023, 30, 311, 182)\n",
              "filling on, default _FillValue of 9.969209968386869e+36 used"
            ]
          },
          "metadata": {
            "tags": []
          },
          "execution_count": 202
        }
      ]
    },
    {
      "cell_type": "code",
      "metadata": {
        "id": "t-gMf16l8t52",
        "colab": {
          "base_uri": "https://localhost:8080/"
        },
        "outputId": "5e048e31-e8f9-44ef-836a-5aeb635cc9c9"
      },
      "source": [
        "SFE = np.array(ds.variables['SFE'][1022,:,yj,xj])\n",
        "SFE"
      ],
      "execution_count": null,
      "outputs": [
        {
          "output_type": "execute_result",
          "data": {
            "text/plain": [
              "array([0.01258324, 0.01246283, 0.01253522, 0.012605  , 0.01247778,\n",
              "       0.01211083, 0.01188854, 0.01201832, 0.01154883, 0.01034752,\n",
              "       0.00990961, 0.0099512 , 0.01000352, 0.01006645, 0.01013766,\n",
              "       0.01020687, 0.01026868, 0.01032142, 0.01035403, 0.01037107,\n",
              "       0.01040569, 0.01036428, 0.01020638, 0.00996239, 0.00969996,\n",
              "       0.0094704 , 0.00928912, 0.00914772, 0.00902564, 0.00887498],\n",
              "      dtype=float32)"
            ]
          },
          "metadata": {
            "tags": []
          },
          "execution_count": 203
        }
      ]
    },
    {
      "cell_type": "code",
      "metadata": {
        "id": "M-AMOC4i85Fy",
        "colab": {
          "base_uri": "https://localhost:8080/"
        },
        "outputId": "0e47d67e-22d4-4b41-c7ea-c057b058eff5"
      },
      "source": [
        "DFE"
      ],
      "execution_count": null,
      "outputs": [
        {
          "output_type": "execute_result",
          "data": {
            "text/plain": [
              "<class 'netCDF4._netCDF4.Variable'>\n",
              "float32 DFE(time, s_rho, eta_rho, xi_rho)\n",
              "    long_name: Iron in diatoms\n",
              "    units: umol Fe L-1\n",
              "    field: DFE, scalar, series\n",
              "    coordinates: lat_rho lon_rho\n",
              "unlimited dimensions: time\n",
              "current shape = (1023, 30, 311, 182)\n",
              "filling on, default _FillValue of 9.969209968386869e+36 used"
            ]
          },
          "metadata": {
            "tags": []
          },
          "execution_count": 204
        }
      ]
    },
    {
      "cell_type": "code",
      "metadata": {
        "id": "G0jjES_z85YL",
        "colab": {
          "base_uri": "https://localhost:8080/"
        },
        "outputId": "4e079f1c-bc27-4fb3-eaf4-6953fc63e80d"
      },
      "source": [
        "DFE = np.array(ds.variables['DFE'][1022,:,yj,xj])\n",
        "DFE"
      ],
      "execution_count": null,
      "outputs": [
        {
          "output_type": "execute_result",
          "data": {
            "text/plain": [
              "array([3.22288224e-06, 4.26390352e-06, 4.65554331e-06, 4.96022358e-06,\n",
              "       5.82750545e-06, 7.16360137e-06, 8.16944794e-06, 8.47200681e-06,\n",
              "       9.52221581e-06, 1.13313326e-05, 1.17930022e-05, 1.17429709e-05,\n",
              "       1.16848450e-05, 1.16109959e-05, 1.15197399e-05, 1.14231971e-05,\n",
              "       1.13324813e-05, 1.12596008e-05, 1.11995323e-05, 1.11479185e-05,\n",
              "       1.09554612e-05, 1.08662844e-05, 1.08968616e-05, 1.10455430e-05,\n",
              "       1.12724874e-05, 1.15089988e-05, 1.17111322e-05, 1.18652843e-05,\n",
              "       1.19748975e-05, 1.20507239e-05], dtype=float32)"
            ]
          },
          "metadata": {
            "tags": []
          },
          "execution_count": 205
        }
      ]
    },
    {
      "cell_type": "code",
      "metadata": {
        "id": "L-KMydcc9UgJ",
        "colab": {
          "base_uri": "https://localhost:8080/"
        },
        "outputId": "bfd36131-c3d3-4883-d495-ffe32a1ff332"
      },
      "source": [
        "DSI"
      ],
      "execution_count": null,
      "outputs": [
        {
          "output_type": "execute_result",
          "data": {
            "text/plain": [
              "<class 'netCDF4._netCDF4.Variable'>\n",
              "float32 DSI(time, s_rho, eta_rho, xi_rho)\n",
              "    long_name: Biogenic silica\n",
              "    units: umol Si L-1\n",
              "    field: DSI, scalar, series\n",
              "    coordinates: lat_rho lon_rho\n",
              "unlimited dimensions: time\n",
              "current shape = (1023, 30, 311, 182)\n",
              "filling on, default _FillValue of 9.969209968386869e+36 used"
            ]
          },
          "metadata": {
            "tags": []
          },
          "execution_count": 206
        }
      ]
    },
    {
      "cell_type": "code",
      "metadata": {
        "id": "iyz5aYjB9U5g",
        "colab": {
          "base_uri": "https://localhost:8080/"
        },
        "outputId": "45100dfc-6642-48ee-8646-2fa86041df04"
      },
      "source": [
        "DSI = np.array(ds.variables['DSI'][1022,:,yj,xj])\n",
        "DSI"
      ],
      "execution_count": null,
      "outputs": [
        {
          "output_type": "execute_result",
          "data": {
            "text/plain": [
              "array([0.07465082, 0.08076549, 0.08090846, 0.08106605, 0.08094595,\n",
              "       0.08110953, 0.08280269, 0.08686589, 0.08217583, 0.07000612,\n",
              "       0.0671775 , 0.06772526, 0.06841568, 0.06924661, 0.07017206,\n",
              "       0.07104912, 0.07182363, 0.07248069, 0.07288925, 0.07313016,\n",
              "       0.07369448, 0.07352091, 0.07227001, 0.0700457 , 0.06732812,\n",
              "       0.06456747, 0.06194603, 0.05939155, 0.05655891, 0.05230867],\n",
              "      dtype=float32)"
            ]
          },
          "metadata": {
            "tags": []
          },
          "execution_count": 207
        }
      ]
    },
    {
      "cell_type": "code",
      "metadata": {
        "id": "rJXeWLKm9fWY",
        "colab": {
          "base_uri": "https://localhost:8080/"
        },
        "outputId": "3fc64c48-e1eb-47fa-b91d-3496d61ab5b2"
      },
      "source": [
        "NFE"
      ],
      "execution_count": null,
      "outputs": [
        {
          "output_type": "execute_result",
          "data": {
            "text/plain": [
              "<class 'netCDF4._netCDF4.Variable'>\n",
              "float32 NFE(time, s_rho, eta_rho, xi_rho)\n",
              "    long_name: Iron in small particles\n",
              "    units: umol Fe L-1\n",
              "    field: NFE, scalar, series\n",
              "    coordinates: lat_rho lon_rho\n",
              "unlimited dimensions: time\n",
              "current shape = (1023, 30, 311, 182)\n",
              "filling on, default _FillValue of 9.969209968386869e+36 used"
            ]
          },
          "metadata": {
            "tags": []
          },
          "execution_count": 208
        }
      ]
    },
    {
      "cell_type": "code",
      "metadata": {
        "id": "OsErDXkW9fub",
        "colab": {
          "base_uri": "https://localhost:8080/"
        },
        "outputId": "3100694f-e9c4-42b1-d218-80bfbf7fc488"
      },
      "source": [
        "NFE = np.array(ds.variables['NFE'][1022,:,yj,xj])\n",
        "NFE"
      ],
      "execution_count": null,
      "outputs": [
        {
          "output_type": "execute_result",
          "data": {
            "text/plain": [
              "array([2.4567748e-06, 2.5180066e-06, 2.5219592e-06, 2.5538463e-06,\n",
              "       2.5988493e-06, 2.6412849e-06, 2.6679074e-06, 2.6507371e-06,\n",
              "       2.7186625e-06, 2.8977647e-06, 2.9534776e-06, 2.9471835e-06,\n",
              "       2.9395510e-06, 2.9299008e-06, 2.9181238e-06, 2.9058351e-06,\n",
              "       2.8945417e-06, 2.8855025e-06, 2.8780651e-06, 2.8716629e-06,\n",
              "       2.8450311e-06, 2.8307284e-06, 2.8299823e-06, 2.8422292e-06,\n",
              "       2.8633444e-06, 2.8871257e-06, 2.9086216e-06, 2.9258292e-06,\n",
              "       2.9385862e-06, 2.9477235e-06], dtype=float32)"
            ]
          },
          "metadata": {
            "tags": []
          },
          "execution_count": 209
        }
      ]
    },
    {
      "cell_type": "code",
      "metadata": {
        "id": "diN0GydR9pHv",
        "colab": {
          "base_uri": "https://localhost:8080/"
        },
        "outputId": "25ebf812-4fba-44b6-820b-7722e8cb10a5"
      },
      "source": [
        "NCHL"
      ],
      "execution_count": null,
      "outputs": [
        {
          "output_type": "execute_result",
          "data": {
            "text/plain": [
              "<class 'netCDF4._netCDF4.Variable'>\n",
              "float32 NCHL(time, s_rho, eta_rho, xi_rho)\n",
              "    long_name: Chlorophyll in nano\n",
              "    units: mg Chl m-3\n",
              "    field: NCHL, scalar, series\n",
              "    coordinates: lat_rho lon_rho\n",
              "unlimited dimensions: time\n",
              "current shape = (1023, 30, 311, 182)\n",
              "filling on, default _FillValue of 9.969209968386869e+36 used"
            ]
          },
          "metadata": {
            "tags": []
          },
          "execution_count": 210
        }
      ]
    },
    {
      "cell_type": "code",
      "metadata": {
        "id": "AnY4B_CB9pXh",
        "colab": {
          "base_uri": "https://localhost:8080/"
        },
        "outputId": "7446e909-1492-407c-c8cd-f58ca9b9300d"
      },
      "source": [
        "NCHL = np.array(ds.variables['NCHL'][1022,:,yj,xj])\n",
        "NCHL"
      ],
      "execution_count": null,
      "outputs": [
        {
          "output_type": "execute_result",
          "data": {
            "text/plain": [
              "array([0.09729719, 0.0997206 , 0.09987616, 0.10113808, 0.10291953,\n",
              "       0.10459878, 0.10565228, 0.10497193, 0.10766113, 0.11475273,\n",
              "       0.11695869, 0.11670949, 0.11640726, 0.11602516, 0.11555882,\n",
              "       0.11507223, 0.11462504, 0.11426713, 0.11397263, 0.11371912,\n",
              "       0.11266454, 0.11209819, 0.11206862, 0.11255351, 0.11338955,\n",
              "       0.11433118, 0.11518233, 0.11586369, 0.11636882, 0.11673063],\n",
              "      dtype=float32)"
            ]
          },
          "metadata": {
            "tags": []
          },
          "execution_count": 211
        }
      ]
    },
    {
      "cell_type": "code",
      "metadata": {
        "id": "4o0JfByI9p48",
        "colab": {
          "base_uri": "https://localhost:8080/"
        },
        "outputId": "d000f156-6e8a-4d62-ea1e-d6ef7f8d3e4f"
      },
      "source": [
        "DCHL"
      ],
      "execution_count": null,
      "outputs": [
        {
          "output_type": "execute_result",
          "data": {
            "text/plain": [
              "<class 'netCDF4._netCDF4.Variable'>\n",
              "float32 DCHL(time, s_rho, eta_rho, xi_rho)\n",
              "    long_name: Chlorophyll in diatoms\n",
              "    units: mg Chl m-3\n",
              "    field: DCHL, scalar, series\n",
              "    coordinates: lat_rho lon_rho\n",
              "unlimited dimensions: time\n",
              "current shape = (1023, 30, 311, 182)\n",
              "filling on, default _FillValue of 9.969209968386869e+36 used"
            ]
          },
          "metadata": {
            "tags": []
          },
          "execution_count": 212
        }
      ]
    },
    {
      "cell_type": "code",
      "metadata": {
        "id": "IrQnwk7R9qK9",
        "colab": {
          "base_uri": "https://localhost:8080/"
        },
        "outputId": "496273ee-f4ad-434a-c5d9-5b0e884c4b9d"
      },
      "source": [
        "DCHL = np.array(ds.variables['DCHL'][1022,:,yj,xj])\n",
        "DCHL"
      ],
      "execution_count": null,
      "outputs": [
        {
          "output_type": "execute_result",
          "data": {
            "text/plain": [
              "array([0.12892449, 0.17056341, 0.18622841, 0.19841513, 0.23310557,\n",
              "       0.28654817, 0.32678118, 0.33888325, 0.380891  , 0.45325488,\n",
              "       0.47172144, 0.4697202 , 0.4673952 , 0.46444127, 0.46079105,\n",
              "       0.45692942, 0.45330083, 0.45038563, 0.4479829 , 0.44591838,\n",
              "       0.43822014, 0.43465307, 0.43587613, 0.44182327, 0.45090097,\n",
              "       0.46036127, 0.46844652, 0.47461253, 0.478997  , 0.48203003],\n",
              "      dtype=float32)"
            ]
          },
          "metadata": {
            "tags": []
          },
          "execution_count": 213
        }
      ]
    },
    {
      "cell_type": "code",
      "metadata": {
        "id": "-l22BI75-INu",
        "colab": {
          "base_uri": "https://localhost:8080/"
        },
        "outputId": "18a76c7d-12d1-4f8b-dd3c-fecc5e1ecdd5"
      },
      "source": [
        "NO3"
      ],
      "execution_count": null,
      "outputs": [
        {
          "output_type": "execute_result",
          "data": {
            "text/plain": [
              "<class 'netCDF4._netCDF4.Variable'>\n",
              "float32 NO3(time, s_rho, eta_rho, xi_rho)\n",
              "    long_name: Nitrate\n",
              "    units: umol N L-1\n",
              "    field: Nitrate, scalar, series\n",
              "    coordinates: lat_rho lon_rho\n",
              "unlimited dimensions: time\n",
              "current shape = (1023, 30, 311, 182)\n",
              "filling on, default _FillValue of 9.969209968386869e+36 used"
            ]
          },
          "metadata": {
            "tags": []
          },
          "execution_count": 214
        }
      ]
    },
    {
      "cell_type": "code",
      "metadata": {
        "id": "6umtnIv5-IaX",
        "colab": {
          "base_uri": "https://localhost:8080/"
        },
        "outputId": "ee476325-3d99-4ee5-aef8-7bac7d290e9d"
      },
      "source": [
        "NO3 = np.array(ds.variables['NO3'][1022,:,yj,xj])\n",
        "NO3"
      ],
      "execution_count": null,
      "outputs": [
        {
          "output_type": "execute_result",
          "data": {
            "text/plain": [
              "array([14.539499 , 14.004822 , 13.810277 , 13.682938 , 13.309732 ,\n",
              "       12.751682 , 12.340937 , 12.215993 , 11.89081  , 11.375143 ,\n",
              "       11.219035 , 11.23527  , 11.254004 , 11.277215 , 11.3043785,\n",
              "       11.331953 , 11.3573   , 11.378579 , 11.39472  , 11.405178 ,\n",
              "       11.434217 , 11.437746 , 11.392747 , 11.3019705, 11.197727 ,\n",
              "       11.104464 , 11.032677 , 10.982396 , 10.949096 , 10.92749  ],\n",
              "      dtype=float32)"
            ]
          },
          "metadata": {
            "tags": []
          },
          "execution_count": 215
        }
      ]
    },
    {
      "cell_type": "code",
      "metadata": {
        "id": "uJxvnTMf_ENo",
        "colab": {
          "base_uri": "https://localhost:8080/"
        },
        "outputId": "9793aed9-13ab-47f4-9a39-ea92d891ea0c"
      },
      "source": [
        "NH4"
      ],
      "execution_count": null,
      "outputs": [
        {
          "output_type": "execute_result",
          "data": {
            "text/plain": [
              "<class 'netCDF4._netCDF4.Variable'>\n",
              "float32 NH4(time, s_rho, eta_rho, xi_rho)\n",
              "    long_name: Ammonium\n",
              "    units: umol N L-1\n",
              "    field: Ammonium, scalar, series\n",
              "    coordinates: lat_rho lon_rho\n",
              "unlimited dimensions: time\n",
              "current shape = (1023, 30, 311, 182)\n",
              "filling on, default _FillValue of 9.969209968386869e+36 used"
            ]
          },
          "metadata": {
            "tags": []
          },
          "execution_count": 216
        }
      ]
    },
    {
      "cell_type": "code",
      "metadata": {
        "id": "i1VI0yK7_Efc",
        "colab": {
          "base_uri": "https://localhost:8080/"
        },
        "outputId": "3f9afa5e-8944-411c-c3f5-d4bb0493d9ff"
      },
      "source": [
        "NH4 = np.array(ds.variables['NO3'][1022,:,yj,xj])\n",
        "NH4"
      ],
      "execution_count": null,
      "outputs": [
        {
          "output_type": "execute_result",
          "data": {
            "text/plain": [
              "array([14.539499 , 14.004822 , 13.810277 , 13.682938 , 13.309732 ,\n",
              "       12.751682 , 12.340937 , 12.215993 , 11.89081  , 11.375143 ,\n",
              "       11.219035 , 11.23527  , 11.254004 , 11.277215 , 11.3043785,\n",
              "       11.331953 , 11.3573   , 11.378579 , 11.39472  , 11.405178 ,\n",
              "       11.434217 , 11.437746 , 11.392747 , 11.3019705, 11.197727 ,\n",
              "       11.104464 , 11.032677 , 10.982396 , 10.949096 , 10.92749  ],\n",
              "      dtype=float32)"
            ]
          },
          "metadata": {
            "tags": []
          },
          "execution_count": 217
        }
      ]
    },
    {
      "cell_type": "code",
      "metadata": {
        "id": "E3pO-lf9_e3b",
        "colab": {
          "base_uri": "https://localhost:8080/"
        },
        "outputId": "aaa3a865-1782-448b-f23a-396a46a641a7"
      },
      "source": [
        "w"
      ],
      "execution_count": null,
      "outputs": [
        {
          "output_type": "execute_result",
          "data": {
            "text/plain": [
              "<class 'netCDF4._netCDF4.Variable'>\n",
              "float32 w(time, s_rho, eta_rho, xi_rho)\n",
              "    long_name: vertical momentum component\n",
              "    units: meter second-1\n",
              "    field: w-velocity, scalar, series\n",
              "    standard_name: upward_sea_water_velocity\n",
              "    coordinates: lat_rho lon_rho\n",
              "unlimited dimensions: time\n",
              "current shape = (1023, 30, 311, 182)\n",
              "filling on, default _FillValue of 9.969209968386869e+36 used"
            ]
          },
          "metadata": {
            "tags": []
          },
          "execution_count": 218
        }
      ]
    },
    {
      "cell_type": "code",
      "metadata": {
        "id": "2WKu2cgq_gh7",
        "colab": {
          "base_uri": "https://localhost:8080/"
        },
        "outputId": "64aafaba-aae0-47b6-a9bb-5b61df0b98c3"
      },
      "source": [
        "w = np.array(ds.variables['w'][1022,:,yj,xj])\n",
        "w"
      ],
      "execution_count": null,
      "outputs": [
        {
          "output_type": "execute_result",
          "data": {
            "text/plain": [
              "array([ 0.00579461, -0.00362265, -0.006608  , -0.0028815 ,  0.00538248,\n",
              "        0.01359998,  0.01718792,  0.01577718,  0.01441206,  0.01507578,\n",
              "        0.01539055,  0.01491265,  0.01425207,  0.01347205,  0.01256322,\n",
              "        0.0115348 ,  0.01048337,  0.0094765 ,  0.00851897,  0.00762151,\n",
              "        0.00676542,  0.0059297 ,  0.00507499,  0.00427604,  0.00356108,\n",
              "        0.00288674,  0.00222417,  0.00156953,  0.00092641,  0.00030081],\n",
              "      dtype=float32)"
            ]
          },
          "metadata": {
            "tags": []
          },
          "execution_count": 219
        }
      ]
    },
    {
      "cell_type": "code",
      "metadata": {
        "id": "9KAKcGnC_yKJ",
        "colab": {
          "base_uri": "https://localhost:8080/"
        },
        "outputId": "ad5350ba-37a2-47eb-b349-4a08b4c772d0"
      },
      "source": [
        "bostr"
      ],
      "execution_count": null,
      "outputs": [
        {
          "output_type": "execute_result",
          "data": {
            "text/plain": [
              "<class 'netCDF4._netCDF4.Variable'>\n",
              "float32 bostr(time, eta_rho, xi_rho)\n",
              "    long_name: Kinematic bottom stress\n",
              "    units: N/m2\n",
              "    coordinates: lat_rho lon_rho\n",
              "unlimited dimensions: time\n",
              "current shape = (1023, 311, 182)\n",
              "filling on, default _FillValue of 9.969209968386869e+36 used"
            ]
          },
          "metadata": {
            "tags": []
          },
          "execution_count": 220
        }
      ]
    },
    {
      "cell_type": "code",
      "metadata": {
        "id": "w_ej8NXA_yZF",
        "colab": {
          "base_uri": "https://localhost:8080/"
        },
        "outputId": "39939b90-77ec-4993-f74d-c8d873dccd83"
      },
      "source": [
        "bostr = np.array(ds.variables['bostr'][1022,yj,xj])\n",
        "bostr"
      ],
      "execution_count": null,
      "outputs": [
        {
          "output_type": "execute_result",
          "data": {
            "text/plain": [
              "array(0.07725856, dtype=float32)"
            ]
          },
          "metadata": {
            "tags": []
          },
          "execution_count": 221
        }
      ]
    },
    {
      "cell_type": "code",
      "metadata": {
        "id": "flAA3iiK__an",
        "colab": {
          "base_uri": "https://localhost:8080/"
        },
        "outputId": "8e75652a-996f-470c-d015-56c4d39fefde"
      },
      "source": [
        "wstr"
      ],
      "execution_count": null,
      "outputs": [
        {
          "output_type": "execute_result",
          "data": {
            "text/plain": [
              "<class 'netCDF4._netCDF4.Variable'>\n",
              "float32 wstr(time, eta_rho, xi_rho)\n",
              "    long_name: Kinematic wind stress\n",
              "    units: N/m2\n",
              "    standard_name: magnitude_of_surface_downward_stress\n",
              "    coordinates: lat_rho lon_rho\n",
              "unlimited dimensions: time\n",
              "current shape = (1023, 311, 182)\n",
              "filling on, default _FillValue of 9.969209968386869e+36 used"
            ]
          },
          "metadata": {
            "tags": []
          },
          "execution_count": 222
        }
      ]
    },
    {
      "cell_type": "code",
      "metadata": {
        "id": "6S1Ja758__nw",
        "colab": {
          "base_uri": "https://localhost:8080/"
        },
        "outputId": "144fac55-c520-4869-8e03-adeec934442a"
      },
      "source": [
        "wstr = np.array(ds.variables['wstr'][1022,yj,xj])\n",
        "wstr"
      ],
      "execution_count": null,
      "outputs": [
        {
          "output_type": "execute_result",
          "data": {
            "text/plain": [
              "array(0.15931769, dtype=float32)"
            ]
          },
          "metadata": {
            "tags": []
          },
          "execution_count": 223
        }
      ]
    },
    {
      "cell_type": "code",
      "metadata": {
        "id": "vzylAGqYALgs",
        "colab": {
          "base_uri": "https://localhost:8080/"
        },
        "outputId": "ffad6a2e-30fb-406f-bc18-b922da572107"
      },
      "source": [
        "sustr"
      ],
      "execution_count": null,
      "outputs": [
        {
          "output_type": "execute_result",
          "data": {
            "text/plain": [
              "<class 'netCDF4._netCDF4.Variable'>\n",
              "float32 sustr(time, eta_rho, xi_u)\n",
              "    long_name: Kinematic u wind stress component\n",
              "    units: N/m2\n",
              "    standard_name: surface_downward_eastward_stress\n",
              "    coordinates: lat_u lon_u\n",
              "unlimited dimensions: time\n",
              "current shape = (1023, 311, 181)\n",
              "filling on, default _FillValue of 9.969209968386869e+36 used"
            ]
          },
          "metadata": {
            "tags": []
          },
          "execution_count": 224
        }
      ]
    },
    {
      "cell_type": "code",
      "metadata": {
        "id": "-NilZuyWAL37",
        "colab": {
          "base_uri": "https://localhost:8080/"
        },
        "outputId": "2fa8c907-f433-44b4-db2c-37ba6efe5fda"
      },
      "source": [
        "sustr = np.array(ds.variables['sustr'][1022,yj,xj])\n",
        "sustr"
      ],
      "execution_count": null,
      "outputs": [
        {
          "output_type": "execute_result",
          "data": {
            "text/plain": [
              "array(0.14559469, dtype=float32)"
            ]
          },
          "metadata": {
            "tags": []
          },
          "execution_count": 225
        }
      ]
    },
    {
      "cell_type": "code",
      "metadata": {
        "id": "J24IdfV6AiUo",
        "colab": {
          "base_uri": "https://localhost:8080/"
        },
        "outputId": "c45d68a1-12e5-4798-ce02-3d4fefede982"
      },
      "source": [
        "svstr"
      ],
      "execution_count": null,
      "outputs": [
        {
          "output_type": "execute_result",
          "data": {
            "text/plain": [
              "<class 'netCDF4._netCDF4.Variable'>\n",
              "float32 svstr(time, eta_v, xi_rho)\n",
              "    long_name: Kinematic v wind stress component\n",
              "    units: N/m2\n",
              "    standard_name: surface_downward_northward_stress\n",
              "    coordinates: lat_v lon_v\n",
              "unlimited dimensions: time\n",
              "current shape = (1023, 310, 182)\n",
              "filling on, default _FillValue of 9.969209968386869e+36 used"
            ]
          },
          "metadata": {
            "tags": []
          },
          "execution_count": 226
        }
      ]
    },
    {
      "cell_type": "code",
      "metadata": {
        "id": "zX374bz8AiiX",
        "colab": {
          "base_uri": "https://localhost:8080/"
        },
        "outputId": "4a490454-37e0-4b4a-dcb5-2ea976b0ffc1"
      },
      "source": [
        "svstr = np.array(ds.variables['svstr'][1022,yj,xj])\n",
        "svstr"
      ],
      "execution_count": null,
      "outputs": [
        {
          "output_type": "execute_result",
          "data": {
            "text/plain": [
              "array(-0.06467033, dtype=float32)"
            ]
          },
          "metadata": {
            "tags": []
          },
          "execution_count": 227
        }
      ]
    },
    {
      "cell_type": "code",
      "metadata": {
        "id": "pY3k7eQJBCwD",
        "colab": {
          "base_uri": "https://localhost:8080/"
        },
        "outputId": "fb3c1023-4fa1-4877-b10b-b55b18b64903"
      },
      "source": [
        "AKt"
      ],
      "execution_count": null,
      "outputs": [
        {
          "output_type": "execute_result",
          "data": {
            "text/plain": [
              "<class 'netCDF4._netCDF4.Variable'>\n",
              "float32 AKt(time, s_w, eta_rho, xi_rho)\n",
              "    long_name: temperature vertical diffusion coefficient\n",
              "    units: meter2 second-1\n",
              "    field: AKt, scalar, series\n",
              "    standard_name: ocean_vertical_heat_diffusivity_at_w_location\n",
              "    coordinates: lat_rho lon_rho\n",
              "unlimited dimensions: time\n",
              "current shape = (1023, 31, 311, 182)\n",
              "filling on, default _FillValue of 9.969209968386869e+36 used"
            ]
          },
          "metadata": {
            "tags": []
          },
          "execution_count": 228
        }
      ]
    },
    {
      "cell_type": "code",
      "metadata": {
        "id": "m7P54_FKBDB6",
        "colab": {
          "base_uri": "https://localhost:8080/"
        },
        "outputId": "f1df8cb1-647b-487f-b3b5-f573f00e371e"
      },
      "source": [
        "AKt = np.array(ds.variables['AKt'][1022,:,yj,xj])\n",
        "AKt"
      ],
      "execution_count": null,
      "outputs": [
        {
          "output_type": "execute_result",
          "data": {
            "text/plain": [
              "array([0.0000000e+00, 9.9999997e-06, 9.9999997e-06, 9.9999997e-06,\n",
              "       9.9999997e-06, 9.9999997e-06, 9.9999997e-06, 9.9999997e-06,\n",
              "       9.9999997e-06, 9.9999997e-06, 9.9999997e-06, 1.0501000e-01,\n",
              "       1.0501000e-01, 1.0501000e-01, 1.0501000e-01, 1.0501000e-01,\n",
              "       1.0501000e-01, 1.0501000e-01, 1.0501000e-01, 1.0501000e-01,\n",
              "       4.8159831e-03, 6.8125818e-03, 9.9014500e-03, 1.3239455e-02,\n",
              "       1.6168274e-02, 1.8153161e-02, 1.8743685e-02, 1.7549261e-02,\n",
              "       1.4224949e-02, 8.3636986e-03, 5.4330737e-03], dtype=float32)"
            ]
          },
          "metadata": {
            "tags": []
          },
          "execution_count": 229
        }
      ]
    },
    {
      "cell_type": "code",
      "metadata": {
        "id": "ahyjJCArBDc5",
        "colab": {
          "base_uri": "https://localhost:8080/"
        },
        "outputId": "1f675e5c-464b-4f18-de4c-5457573ef183"
      },
      "source": [
        "hbl"
      ],
      "execution_count": null,
      "outputs": [
        {
          "output_type": "execute_result",
          "data": {
            "text/plain": [
              "<class 'netCDF4._netCDF4.Variable'>\n",
              "float32 hbl(time, eta_rho, xi_rho)\n",
              "    long_name: depth of planetary boundary layer\n",
              "    units: meter\n",
              "    field: hbl, scalar, series\n",
              "    standard_name: ocean_mixed_layer_thickness_defined_by_mixing_scheme\n",
              "    coordinates: lat_rho lon_rho\n",
              "unlimited dimensions: time\n",
              "current shape = (1023, 311, 182)\n",
              "filling on, default _FillValue of 9.969209968386869e+36 used"
            ]
          },
          "metadata": {
            "tags": []
          },
          "execution_count": 230
        }
      ]
    },
    {
      "cell_type": "code",
      "metadata": {
        "id": "lEfoGNQOBDuK",
        "colab": {
          "base_uri": "https://localhost:8080/"
        },
        "outputId": "184f1237-9b78-4092-8352-d00a0a7d551b"
      },
      "source": [
        "hbl = np.array(ds.variables['hbl'][1022,yj,xj])\n",
        "hbl"
      ],
      "execution_count": null,
      "outputs": [
        {
          "output_type": "execute_result",
          "data": {
            "text/plain": [
              "array(21.573528, dtype=float32)"
            ]
          },
          "metadata": {
            "tags": []
          },
          "execution_count": 231
        }
      ]
    },
    {
      "cell_type": "code",
      "metadata": {
        "id": "xtrpwIdhCFhp",
        "colab": {
          "base_uri": "https://localhost:8080/"
        },
        "outputId": "e467ac45-58b0-4eff-ed7a-faa92b944d44"
      },
      "source": [
        "hbbl"
      ],
      "execution_count": null,
      "outputs": [
        {
          "output_type": "execute_result",
          "data": {
            "text/plain": [
              "<class 'netCDF4._netCDF4.Variable'>\n",
              "float32 hbbl(time, eta_rho, xi_rho)\n",
              "    long_name: depth of bottom boundary layer\n",
              "    units: meter\n",
              "    field: hbbl, scalar, series\n",
              "    coordinates: lat_rho lon_rho\n",
              "unlimited dimensions: time\n",
              "current shape = (1023, 311, 182)\n",
              "filling on, default _FillValue of 9.969209968386869e+36 used"
            ]
          },
          "metadata": {
            "tags": []
          },
          "execution_count": 232
        }
      ]
    },
    {
      "cell_type": "code",
      "metadata": {
        "id": "5phDhG8JCFyn",
        "colab": {
          "base_uri": "https://localhost:8080/"
        },
        "outputId": "ce91eef8-b16f-499f-d4e9-3e8f3ac58551"
      },
      "source": [
        "hbbl = np.array(ds.variables['hbbl'][1022,yj,xj])\n",
        "hbbl"
      ],
      "execution_count": null,
      "outputs": [
        {
          "output_type": "execute_result",
          "data": {
            "text/plain": [
              "array(19.681147, dtype=float32)"
            ]
          },
          "metadata": {
            "tags": []
          },
          "execution_count": 233
        }
      ]
    },
    {
      "cell_type": "code",
      "metadata": {
        "id": "tL2ndImxED7a",
        "colab": {
          "base_uri": "https://localhost:8080/"
        },
        "outputId": "0f09854a-07d2-463c-8921-7efb882f6d19"
      },
      "source": [
        "shflux"
      ],
      "execution_count": null,
      "outputs": [
        {
          "output_type": "execute_result",
          "data": {
            "text/plain": [
              "<class 'netCDF4._netCDF4.Variable'>\n",
              "float32 shflux(time, eta_rho, xi_rho)\n",
              "    long_name: surface net heat flux\n",
              "    units: Watts meter-2\n",
              "    coordinates: lat_rho lon_rho\n",
              "unlimited dimensions: time\n",
              "current shape = (1023, 311, 182)\n",
              "filling on, default _FillValue of 9.969209968386869e+36 used"
            ]
          },
          "metadata": {
            "tags": []
          },
          "execution_count": 234
        }
      ]
    },
    {
      "cell_type": "code",
      "metadata": {
        "id": "UDrws4HzEEyv",
        "colab": {
          "base_uri": "https://localhost:8080/"
        },
        "outputId": "ee24ecdf-05a5-48d1-9eb5-3fab592feee5"
      },
      "source": [
        "shflux = np.array(ds.variables['shflux'][1022,yj,xj])\n",
        "shflux"
      ],
      "execution_count": null,
      "outputs": [
        {
          "output_type": "execute_result",
          "data": {
            "text/plain": [
              "array(-113.67631, dtype=float32)"
            ]
          },
          "metadata": {
            "tags": []
          },
          "execution_count": 235
        }
      ]
    },
    {
      "cell_type": "code",
      "metadata": {
        "id": "hF31AdOuFDCz",
        "colab": {
          "base_uri": "https://localhost:8080/"
        },
        "outputId": "8e38bd38-de46-4af6-848a-8dd59bd670b3"
      },
      "source": [
        "swflux"
      ],
      "execution_count": null,
      "outputs": [
        {
          "output_type": "execute_result",
          "data": {
            "text/plain": [
              "<class 'netCDF4._netCDF4.Variable'>\n",
              "float32 swflux(time, eta_rho, xi_rho)\n",
              "    long_name: surface freshwater flux (E-P)\n",
              "    units: centimeter day-1\n",
              "    coordinates: lat_rho lon_rho\n",
              "unlimited dimensions: time\n",
              "current shape = (1023, 311, 182)\n",
              "filling on, default _FillValue of 9.969209968386869e+36 used"
            ]
          },
          "metadata": {
            "tags": []
          },
          "execution_count": 236
        }
      ]
    },
    {
      "cell_type": "code",
      "metadata": {
        "id": "HMKHdiGyFDTx",
        "colab": {
          "base_uri": "https://localhost:8080/"
        },
        "outputId": "9a26b636-0f38-4cad-f866-4b322a2aa904"
      },
      "source": [
        "swflux = np.array(ds.variables['swflux'][1022,yj,xj])\n",
        "swflux"
      ],
      "execution_count": null,
      "outputs": [
        {
          "output_type": "execute_result",
          "data": {
            "text/plain": [
              "array(-0.5410211, dtype=float32)"
            ]
          },
          "metadata": {
            "tags": []
          },
          "execution_count": 237
        }
      ]
    },
    {
      "cell_type": "code",
      "metadata": {
        "id": "NuP41Bz6qAOb",
        "colab": {
          "base_uri": "https://localhost:8080/"
        },
        "outputId": "b455c4af-aaff-4a7d-eb8a-e97227d1c68e"
      },
      "source": [
        "swrad"
      ],
      "execution_count": null,
      "outputs": [
        {
          "output_type": "execute_result",
          "data": {
            "text/plain": [
              "<class 'netCDF4._netCDF4.Variable'>\n",
              "float32 swrad(time, eta_rho, xi_rho)\n",
              "    long_name: Short-wave surface radiation\n",
              "    units: Watts meter-2\n",
              "    coordinates: lat_rho lon_rho\n",
              "unlimited dimensions: time\n",
              "current shape = (1023, 311, 182)\n",
              "filling on, default _FillValue of 9.969209968386869e+36 used"
            ]
          },
          "metadata": {
            "tags": []
          },
          "execution_count": 238
        }
      ]
    },
    {
      "cell_type": "code",
      "metadata": {
        "id": "pRtsAXldFWWk",
        "colab": {
          "base_uri": "https://localhost:8080/"
        },
        "outputId": "7f323b6d-480a-41c3-b142-1b24269ba949"
      },
      "source": [
        "swrad = np.array(ds.variables['swrad'][1022,yj,xj])\n",
        "swrad"
      ],
      "execution_count": null,
      "outputs": [
        {
          "output_type": "execute_result",
          "data": {
            "text/plain": [
              "array(0., dtype=float32)"
            ]
          },
          "metadata": {
            "tags": []
          },
          "execution_count": 239
        }
      ]
    },
    {
      "cell_type": "markdown",
      "metadata": {
        "id": "etHHSs72MjPa"
      },
      "source": [
        "## conjunto de datos "
      ]
    },
    {
      "cell_type": "code",
      "metadata": {
        "id": "3bisofO0J-P-",
        "colab": {
          "base_uri": "https://localhost:8080/"
        },
        "outputId": "da8e34ad-04ca-4f09-9f99-ec08b1ee7283"
      },
      "source": [
        "#time_var = ds.variables['time']\n",
        "#dtime = nc.num2date(time_var[:],time_var.units)[:,yj,xj]\n",
        "prueba = ds.variables['time']\n",
        "prueba"
      ],
      "execution_count": null,
      "outputs": [
        {
          "output_type": "execute_result",
          "data": {
            "text/plain": [
              "<class 'netCDF4._netCDF4.Variable'>\n",
              "float64 time(time)\n",
              "    long_name: time since initialization\n",
              "    units: second\n",
              "    field: time, scalar, series\n",
              "    standard_name: time\n",
              "    axis: T\n",
              "unlimited dimensions: time\n",
              "current shape = (1023,)\n",
              "filling on, default _FillValue of 9.969209968386869e+36 used"
            ]
          },
          "metadata": {
            "tags": []
          },
          "execution_count": 240
        }
      ]
    },
    {
      "cell_type": "code",
      "metadata": {
        "id": "dewcirSmYiB1",
        "colab": {
          "base_uri": "https://localhost:8080/"
        },
        "outputId": "e7d1742f-5cc1-427d-c7a3-d9795a016784"
      },
      "source": [
        "xi_rho = ds.variables['xi_rho']\n",
        "eta_rho = ds.variables['eta_rho']\n",
        "time = ds.variables['time']\n",
        "s_rho = ds.variables['s_rho']\n",
        "O2 = ds.variables['O2']\n",
        "print(xi_rho)\n",
        "print(eta_rho)\n",
        "print(time)\n",
        "print(s_rho)\n",
        "print(O2)"
      ],
      "execution_count": null,
      "outputs": [
        {
          "output_type": "stream",
          "text": [
            "<class 'netCDF4._netCDF4.Variable'>\n",
            "float32 xi_rho(xi_rho)\n",
            "    long_name: x-dimension of the grid\n",
            "    standard_name: x_grid_index\n",
            "    axis: X\n",
            "    c_grid_dynamic_range: 2:181\n",
            "unlimited dimensions: \n",
            "current shape = (182,)\n",
            "filling on, default _FillValue of 9.969209968386869e+36 used\n",
            "<class 'netCDF4._netCDF4.Variable'>\n",
            "float32 eta_rho(eta_rho)\n",
            "    long_name: y-dimension of the grid\n",
            "    standard_name: y_grid_index\n",
            "    axis: Y\n",
            "    c_grid_dynamic_range: 2:310\n",
            "unlimited dimensions: \n",
            "current shape = (311,)\n",
            "filling on, default _FillValue of 9.969209968386869e+36 used\n",
            "<class 'netCDF4._netCDF4.Variable'>\n",
            "float64 time(time)\n",
            "    long_name: time since initialization\n",
            "    units: second\n",
            "    field: time, scalar, series\n",
            "    standard_name: time\n",
            "    axis: T\n",
            "unlimited dimensions: time\n",
            "current shape = (1023,)\n",
            "filling on, default _FillValue of 9.969209968386869e+36 used\n",
            "<class 'netCDF4._netCDF4.Variable'>\n",
            "float32 s_rho(s_rho)\n",
            "    long_name: S-coordinate at RHO-points\n",
            "    axis: Z\n",
            "    positive: up\n",
            "    standard_name: ocean_s_coordinate_g2\n",
            "    formula_terms: s: sc_r C: Cs_r eta: zeta depth: h depth_c: hc\n",
            "unlimited dimensions: \n",
            "current shape = (30,)\n",
            "filling on, default _FillValue of 9.969209968386869e+36 used\n",
            "<class 'netCDF4._netCDF4.Variable'>\n",
            "float32 O2(time, s_rho, eta_rho, xi_rho)\n",
            "    long_name: Oxygen\n",
            "    units: umol L-1\n",
            "    field: Oxygen, scalar, series\n",
            "    coordinates: lat_rho lon_rho\n",
            "unlimited dimensions: time\n",
            "current shape = (1023, 30, 311, 182)\n",
            "filling on, default _FillValue of 9.969209968386869e+36 used\n"
          ],
          "name": "stdout"
        }
      ]
    },
    {
      "cell_type": "code",
      "metadata": {
        "id": "xyK5YQhkoR-s",
        "colab": {
          "base_uri": "https://localhost:8080/"
        },
        "outputId": "fc255188-a395-4489-9a56-4f426409739e"
      },
      "source": [
        "print(xi_rho.dimensions)\n",
        "print(eta_rho.dimensions)\n",
        "print(time.dimensions)\n",
        "print(s_rho.dimensions)\n",
        "print(O2.dimensions)"
      ],
      "execution_count": null,
      "outputs": [
        {
          "output_type": "stream",
          "text": [
            "('xi_rho',)\n",
            "('eta_rho',)\n",
            "('time',)\n",
            "('s_rho',)\n",
            "('time', 's_rho', 'eta_rho', 'xi_rho')\n"
          ],
          "name": "stdout"
        }
      ]
    },
    {
      "cell_type": "code",
      "metadata": {
        "id": "xpHNltMSIiY0",
        "colab": {
          "base_uri": "https://localhost:8080/"
        },
        "outputId": "558a9e62-e41e-4df0-a4b0-7d5aa01ecdf2"
      },
      "source": [
        "s_rho_array = np.array(ds.variables['s_rho'][:])\n",
        "s_rho_array"
      ],
      "execution_count": null,
      "outputs": [
        {
          "output_type": "execute_result",
          "data": {
            "text/plain": [
              "array([-0.98333335, -0.95      , -0.9166667 , -0.8833333 , -0.85      ,\n",
              "       -0.81666666, -0.78333336, -0.75      , -0.71666664, -0.68333334,\n",
              "       -0.65      , -0.6166667 , -0.5833333 , -0.55      , -0.51666665,\n",
              "       -0.48333332, -0.45      , -0.41666666, -0.38333333, -0.35      ,\n",
              "       -0.31666666, -0.28333333, -0.25      , -0.21666667, -0.18333334,\n",
              "       -0.15      , -0.11666667, -0.08333334, -0.05      , -0.01666667],\n",
              "      dtype=float32)"
            ]
          },
          "metadata": {
            "tags": []
          },
          "execution_count": 243
        }
      ]
    },
    {
      "cell_type": "code",
      "metadata": {
        "id": "I-DqiOIPqrKV",
        "colab": {
          "base_uri": "https://localhost:8080/"
        },
        "outputId": "a91c3692-eef1-480d-f2e2-19a517e3d07d"
      },
      "source": [
        "ds.variables['O2'][0,s_rho_array[0],yj,xj]"
      ],
      "execution_count": null,
      "outputs": [
        {
          "output_type": "execute_result",
          "data": {
            "text/plain": [
              "masked_array(data=294.8501,\n",
              "             mask=False,\n",
              "       fill_value=1e+20,\n",
              "            dtype=float32)"
            ]
          },
          "metadata": {
            "tags": []
          },
          "execution_count": 244
        }
      ]
    },
    {
      "cell_type": "code",
      "metadata": {
        "id": "O6rSs3V0_BeD",
        "colab": {
          "base_uri": "https://localhost:8080/",
          "height": 419
        },
        "outputId": "cfd58472-758c-4732-8770-da3ded44fa59"
      },
      "source": [
        "df = pd.DataFrame(0,columns = ['O2'], index = range(time.size))\n",
        "df"
      ],
      "execution_count": null,
      "outputs": [
        {
          "output_type": "execute_result",
          "data": {
            "text/html": [
              "<div>\n",
              "<style scoped>\n",
              "    .dataframe tbody tr th:only-of-type {\n",
              "        vertical-align: middle;\n",
              "    }\n",
              "\n",
              "    .dataframe tbody tr th {\n",
              "        vertical-align: top;\n",
              "    }\n",
              "\n",
              "    .dataframe thead th {\n",
              "        text-align: right;\n",
              "    }\n",
              "</style>\n",
              "<table border=\"1\" class=\"dataframe\">\n",
              "  <thead>\n",
              "    <tr style=\"text-align: right;\">\n",
              "      <th></th>\n",
              "      <th>O2</th>\n",
              "    </tr>\n",
              "  </thead>\n",
              "  <tbody>\n",
              "    <tr>\n",
              "      <th>0</th>\n",
              "      <td>0</td>\n",
              "    </tr>\n",
              "    <tr>\n",
              "      <th>1</th>\n",
              "      <td>0</td>\n",
              "    </tr>\n",
              "    <tr>\n",
              "      <th>2</th>\n",
              "      <td>0</td>\n",
              "    </tr>\n",
              "    <tr>\n",
              "      <th>3</th>\n",
              "      <td>0</td>\n",
              "    </tr>\n",
              "    <tr>\n",
              "      <th>4</th>\n",
              "      <td>0</td>\n",
              "    </tr>\n",
              "    <tr>\n",
              "      <th>...</th>\n",
              "      <td>...</td>\n",
              "    </tr>\n",
              "    <tr>\n",
              "      <th>1018</th>\n",
              "      <td>0</td>\n",
              "    </tr>\n",
              "    <tr>\n",
              "      <th>1019</th>\n",
              "      <td>0</td>\n",
              "    </tr>\n",
              "    <tr>\n",
              "      <th>1020</th>\n",
              "      <td>0</td>\n",
              "    </tr>\n",
              "    <tr>\n",
              "      <th>1021</th>\n",
              "      <td>0</td>\n",
              "    </tr>\n",
              "    <tr>\n",
              "      <th>1022</th>\n",
              "      <td>0</td>\n",
              "    </tr>\n",
              "  </tbody>\n",
              "</table>\n",
              "<p>1023 rows × 1 columns</p>\n",
              "</div>"
            ],
            "text/plain": [
              "      O2\n",
              "0      0\n",
              "1      0\n",
              "2      0\n",
              "3      0\n",
              "4      0\n",
              "...   ..\n",
              "1018   0\n",
              "1019   0\n",
              "1020   0\n",
              "1021   0\n",
              "1022   0\n",
              "\n",
              "[1023 rows x 1 columns]"
            ]
          },
          "metadata": {
            "tags": []
          },
          "execution_count": 245
        }
      ]
    },
    {
      "cell_type": "code",
      "metadata": {
        "id": "9dP-pXkBA3ia",
        "colab": {
          "base_uri": "https://localhost:8080/"
        },
        "outputId": "b1816693-f39d-46d5-d797-621083a90117"
      },
      "source": [
        "dt = np.arange(0,ds.variables['time'].size)\n",
        "dt"
      ],
      "execution_count": null,
      "outputs": [
        {
          "output_type": "execute_result",
          "data": {
            "text/plain": [
              "array([   0,    1,    2, ..., 1020, 1021, 1022])"
            ]
          },
          "metadata": {
            "tags": []
          },
          "execution_count": 246
        }
      ]
    },
    {
      "cell_type": "code",
      "metadata": {
        "id": "m4l_vlg-BGE3",
        "colab": {
          "base_uri": "https://localhost:8080/",
          "height": 283
        },
        "outputId": "bf560168-8df0-4910-882f-165f113c9b0b"
      },
      "source": [
        "for time_index in dt:\n",
        "  df.iloc[time_index] = O2[time_index,s_rho_array[0],yj,xj]"
      ],
      "execution_count": null,
      "outputs": [
        {
          "output_type": "error",
          "ename": "RuntimeError",
          "evalue": "ignored",
          "traceback": [
            "\u001b[0;31m---------------------------------------------------------------------------\u001b[0m",
            "\u001b[0;31mRuntimeError\u001b[0m                              Traceback (most recent call last)",
            "\u001b[0;32m<ipython-input-247-6e71a4a6613b>\u001b[0m in \u001b[0;36m<module>\u001b[0;34m()\u001b[0m\n\u001b[1;32m      1\u001b[0m \u001b[0;32mfor\u001b[0m \u001b[0mtime_index\u001b[0m \u001b[0;32min\u001b[0m \u001b[0mdt\u001b[0m\u001b[0;34m:\u001b[0m\u001b[0;34m\u001b[0m\u001b[0;34m\u001b[0m\u001b[0m\n\u001b[0;32m----> 2\u001b[0;31m   \u001b[0mdf\u001b[0m\u001b[0;34m.\u001b[0m\u001b[0miloc\u001b[0m\u001b[0;34m[\u001b[0m\u001b[0mtime_index\u001b[0m\u001b[0;34m]\u001b[0m \u001b[0;34m=\u001b[0m \u001b[0mO2\u001b[0m\u001b[0;34m[\u001b[0m\u001b[0mtime_index\u001b[0m\u001b[0;34m,\u001b[0m\u001b[0ms_rho_array\u001b[0m\u001b[0;34m[\u001b[0m\u001b[0;36m0\u001b[0m\u001b[0;34m]\u001b[0m\u001b[0;34m,\u001b[0m\u001b[0myj\u001b[0m\u001b[0;34m,\u001b[0m\u001b[0mxj\u001b[0m\u001b[0;34m]\u001b[0m\u001b[0;34m\u001b[0m\u001b[0;34m\u001b[0m\u001b[0m\n\u001b[0m",
            "\u001b[0;32mnetCDF4/_netCDF4.pyx\u001b[0m in \u001b[0;36mnetCDF4._netCDF4.Variable.__getitem__\u001b[0;34m()\u001b[0m\n",
            "\u001b[0;32mnetCDF4/_netCDF4.pyx\u001b[0m in \u001b[0;36mnetCDF4._netCDF4.Variable._get\u001b[0;34m()\u001b[0m\n",
            "\u001b[0;32mnetCDF4/_netCDF4.pyx\u001b[0m in \u001b[0;36mnetCDF4._netCDF4._ensure_nc_success\u001b[0;34m()\u001b[0m\n",
            "\u001b[0;31mRuntimeError\u001b[0m: Input/output error"
          ]
        }
      ]
    },
    {
      "cell_type": "code",
      "metadata": {
        "id": "QShV73HDBPvK"
      },
      "source": [
        "df"
      ],
      "execution_count": null,
      "outputs": []
    },
    {
      "cell_type": "code",
      "metadata": {
        "id": "4dX7xwbLTEBX"
      },
      "source": [
        ""
      ],
      "execution_count": null,
      "outputs": []
    }
  ]
}